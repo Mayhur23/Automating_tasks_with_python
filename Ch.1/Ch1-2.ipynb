{
 "cells": [
  {
   "cell_type": "markdown",
   "id": "e2823668-5f29-48bb-b7ae-59e594cd285a",
   "metadata": {},
   "source": [
    "**이 실행 코드에서는 <사용자 이름> 부분에 자신의 PC에 등록된 사용자 이름을 넣어서 코드를 실행합니다**"
   ]
  },
  {
   "cell_type": "markdown",
   "id": "64af156e-2b4b-44c1-acd0-1454fe2f054c",
   "metadata": {},
   "source": [
    "### [01] 폴더나 파일 유무 확인하기"
   ]
  },
  {
   "cell_type": "code",
   "execution_count": null,
   "id": "2fba53de-1812-4c00-af65-6b8b8589de76",
   "metadata": {},
   "outputs": [],
   "source": [
    "import os\n",
    "\n",
    "if not os.path.exists('C:\\\\users\\\\<사용자 이름>\\\\desktop\\\\mystudy\\\\Book'):\n",
    "  print('폴더 없음')\n",
    "else:\n",
    "  print('폴더 있음')"
   ]
  },
  {
   "cell_type": "markdown",
   "id": "ce305f3a-d82e-4a80-8bd2-363da53fad78",
   "metadata": {},
   "source": [
    "### [02] 특정 폴더 내 목록 확인하기"
   ]
  },
  {
   "cell_type": "code",
   "execution_count": null,
   "id": "062fba04-256d-4f75-8972-217707a8609f",
   "metadata": {},
   "outputs": [],
   "source": [
    "lists = os.listdir('C:\\\\users\\\\<사용자 이름>\\\\desktop\\\\mystudy\\\\Book’)\n",
    "print(lists)"
   ]
  },
  {
   "cell_type": "markdown",
   "id": "113a1101-9d15-4a5a-abb9-f399df93114f",
   "metadata": {},
   "source": [
    "### [03] 폴더 생성하기"
   ]
  },
  {
   "cell_type": "code",
   "execution_count": null,
   "id": "a49c7ad9-6c5f-48ce-a2ba-7d32e93eca55",
   "metadata": {},
   "outputs": [],
   "source": [
    "if not os.path.exists('C:\\\\users\\\\<사용자 이름>\\\\desktop\\\\mystudy\\\\newBook'):\n",
    "  os.makedirs('C:\\\\users\\\\<사용자 이름>\\\\desktop\\\\mystudy\\\\newBook')"
   ]
  },
  {
   "cell_type": "markdown",
   "id": "fafecc44-03da-45e5-9dc6-682b9d14ca43",
   "metadata": {},
   "source": [
    "### [04] 폴더 이름 변경하기"
   ]
  },
  {
   "cell_type": "code",
   "execution_count": null,
   "id": "8e8f6f06-68d7-4191-a151-483cd2f31c61",
   "metadata": {},
   "outputs": [],
   "source": [
    "if os.path.exists('C:\\\\users\\\\<사용자 이름>\\\\desktop\\\\mystudy\\\\Book'):\n",
    "  os.rename('C:\\\\users\\\\<사용자 이름>\\\\desktop\\\\mystudy\\\\Book', 'C:\\\\users\\\\<사용자 이름>\\\\desktop\\\\mystudy\\\\2023')"
   ]
  },
  {
   "cell_type": "code",
   "execution_count": null,
   "id": "cf04088f-416c-451a-ab80-927f5928d6b4",
   "metadata": {},
   "outputs": [],
   "source": [
    "if os.path.exists('C:\\\\users\\\\<사용자 이름>\\\\desktop\\\\mystudy\\\\2023'):\n",
    "  os.rename('C:\\\\users\\\\<사용자 이름>\\\\desktop\\\\mystudy\\\\2023', 'C:\\\\users\\\\<사용자 이름>\\\\desktop\\\\newfolder\\\\2024')"
   ]
  },
  {
   "cell_type": "markdown",
   "id": "0ef15a52-b6bd-4218-9dc8-17fbbe1292b1",
   "metadata": {},
   "source": [
    "### [05] 폴더 복사하기"
   ]
  },
  {
   "cell_type": "code",
   "execution_count": null,
   "id": "cb3f0054-b648-4386-9ea3-995075070b87",
   "metadata": {},
   "outputs": [],
   "source": [
    "import shutil\n",
    "path_from = 'C:\\\\users\\\\<사용자 \\\\desktop\\\\mystudy\\\\newBook' # 복사 대상\n",
    "path_to = 'C:\\\\users\\\\<사용자 이름>\\\\desktop\\\\newfolder\\\\2024\\\\10월\\\\copynewbook' # 복사 위치\n",
    "if not os.path.exists(path_to):\n",
    "  shutil.copytree(path_from, path_to)"
   ]
  },
  {
   "cell_type": "markdown",
   "id": "2d5b67ed-be92-4070-a5c2-548ec8eaec39",
   "metadata": {},
   "source": [
    "### [06] 폴더 삭제하기"
   ]
  },
  {
   "cell_type": "code",
   "execution_count": null,
   "id": "2e77bd02-60a3-49d3-93eb-028dd68f7029",
   "metadata": {},
   "outputs": [],
   "source": [
    "path = 'C:\\\\users\\\\<사용자 이름>\\\\desktop\\\\newfolder\\\\2024\\\\10월\\\\copynewbook'\n",
    "if os.path.exists(path):\n",
    "  shutil.rmtree(path)"
   ]
  }
 ],
 "metadata": {
  "kernelspec": {
   "display_name": "Python 3 (ipykernel)",
   "language": "python",
   "name": "python3"
  },
  "language_info": {
   "codemirror_mode": {
    "name": "ipython",
    "version": 3
   },
   "file_extension": ".py",
   "mimetype": "text/x-python",
   "name": "python",
   "nbconvert_exporter": "python",
   "pygments_lexer": "ipython3",
   "version": "3.11.7"
  }
 },
 "nbformat": 4,
 "nbformat_minor": 5
}
