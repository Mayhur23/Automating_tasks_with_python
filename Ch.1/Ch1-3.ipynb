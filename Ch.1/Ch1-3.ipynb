{
 "cells": [
  {
   "cell_type": "markdown",
   "id": "5e9daa45-e91b-4e54-b460-96a885921670",
   "metadata": {},
   "source": [
    "**이 실행 코드에서는 <사용자 이름> 부분에 자신의 PC에 등록된 사용자 이름을 넣어서 코드를 실행합니다**"
   ]
  },
  {
   "cell_type": "markdown",
   "id": "b4a6ccda-6966-47fb-b35a-7c3e0f40b765",
   "metadata": {},
   "source": [
    "### [01] 파일 복사하기"
   ]
  },
  {
   "cell_type": "code",
   "execution_count": null,
   "id": "86b98290-9250-4d5f-b0fa-cff4467c9f38",
   "metadata": {},
   "outputs": [],
   "source": [
    "shutil.copy('C:/Users/<사용자 이름>/desktop/mystudy/example.txt', 'C:/Users/<사용자 이름>/desktop/mystudy/example_copied.txt')"
   ]
  },
  {
   "cell_type": "markdown",
   "id": "f7c5bf32-99c0-4273-a95e-894336caf846",
   "metadata": {},
   "source": [
    "### [02] 파일 이동하기"
   ]
  },
  {
   "cell_type": "code",
   "execution_count": null,
   "id": "448fbc83-ad6e-4241-b96a-1d86747d0ba3",
   "metadata": {},
   "outputs": [],
   "source": [
    "file_from = 'C:/Users/<사용자 이름>/desktop/mystudy/example_copied.txt'\n",
    "file_to = 'C:/Users/<사용자 이름>/desktop/mystudy/newBook/2024/example_copied.txt'\n",
    "shutil.move(file_from, file_to)"
   ]
  },
  {
   "cell_type": "code",
   "execution_count": null,
   "id": "a4e049f0-a9ab-4a23-8afd-b2d8761c344f",
   "metadata": {},
   "outputs": [],
   "source": [
    "file_from = 'C:/Users/<사용자 이름>/desktop/mystudy/example_copied.txt'\n",
    "file_to = 'C:/Users/<사용자 이름>/desktop/mystudy/newBook/2024/example_copied2.txt'\n",
    "shutil.move(file_from, file_to)"
   ]
  },
  {
   "cell_type": "markdown",
   "id": "44b383a0-f903-41db-91f9-97f6363bf061",
   "metadata": {},
   "source": [
    "### [03] 파일 삭제하기"
   ]
  },
  {
   "cell_type": "code",
   "execution_count": null,
   "id": "e8a32e21-66b2-47c3-84b9-6a623da7c724",
   "metadata": {},
   "outputs": [],
   "source": [
    "if os.path.exists('C:/Users/<사용자 이름>/desktop/mystudy/newBook/2024/example_copied2.txt'):\n",
    " os.remove('C:/Users/<사용자 이름>/desktop/mystudy/newBook/2024/example_copied2.txt')\n",
    "\n",
    "\n",
    "if os.path.exists('C:/Users/<사용자 이름>/desktop/mystudy/example.txt'):\n",
    " os.remove('C:/Users/<사용자 이름>/desktop/mystudy/example.txt')"
   ]
  }
 ],
 "metadata": {
  "kernelspec": {
   "display_name": "Python 3 (ipykernel)",
   "language": "python",
   "name": "python3"
  },
  "language_info": {
   "codemirror_mode": {
    "name": "ipython",
    "version": 3
   },
   "file_extension": ".py",
   "mimetype": "text/x-python",
   "name": "python",
   "nbconvert_exporter": "python",
   "pygments_lexer": "ipython3",
   "version": "3.11.7"
  }
 },
 "nbformat": 4,
 "nbformat_minor": 5
}
