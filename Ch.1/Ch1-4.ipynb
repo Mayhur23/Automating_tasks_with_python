{
 "cells": [
  {
   "cell_type": "markdown",
   "id": "dfbacbc7-f59c-4b10-a84c-21f32bf59897",
   "metadata": {},
   "source": [
    "### [01] 텍스트 파일 읽기"
   ]
  },
  {
   "cell_type": "code",
   "execution_count": null,
   "id": "031db1e1-ea7d-4fd6-9a84-e2e2b9d90138",
   "metadata": {},
   "outputs": [],
   "source": [
    "# ➊ 읽기 모드 'r' ➋ 인코딩 방식 'utf-8'\n",
    "file = open('example.txt', 'r', encoding = 'utf-8')\n",
    "content = file.read()\n",
    "# ➌ 파일 닫기\n",
    "file.close()\n",
    "# ➍ 읽은 파일 내용 출력하기\n",
    "print(content)"
   ]
  },
  {
   "cell_type": "code",
   "execution_count": null,
   "id": "7e88dfe8-713b-4b51-ae96-f7c91b52da05",
   "metadata": {},
   "outputs": [],
   "source": [
    "with open('example.txt', 'r', encoding = 'utf-8') as file:\n",
    " content = file.read()\n",
    " print(content)"
   ]
  },
  {
   "cell_type": "markdown",
   "id": "de8f9295-3bd1-4d0a-99c4-950655e37775",
   "metadata": {},
   "source": [
    "### [02] 텍스트 파일 쓰기"
   ]
  },
  {
   "cell_type": "code",
   "execution_count": null,
   "id": "f41fcc60-49ff-4dc9-a23e-41ce910f5004",
   "metadata": {},
   "outputs": [],
   "source": [
    "# 쓰기 모드 'w', 인코딩 방식 ' utf-8'\n",
    "with open('example_w.txt', 'w', encoding = 'utf-8') as file:\n",
    "  file.write('Hello, \\n world!')"
   ]
  },
  {
   "cell_type": "markdown",
   "id": "c7c346ae-1bab-4848-ad15-c5591c897f02",
   "metadata": {},
   "source": [
    "### [03] 텍스트 파일을 한 줄씩 읽고 쓰기"
   ]
  },
  {
   "cell_type": "markdown",
   "id": "e02f9833-d69a-49e4-9497-9d75644f5bf5",
   "metadata": {},
   "source": [
    "#### <span style=\"color: blue;\"><u>**한 줄씩 읽기**</u></span>"
   ]
  },
  {
   "cell_type": "markdown",
   "id": "504c81dc-c789-48b3-94b4-697752de80a6",
   "metadata": {},
   "source": [
    "##### <u>**readline( ) : 파일의 현재 위치에서 한 줄씩만 읽기**</u>"
   ]
  },
  {
   "cell_type": "code",
   "execution_count": null,
   "id": "1413e00f-54d9-4ea2-97df-1b19a496de23",
   "metadata": {},
   "outputs": [],
   "source": [
    "with open('example_w.txt', 'r') as file:\n",
    "  line1 = file.readline() # 파일의 첫 줄 읽기\n",
    "  line2 = file.readline() # 파일의 그 다음 줄 읽기\n",
    "\n",
    "print(line1, line2)"
   ]
  },
  {
   "cell_type": "code",
   "execution_count": null,
   "id": "397d770d-5c5a-46bc-b6ba-294b8b00f874",
   "metadata": {},
   "outputs": [],
   "source": [
    "with open('example_w.txt', 'r') as file:\n",
    "  line = file.readline() # ➊ 첫 줄은 무조건 읽어서 line에 할당\n",
    "\n",
    "  while line: # ➋ 파일 끝에 도달하기 전까지 아래의 코드를 수행\n",
    "    print(line.strip())  # ➌ 줄바꿈 문자를 제거하고 읽어온 줄을 출력\n",
    "    line = file.readline() # ➍ 다음 줄을 읽기"
   ]
  },
  {
   "cell_type": "markdown",
   "id": "0a66e26b-4ff1-4d03-9c18-23d0cbe6885b",
   "metadata": {},
   "source": [
    "##### <u>**readlines( ) : 모든 줄을 읽어 리스트로 반환하기**</u>"
   ]
  },
  {
   "cell_type": "code",
   "execution_count": null,
   "id": "5f8b71fa-db44-416b-8713-02334b8d95d1",
   "metadata": {},
   "outputs": [],
   "source": [
    "with open('example_w.txt', 'r') as file:\n",
    " lines = file.readlines() # 파일의 전체의 내용 읽기\n",
    " print(lines) # 리스트형으로 저장된 전체 내용 출력"
   ]
  },
  {
   "cell_type": "code",
   "execution_count": null,
   "id": "6da617a2-a631-4cfb-ae0b-86255c3d3751",
   "metadata": {},
   "outputs": [],
   "source": [
    "with open('example_w.txt', 'r') as file:\n",
    " lines = file.readlines()\n",
    "\n",
    " for line in lines: # 리스트의 요소를 하나씩 순회하며 아래의 코드를 실행\n",
    "   print(line.strip())  # 줄바꿈 문자를 제거하고 읽어온 줄을 출력"
   ]
  },
  {
   "cell_type": "markdown",
   "id": "afeb6e7f-94b6-46ba-8fc5-e7ad1f96e930",
   "metadata": {},
   "source": [
    "#### <span style=\"color: blue;\"><u>**한 줄씩 쓰기**</u></span>"
   ]
  },
  {
   "cell_type": "markdown",
   "id": "0d4f78e2-294b-4274-8d85-bf26615a818b",
   "metadata": {},
   "source": [
    "##### <u>**write( ) : 파일에 단일 문자열을 한 번에 쓰기**</u>"
   ]
  },
  {
   "cell_type": "code",
   "execution_count": null,
   "id": "3eccedad-55c9-4fcf-8771-d269df07cc44",
   "metadata": {},
   "outputs": [],
   "source": [
    "# write()으로 파일에 쓰기\n",
    "with open('example_line.txt', 'w') as file:\n",
    "  file.write('Hello, world!1')\n",
    "  file.write('Hello, world!2')"
   ]
  },
  {
   "cell_type": "code",
   "execution_count": null,
   "id": "fc31c0b8-6727-49a5-9f2f-1f5a37f425e4",
   "metadata": {},
   "outputs": [],
   "source": [
    "with open('example_line2.txt', 'w') as file:\n",
    "  file.write('Hello, world!1\\n')\n",
    "  file.write('Hello, world!2')"
   ]
  },
  {
   "cell_type": "code",
   "execution_count": null,
   "id": "83579853-b7ce-4f9f-9d08-5f488c8789a4",
   "metadata": {},
   "outputs": [],
   "source": [
    "# 각 줄마다 입력할 내용을 리스트로 저장\n",
    "lines = ['Hello, world!', 'Hello, again!']\n",
    "\n",
    "with open('example_lines.txt', 'w') as file:\n",
    " for line in lines: # 저장된 리스트의 각 요소에 접근하여 아래 작업을 실행\n",
    "   file.write(f'{line}\\n') # 내용을 파일에 쓰고 줄 바꿈"
   ]
  },
  {
   "cell_type": "markdown",
   "id": "8952de24-819c-43b1-9eb6-69d82ec4041a",
   "metadata": {},
   "source": [
    "**<한 걸음 더!> 문자열 포매팅과 f-string이란?**"
   ]
  },
  {
   "cell_type": "code",
   "execution_count": null,
   "id": "bca89a89-0c79-40c3-840c-a5d0304d1aa3",
   "metadata": {},
   "outputs": [],
   "source": [
    "name = '지형'\n",
    "age = 28\n",
    "print(f'제 이름은 {name}이고 나이는 {age}세입니다.')\n",
    "print(f'5 곱하기 4는 {5 * 4}.')"
   ]
  },
  {
   "cell_type": "markdown",
   "id": "9032a27e-ad4a-49a7-8d4d-7afd8dd8ef16",
   "metadata": {},
   "source": [
    "**<한 걸음 더!> 주피터 노트북에서 바로 txt 파일 내용 확인하기**"
   ]
  },
  {
   "cell_type": "code",
   "execution_count": null,
   "id": "024a7825-c595-49f1-9074-5c17786ff5e8",
   "metadata": {},
   "outputs": [],
   "source": [
    "!type \"example_line.txt\""
   ]
  },
  {
   "cell_type": "code",
   "execution_count": null,
   "id": "e0994970-6898-44c7-9c25-b74403e2612b",
   "metadata": {},
   "outputs": [],
   "source": [
    "!type \"C:\\\\users\\\\<사용자 이름>\\\\desktop\\\\mystudy\\\\example_line.txt\""
   ]
  },
  {
   "cell_type": "markdown",
   "id": "b181b7c8-8247-44b5-8d3d-fccae81720e9",
   "metadata": {},
   "source": [
    "**<u>writelines( ) : 여러 문자열을 순차적으로 파일에 쓰기</u>**"
   ]
  },
  {
   "cell_type": "code",
   "execution_count": null,
   "id": "b2df8a56-bb61-4ebf-963c-e4609fd87155",
   "metadata": {},
   "outputs": [],
   "source": [
    "# 각 줄마다 입력할 내용을 리스트로 저장\n",
    "lines = ['Hello, world!\\n', 'Hello, again!']\n",
    "with open('example_lines.txt', 'w') as file:\n",
    " file.writelines(lines) # 리스트로 저장된 lines 전체를 파일에 쓰기"
   ]
  },
  {
   "cell_type": "markdown",
   "id": "b91c06d5-7c6a-4c83-bddd-1535a5fbba5a",
   "metadata": {},
   "source": [
    "### [04] 파일을 읽거나 쓰기"
   ]
  },
  {
   "cell_type": "markdown",
   "id": "dbc1b8d6-a55f-41a4-be0c-00d4a86e64ea",
   "metadata": {},
   "source": [
    "#### <span style=\"color: blue;\">파일 포인터의 동작 원리</span>"
   ]
  },
  {
   "cell_type": "code",
   "execution_count": null,
   "id": "e8dffb4e-dfe6-4b48-805c-e9fc7e7d5c69",
   "metadata": {},
   "outputs": [],
   "source": [
    "with open('example_lines.txt', 'r+') as f:\n",
    "  content = f.read()  # ➊ 파일의 모든 내용을 읽기\n",
    "  print('Before:', content)\n",
    "\n",
    "  f.seek(0)  # ➋ 파일 포인터를 파일 시작 부분으로 이동\n",
    "  f.write('We can change it.\\n')  # ➌ 파일 내용 덮어쓰기\n",
    "  content = f.read() # ➍ 현재 위치에서 파일 읽기\n",
    "  print('After:', content)\n",
    "\n",
    "  f.seek(0) # ➎ 파일 포인터를 파일 시작 부분으로 이동\n",
    "  content = f.read()  # ➏ 현재 위치에서 다시 파일 읽기\n",
    "  print('Final:', content) "
   ]
  }
 ],
 "metadata": {
  "kernelspec": {
   "display_name": "Python 3 (ipykernel)",
   "language": "python",
   "name": "python3"
  },
  "language_info": {
   "codemirror_mode": {
    "name": "ipython",
    "version": 3
   },
   "file_extension": ".py",
   "mimetype": "text/x-python",
   "name": "python",
   "nbconvert_exporter": "python",
   "pygments_lexer": "ipython3",
   "version": "3.11.7"
  }
 },
 "nbformat": 4,
 "nbformat_minor": 5
}
