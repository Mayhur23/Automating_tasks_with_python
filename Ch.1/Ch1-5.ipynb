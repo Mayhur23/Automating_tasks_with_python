{
 "cells": [
  {
   "cell_type": "markdown",
   "id": "241544bb-7c72-44a5-87e7-e98088438b0c",
   "metadata": {},
   "source": [
    "### [01] csv 파일 쓰기"
   ]
  },
  {
   "cell_type": "code",
   "execution_count": null,
   "id": "d9e77b40-ea0c-4082-a9f8-e5781590ea19",
   "metadata": {},
   "outputs": [],
   "source": [
    "import csv\n",
    "\n",
    "# ➊ csv 파일을 쓰기 모드 w로 열기\n",
    "# 인코딩 cp949, 라인 종료 문자 설정 newline = ''\n",
    "with open('example.csv', 'w', encoding='cp949', newline='') as file: # ➋ with문 사용\n",
    "  csv_writer = csv.writer(file) # ➌ 파일 객체를 csv.writer의 인자로 전달해 새로운 writer 객체를 생성\n",
    "\n",
    "\n",
    "# ➍ 리스트나 튜플 형태로 데이터 입력\n",
    "  csv_writer.writerow(['이름', '나이', '직업']) # 헤더 작성\n",
    "  csv_writer.writerow(['박은영', 30, '엔지니어']) # 데이터 행 추가\n",
    "  csv_writer.writerow(['김세빛', 25, '디자이너'])\n",
    "  csv_writer.writerow(['안희수', 35, '의사'])\n",
    "  csv_writer.writerow(['정현욱', 40, '선생님'])\n",
    "  csv_writer.writerow(['강찬영', 22, '학생'])"
   ]
  },
  {
   "cell_type": "markdown",
   "id": "5af0a77d-4148-4e07-9844-5f4f6802eaf4",
   "metadata": {},
   "source": [
    "### [02] csv 파일 읽기"
   ]
  },
  {
   "cell_type": "code",
   "execution_count": null,
   "id": "613167bf-327f-41e9-8a32-99ca77ab0ba3",
   "metadata": {},
   "outputs": [],
   "source": [
    "# csv 파일을 읽기모드 'r'로 열기, 인코딩 'cp949'\n",
    "with open('example.csv', 'r', encoding='cp949') as file:\n",
    "  csv_reader = csv.reader(file) # 파일 객체를 csv.reader의 인자로 전달해 새로운 reader 객체 생성\n",
    "  for row in csv_reader: # 파일 행별로 읽기\n",
    "    print(row)"
   ]
  },
  {
   "cell_type": "markdown",
   "id": "37ae3eae-a35a-46be-93d6-35b221b64354",
   "metadata": {},
   "source": [
    "#### <span style=\"color: blue;\"><u>**딕셔너리 형태로 읽기**</u></span>"
   ]
  },
  {
   "cell_type": "code",
   "execution_count": null,
   "id": "7f66c8e6-cfc5-458a-ae63-1af4758aa755",
   "metadata": {},
   "outputs": [],
   "source": [
    "with open('example.csv', 'r', encoding='cp949') as file:\n",
    "  # ➊ csv.DictReader 클래스의 객체 생성: 파일의 첫 번째 행을 헤더로 사용하여 나머지 행을 사전 형태로 읽기\n",
    "  csv_dict_reader = csv.DictReader(file)\n",
    "\n",
    "\n",
    "  # ➋ csv_dict_reader 객체를 순회하면서 각 행을 출력\n",
    "  for row in csv_dict_reader:\n",
    "    print(row)"
   ]
  },
  {
   "cell_type": "markdown",
   "id": "55237487-a293-43d5-8453-ad9bb764d4ab",
   "metadata": {},
   "source": [
    "#### <span style=\"color: blue;\"><u>**헤더 건너뛰기**</u></span>"
   ]
  },
  {
   "cell_type": "code",
   "execution_count": null,
   "id": "6207fe1d-2d2c-4541-b537-e58a33f5f5a5",
   "metadata": {},
   "outputs": [],
   "source": [
    "with open('example.csv', 'r', encoding='cp949') as file:\n",
    "  csv_dict_reader = csv.DictReader(file)\n",
    "  for row in csv_dict_reader:\n",
    "  # ➊ 각 행에서 '이름', '나이', '직업' 키에 해당하는 값 출력\n",
    "    print(row['이름'], row['나이'], row['직업'])"
   ]
  },
  {
   "cell_type": "markdown",
   "id": "848a7cc5-9061-4c72-a412-150e0c828103",
   "metadata": {},
   "source": [
    "#### <span style=\"color: blue;\"><u>**다른 구분자로 읽기/쓰기**</u></span>"
   ]
  },
  {
   "cell_type": "code",
   "execution_count": null,
   "id": "0478037b-b768-46dc-a382-707f6093f369",
   "metadata": {},
   "outputs": [],
   "source": [
    "with open('example.tsv', 'r', encoding='utf-8') as file:\n",
    "  # csv.reader 객체 생성, 구분자를 탭('\\t')으로 지정\n",
    "  csv_reader = csv.reader(file, delimiter='\\t')\n",
    "\n",
    "\n",
    "  # csv_reader 객체를 순회하면서 각 행을 출력 \n",
    "  for row in csv_reader:\n",
    "    print(row)"
   ]
  },
  {
   "cell_type": "markdown",
   "id": "26270676-39e4-42fe-bed6-a09e6e169ee3",
   "metadata": {},
   "source": [
    "#### <span style=\"color: blue;\"><u>**다른 따옴표 문자로 읽기/쓰기**</u></span>"
   ]
  },
  {
   "cell_type": "code",
   "execution_count": null,
   "id": "e715f118-cf5e-4b76-8bf3-1981f82c28ba",
   "metadata": {},
   "outputs": [],
   "source": [
    "with open('example2.csv', 'r', encoding='cp949') as file:\n",
    "  # csv.reader 객체 생성\n",
    "  csv_reader = csv.reader(file)\n",
    "  for row in csv_reader:\n",
    "    print(row)"
   ]
  },
  {
   "cell_type": "code",
   "execution_count": null,
   "id": "a4f27245-11d8-466e-9cbe-ca421a140185",
   "metadata": {},
   "outputs": [],
   "source": [
    "with open('example2.csv', 'r', encoding='cp949') as file:\n",
    "  # csv.reader 객체 생성, quotechar를 작은따옴표 '로 설정\n",
    "  csv_reader = csv.reader(file, quotechar=\"'\")\n",
    "  for row in csv_reader:\n",
    "    print(row)"
   ]
  }
 ],
 "metadata": {
  "kernelspec": {
   "display_name": "Python 3 (ipykernel)",
   "language": "python",
   "name": "python3"
  },
  "language_info": {
   "codemirror_mode": {
    "name": "ipython",
    "version": 3
   },
   "file_extension": ".py",
   "mimetype": "text/x-python",
   "name": "python",
   "nbconvert_exporter": "python",
   "pygments_lexer": "ipython3",
   "version": "3.11.7"
  }
 },
 "nbformat": 4,
 "nbformat_minor": 5
}
