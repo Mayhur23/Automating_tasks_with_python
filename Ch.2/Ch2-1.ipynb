{
 "cells": [
  {
   "cell_type": "markdown",
   "id": "447807ad-ddcb-4ddd-b908-a630af7aaa51",
   "metadata": {},
   "source": [
    "### [01] OpenPyXL 라이브러리 설치하기"
   ]
  },
  {
   "cell_type": "code",
   "execution_count": null,
   "id": "0350370e-493c-425a-8733-f34f3fe11c85",
   "metadata": {},
   "outputs": [],
   "source": [
    "pip install openpyxl"
   ]
  },
  {
   "cell_type": "markdown",
   "id": "635b5af9-1acf-4e2a-bffd-884d289d3249",
   "metadata": {},
   "source": [
    "### [02] 엑셀에 데이터 입력하고 확인해보기"
   ]
  },
  {
   "cell_type": "code",
   "execution_count": 1,
   "id": "4ca2ec1d-5ad3-4a5b-a066-369f20a2d019",
   "metadata": {},
   "outputs": [],
   "source": [
    "from openpyxl import Workbook\n",
    "# ➊ Workbook 객체 생성\n",
    "wb= Workbook()\n",
    "# ➋ 현재 활성화된 워크 시트 선택\n",
    "ws = wb.active\n",
    "# ➌ 시트 제목을 '수강생_정보'로 변경\n",
    "ws.title = '수강생_정보'\n",
    "# ➍ A1셀에 '이철수' 입력\n",
    "ws['A1'] = '이철수'\n",
    "# ➎ '수강생_리스트.xlsx'로 파일 저장\n",
    "wb.save('수강생_리스트.xlsx')\n",
    "# ➏ 워크북 닫기\n",
    "wb.close()"
   ]
  },
  {
   "cell_type": "markdown",
   "id": "b0d0c319-9382-4e76-a866-cf14cff7cf9d",
   "metadata": {},
   "source": [
    "### [03] 한 행에 데이터 입력하고 새 시트 추가하기"
   ]
  },
  {
   "cell_type": "code",
   "execution_count": 2,
   "id": "d202b7e2-87f3-4582-9156-00ba5a08b368",
   "metadata": {},
   "outputs": [],
   "source": [
    "from openpyxl import Workbook\n",
    "\n",
    "wb = Workbook()\n",
    "ws = wb.active\n",
    "ws.title = '수강생_정보'\n",
    "# ➊ 헤더(열 제목) 리스트\n",
    "column = ['번호', '이름', '과목']\n",
    "# ➋ 첫 행에 헤더 입력\n",
    "ws.append(column)\n",
    "# ➌ 두 번째 행에 데이터 추가\n",
    "row = [1, '이철수', '수학']\n",
    "ws.append(row)\n",
    "# ➍ 시트 추가\n",
    "wb.create_sheet('중간평가')\n",
    "wb.create_sheet('기말평가')\n",
    "wb.save('수강생_리스트.xlsx')\n",
    "wb.close()"
   ]
  },
  {
   "cell_type": "markdown",
   "id": "ff55539b-674e-4d32-b157-a5528bfc1611",
   "metadata": {},
   "source": [
    "### [04] 여러 행에 데이터 입력하기"
   ]
  },
  {
   "cell_type": "code",
   "execution_count": 4,
   "id": "7bd4f2b7-0604-4cea-8b71-2b27a51dc620",
   "metadata": {},
   "outputs": [],
   "source": [
    "from openpyxl import Workbook\n",
    "\n",
    "wb = Workbook()\n",
    "ws = wb.active\n",
    "ws.title = '수강생_정보'\n",
    "column = ['번호', '이름', '과목']\n",
    "ws.append(column)\n",
    "# ➊ 행 단위로 추가할 데이터 리스트 생성\n",
    "row = [[1, '이철수', '수학'], [2, '최학준', '컴퓨터'], [3, '김미소', '영어']]\n",
    "# ➋ 리스트를 순회하며 행별로 데이터 입력\n",
    "for data in row:\n",
    " ws.append(data)\n",
    "\n",
    "wb.save('수강생_리스트.xlsx')\n",
    "wb.close()"
   ]
  },
  {
   "cell_type": "markdown",
   "id": "5f8da53c-0d2d-44b0-abbc-ce16d289e7c4",
   "metadata": {},
   "source": [
    "### [05] 열 단위로 데이터 입력하기"
   ]
  },
  {
   "cell_type": "markdown",
   "id": "5582f5c5-ff17-4c75-ba0c-b557a545ea22",
   "metadata": {},
   "source": [
    "#### <span style=\"color: blue;\"><u>**cell( ) : 특정 셀에 접근하여 값 설정하기**</u></span>"
   ]
  },
  {
   "cell_type": "code",
   "execution_count": 6,
   "id": "bacf67d9-a5ee-4b98-9d49-9f19658be28f",
   "metadata": {},
   "outputs": [],
   "source": [
    "wb = Workbook()\n",
    "ws = wb.active\n",
    "ws.title = '수강생_정보'\n",
    "# ➊ 열 단위로 입력할 데이터 리스트 생성\n",
    "data = [ '이철수', '김미소', '최학준' ]\n",
    "# ➋ for문으로 리스트를 순회하며 각 요소와 해당 인덱스를 함께 가져와 반복 처리\n",
    "for i, value in enumerate(data):\n",
    "  # ➌ 'A'열의 각 셀에 순서대로 접근하여 데이터를 입력\n",
    "  ws.cell(row=i+1, column=1, value=value)\n",
    "\n",
    "wb.save('수강생_리스트.xlsx')"
   ]
  },
  {
   "cell_type": "markdown",
   "id": "91d9f935-ab6f-4708-9b3a-e9205fe951e0",
   "metadata": {},
   "source": [
    "<u>**<한 걸음 더!> enumerate( )의 동작 원리가 궁금해요**</u>"
   ]
  },
  {
   "cell_type": "code",
   "execution_count": 8,
   "id": "5caa4ad4-f94c-44b2-adb8-de654e133d45",
   "metadata": {},
   "outputs": [
    {
     "name": "stdout",
     "output_type": "stream",
     "text": [
      "0 사과\n",
      "1 바나나\n",
      "2 딸기\n"
     ]
    }
   ],
   "source": [
    "fruits = ['사과', '바나나', '딸기']\n",
    "for idx, fruit in enumerate(fruits):\n",
    " print(idx, fruit)"
   ]
  },
  {
   "cell_type": "markdown",
   "id": "e9c5c00f-4675-4653-935c-ae77272cfbdb",
   "metadata": {},
   "source": [
    "#### <span style=\"color: blue;\"><u>**ws[A1] : 셀 주소 지정 방식 활용하기**</u></span>"
   ]
  },
  {
   "cell_type": "code",
   "execution_count": 9,
   "id": "1bb4b632-d872-4c47-84fc-0c450931d68e",
   "metadata": {},
   "outputs": [],
   "source": [
    "from openpyxl.utils import get_column_letter\n",
    "\n",
    "wb = Workbook()\n",
    "ws = wb.active\n",
    "ws.title = '수강생_정보'\n",
    "data = [ '이철수', '김미소', '최학준' ]\n",
    "\n",
    "# ➊ enumerate을 사용하여 리스트의 인덱스와 값 가져오기\n",
    "for i, value in enumerate(data):\n",
    "  # ➋ f-string을 사용해 셀 주소를 지정하고 값을 할당\n",
    "  ws[f'B{i+1}'] = value\n",
    "\n",
    "wb.save('수강생_리스트.xlsx')"
   ]
  },
  {
   "cell_type": "markdown",
   "id": "5c915467-582e-443d-85ab-9be8057090c2",
   "metadata": {},
   "source": [
    "<u>**<한 걸음 더!> 엑셀 열 이름을 번호로 사용할 순 없을까요?**</u>"
   ]
  },
  {
   "cell_type": "code",
   "execution_count": 10,
   "id": "b9b90435-fb86-431f-85e0-c4d50be6832a",
   "metadata": {},
   "outputs": [
    {
     "name": "stdout",
     "output_type": "stream",
     "text": [
      "열 번호 16의 열이름: P\n",
      "열 이름 AB의 열 번호: 28\n"
     ]
    }
   ],
   "source": [
    "from openpyxl.utils.cell import get_column_letter, column_index_from_string\n",
    "\n",
    "# 열 이름 얻기\n",
    "index = 16\n",
    "print('열 번호 16의 열이름:', get_column_letter(index))\n",
    "# 열 번호 얻기\n",
    "print('열 이름 AB의 열 번호:', column_index_from_string('AB'))"
   ]
  },
  {
   "cell_type": "markdown",
   "id": "2809cf20-9fe5-47fb-a7a1-3f62bba51f44",
   "metadata": {},
   "source": [
    "#### <span style=\"color: blue;\"><u>**iter_cols( ) : 특정 범위의 열을 순회하기**</u></span>"
   ]
  },
  {
   "cell_type": "code",
   "execution_count": 11,
   "id": "40262596-33b5-4ceb-a221-99d92d91d86a",
   "metadata": {},
   "outputs": [],
   "source": [
    "from openpyxl import Workbook\n",
    "\n",
    "wb = Workbook()\n",
    "ws = wb.active\n",
    "ws.title = '수강생_정보'\n",
    "data = [ ['이철수', '김미소', '최학준'], ['메이허', '브라이스유', '박현규'] ]\n",
    "\n",
    "# ➊ iter_cols()로 특정 범위의 반복할 수 있는 객체 생성\n",
    "data_cells = ws.iter_cols(min_col=1, max_col=2, min_row=1, max_row=3)\n",
    "\n",
    "# ➋ 지정된 셀을 순회하며 데이터를 입력\n",
    "for col_idx, col_cells in enumerate(data_cells): # ➌ data_cells에서 열을 순차적으로 순회\n",
    "  for row_idx, cell in enumerate(col_cells): # ➍ 현재 열인 col_cells에서 각 행을 순차적으로 순회\n",
    "    cell.value = data[col_idx][row_idx] # ➎ cell.value 속성으로 셀에 값 입력\n",
    "\n",
    "wb.save('수강생_리스트.xlsx')"
   ]
  }
 ],
 "metadata": {
  "kernelspec": {
   "display_name": "Python 3 (ipykernel)",
   "language": "python",
   "name": "python3"
  },
  "language_info": {
   "codemirror_mode": {
    "name": "ipython",
    "version": 3
   },
   "file_extension": ".py",
   "mimetype": "text/x-python",
   "name": "python",
   "nbconvert_exporter": "python",
   "pygments_lexer": "ipython3",
   "version": "3.11.7"
  }
 },
 "nbformat": 4,
 "nbformat_minor": 5
}
