{
 "cells": [
  {
   "cell_type": "markdown",
   "id": "aa6ed41c-d726-495d-81e4-f9bc7b225c93",
   "metadata": {},
   "source": [
    "### [01] 엑셀 파일 불러오기"
   ]
  },
  {
   "cell_type": "code",
   "execution_count": null,
   "id": "f1334531-65fa-4779-ae84-817f0ec5bc5f",
   "metadata": {},
   "outputs": [],
   "source": [
    "# ➊ openpyxl 라이브러리에서 load_workbook 함수 가져오기\n",
    "from openpyxl import load_workbook\n",
    "\n",
    "# ➋ '월별구매고객리스트.xlsx' 엑셀 파일 불러오기\n",
    "wb = load_workbook(filename='월별구매고객리스트.xlsx')\n",
    "\n",
    "# ➌ 활성화된 시트 불러온 다음 제목 출력해보기\n",
    "ws = wb.active\n",
    "print(ws.title)"
   ]
  },
  {
   "cell_type": "markdown",
   "id": "9cac87cb-65a2-4c25-89b3-871166420a2f",
   "metadata": {},
   "source": [
    "### [02] 시트 이름 지정하여 불러오기"
   ]
  },
  {
   "cell_type": "code",
   "execution_count": null,
   "id": "e17d44a8-330e-4148-9066-be780be6d0eb",
   "metadata": {},
   "outputs": [],
   "source": [
    "from openpyxl import load_workbook\n",
    "\n",
    "wb = load_workbook(filename='월별구매고객리스트.xlsx')\n",
    "# ➊ '10월' 시트 불러오기\n",
    "ws = wb['10월']\n",
    "# ➋ 'A1'셀의 값 가져오기\n",
    "print(ws['A1'].value)"
   ]
  },
  {
   "cell_type": "markdown",
   "id": "5661a3d5-86b0-4135-8e2b-837c7e38b1af",
   "metadata": {},
   "source": [
    "<u>**<한 걸음 더!> 셀의 값을 쓸 때와 읽을 때는 달라요**</u>"
   ]
  },
  {
   "cell_type": "code",
   "execution_count": null,
   "id": "98690f2f-75f4-4ecc-b510-4014c84f34bb",
   "metadata": {},
   "outputs": [],
   "source": [
    "print('A1객체 출력: ', ws['A1'])\n",
    "print('A1의 값 출력: ', ws['A1'].value)"
   ]
  },
  {
   "cell_type": "markdown",
   "id": "60a2c87d-e015-463c-86c4-db1c90311bc7",
   "metadata": {},
   "source": [
    "### [03] 전체 시트 목록 확인하기"
   ]
  },
  {
   "cell_type": "code",
   "execution_count": null,
   "id": "458fd4c2-6370-446c-b321-c6a81fd0e2e1",
   "metadata": {},
   "outputs": [],
   "source": [
    "wb = load_workbook(filename='월별구매고객리스트.xlsx')\n",
    "\n",
    "# 전체 시트 목록 가져오기\n",
    "sheet_names = wb.sheetnames\n",
    "print(sheet_names)"
   ]
  },
  {
   "cell_type": "markdown",
   "id": "50499316-d551-4c66-a1aa-adfad4baa48c",
   "metadata": {},
   "source": [
    "### [04] 시트 전체 데이터 가져오기"
   ]
  },
  {
   "cell_type": "code",
   "execution_count": null,
   "id": "a30c427a-87d3-44e9-b877-73349b950e71",
   "metadata": {},
   "outputs": [],
   "source": [
    "from openpyxl import load_workbook\n",
    "\n",
    "wb = load_workbook(filename='월별구매고객리스트.xlsx')\n",
    "ws = wb['10월']\n",
    "# ➊ 시트의 모든 행을 순회\n",
    "for row in ws.rows:\n",
    "  # ➋ 각 행의 모든 셀을 순회하며 셀의 값을 가져와 리스트로 저장\n",
    "  row_values = [cell.value for cell in row]\n",
    "  print(row_values)"
   ]
  },
  {
   "cell_type": "markdown",
   "id": "b9ec50de-d46b-4fe7-ab01-260878153168",
   "metadata": {},
   "source": [
    "<u>**<한 걸음 더!> 리스트 컴프리헨션이란?**</u>"
   ]
  },
  {
   "cell_type": "code",
   "execution_count": null,
   "id": "917a4c1f-5b21-456d-8759-b1194878035c",
   "metadata": {},
   "outputs": [],
   "source": [
    "# 빈 리스트 생성\n",
    "row_values = []\n",
    "# 각 행의 셀을 순회\n",
    "for cell in row:\n",
    "  # 셀의 값을 리스트에 추가\n",
    "  row_values.append(cell.value)"
   ]
  },
  {
   "cell_type": "code",
   "execution_count": null,
   "id": "3d58e4d1-9043-4efd-869c-7a6c50ca0c3a",
   "metadata": {},
   "outputs": [],
   "source": [
    "row_values = [cell.value for cell in row if cell.value == '신규']"
   ]
  },
  {
   "cell_type": "code",
   "execution_count": null,
   "id": "03a99551-ae5e-46bd-8e3c-d61c8e071f31",
   "metadata": {},
   "outputs": [],
   "source": [
    "# 빈 리스트 생성\n",
    "row_values = []\n",
    "# 각 행의 셀을 순회\n",
    "for cell in row:\n",
    "  # 셀 값이 '신규'인 경우\n",
    "  if cell.value == 'Hello':\n",
    "    # 셀의 값을 리스트에 추가\n",
    "    row_values.append(cell.value)"
   ]
  },
  {
   "cell_type": "markdown",
   "id": "71ad3cdb-a9f6-45bf-a4ae-1a4d3393eb11",
   "metadata": {},
   "source": [
    "### [05] 특정 행을 지정하여 가져오기"
   ]
  },
  {
   "cell_type": "markdown",
   "id": "c4ae6394-dd9a-4528-a48a-bbe4a81ee415",
   "metadata": {},
   "source": [
    "#### <span style=\"color: blue;\"><u>**리스트 슬라이싱으로 특정 행 가져오기**</u></span>"
   ]
  },
  {
   "cell_type": "code",
   "execution_count": null,
   "id": "dc76a2ca-424c-4546-b39a-134a2e3058ce",
   "metadata": {},
   "outputs": [],
   "source": [
    "from openpyxl import load_workbook\n",
    "\n",
    "wb = load_workbook(filename='월별구매고객리스트.xlsx')\n",
    "ws = wb['10월']\n",
    "\n",
    "# ➊ 첫 번째와 두 번째 행을 제외하고 나머지 행을 리스트로 변환\n",
    "new_rows = list(ws.rows)[2:]\n",
    "\n",
    "# 나머지 행을 순회하며 읽기\n",
    "for row in new_rows:\n",
    " row_values = [cell.value for cell in row]\n",
    " print(row_values)"
   ]
  },
  {
   "cell_type": "markdown",
   "id": "4189d603-3c55-49bd-ae3a-8b2122c222b2",
   "metadata": {},
   "source": [
    "#### <span style=\"color: blue;\"><u>**iter_rows( ) : 특정 범위의 행 순회하기**</u></span>"
   ]
  },
  {
   "cell_type": "code",
   "execution_count": null,
   "id": "09e7b26d-8fcc-40d2-be4a-12b534d83d1d",
   "metadata": {},
   "outputs": [],
   "source": [
    "from openpyxl import load_workbook\n",
    "\n",
    "wb = load_workbook(filename='월별구매고객리스트.xlsx')\n",
    "ws = wb['10월']\n",
    "# 세 번째 행부터 마지막 행까지 읽기(min_row = 3)\n",
    "for row in ws.iter_rows(min_row=3, values_only=True):\n",
    "  print(row) "
   ]
  },
  {
   "cell_type": "markdown",
   "id": "7b02d8fa-b163-4c47-9fe9-b2db56de7120",
   "metadata": {},
   "source": [
    "### [06] 수식을 제외한 결괏값 가져오기"
   ]
  },
  {
   "cell_type": "code",
   "execution_count": null,
   "id": "d0e675d6-9ce1-4e69-bc67-373c361531f7",
   "metadata": {},
   "outputs": [],
   "source": [
    "from openpyxl import load_workbook\n",
    "\n",
    "# 수식이 계산된 결괏값을 가져오려면 data_only=True\n",
    "wb = load_workbook(filename='월별구매고객리스트.xlsx', data_only=True)\n",
    "ws = wb['10월']\n",
    "\n",
    "for row in ws.iter_rows(min_row=3, values_only=True):\n",
    "  print(row)"
   ]
  },
  {
   "cell_type": "markdown",
   "id": "e834cecd-d3d3-4fad-a2e4-423d0b771454",
   "metadata": {},
   "source": [
    "### [07] 열을 지정하여 데이터 가져오기"
   ]
  },
  {
   "cell_type": "markdown",
   "id": "41bf4913-fa4e-4fa0-9c24-1e32df4ac845",
   "metadata": {},
   "source": [
    "#### <span style=\"color: blue;\"><u>**인덱싱으로 특정 열 가져오기**</u></span>"
   ]
  },
  {
   "cell_type": "code",
   "execution_count": null,
   "id": "b946fb5b-935e-4b4e-8fab-7d6092978f70",
   "metadata": {},
   "outputs": [],
   "source": [
    "from openpyxl import load_workbook\n",
    "wb = load_workbook(filename='월별구매고객리스트.xlsx')\n",
    "ws = wb['10월']\n",
    "\n",
    "# ➊ 시트의 모든 행 순회하기\n",
    "for row in ws.rows:\n",
    "  # ➋ 각 행의 B열 값과 C열 값을 출력\n",
    "  print(row[1].value, row[2].value)"
   ]
  },
  {
   "cell_type": "markdown",
   "id": "6eb72b22-e690-47bd-a70c-a7c20eb49fd0",
   "metadata": {},
   "source": [
    "#### <span style=\"color: blue;\"><u>**iter_cols( ) : 특정 범위의 열 순회하기**</u></span>"
   ]
  },
  {
   "cell_type": "code",
   "execution_count": null,
   "id": "f1513fcb-bccf-4d11-bc23-6b7721e28d64",
   "metadata": {},
   "outputs": [],
   "source": [
    "from openpyxl import load_workbook\n",
    "wb = load_workbook(filename='월별구매고객리스트.xlsx')\n",
    "ws = wb['10월']\n",
    "\n",
    "# ➊ 세 번째 행부터 마지막까지 B열과 C열까지의 범위로 열 단위로 순회\n",
    "for col in ws.iter_cols(min_col=2, max_col=3, min_row=3):\n",
    "  # ➋ 각 열의 셀 객체들을 순회\n",
    "  for cell in col:\n",
    "    # ➌ 셀의 값을 출력\n",
    "    print(cell.value)"
   ]
  },
  {
   "cell_type": "code",
   "execution_count": null,
   "id": "cbfe5ec7-66d1-4cf8-94c0-f6978111364a",
   "metadata": {},
   "outputs": [],
   "source": [
    "from openpyxl import load_workbook\n",
    "wb = load_workbook(filename='월별구매고객리스트.xlsx')\n",
    "ws = wb['10월']\n",
    "\n",
    "# 세 번째 행부터 마지막까지 B열과 C열 데이터 출력하기\n",
    "for col in ws.iter_cols(min_col=2, max_col=3, min_row=3, values_only=True):\n",
    "  print(col)"
   ]
  },
  {
   "cell_type": "markdown",
   "id": "146cbdc4-dcd1-47b5-8327-762f7675d7b3",
   "metadata": {},
   "source": [
    "### [08] 조건으로 데이터 가져오기"
   ]
  },
  {
   "cell_type": "code",
   "execution_count": null,
   "id": "5fa4bf64-876b-4bb0-b39e-37fd232ff306",
   "metadata": {},
   "outputs": [],
   "source": [
    "from openpyxl import load_workbook\n",
    "\n",
    "wb = load_workbook(filename='월별구매고객리스트.xlsx')\n",
    "ws = wb['10월']\n",
    "\n",
    "# 첫 번째와 두 번째 행을 제외하고 나머지 행을 리스트로 변환\n",
    "new_rows = list(ws.rows)[2:]\n",
    "\n",
    "# 새로운 행 리스트 new_rows를 순회하며 조건에 맞는 데이터 출력\n",
    "for row in new_rows:\n",
    "  # ➊ 세 번째 열의 값이 2 이상인 경우로 조건 설정\n",
    "  if row[2].value >= 2:\n",
    "     #  각 행의 B열 값과 C열 값을 출력\n",
    "     print(row[1].value, row[2].value)"
   ]
  },
  {
   "cell_type": "code",
   "execution_count": null,
   "id": "29a44dee-0a1f-4478-82ea-e450a04f6db8",
   "metadata": {},
   "outputs": [],
   "source": [
    "from openpyxl import load_workbook\n",
    "\n",
    "wb = load_workbook(filename='월별구매고객리스트.xlsx')\n",
    "ws = wb['10월']\n",
    "\n",
    "# ws.rows로 전체 데이터가 포함된 객체 생성\n",
    "for row in ws.rows:\n",
    "  # 세 번째 열의 값이 2 이상인 경우로 조건 설정\n",
    "  if row[2].value >= 2:\n",
    "    #  각 행의 B열 값과 C열 값을 출력\n",
    "    print(row[1].value, row[2].value)"
   ]
  },
  {
   "cell_type": "markdown",
   "id": "088b3a89-948b-4d50-b107-d4979d136175",
   "metadata": {},
   "source": [
    "### [09] 암호화된 엑셀 파일 다루기"
   ]
  },
  {
   "cell_type": "code",
   "execution_count": null,
   "id": "4aa1d8d1-716d-4af8-96e2-3a55622db048",
   "metadata": {},
   "outputs": [],
   "source": [
    "pip install msoffcrypto-tool openpyxl"
   ]
  },
  {
   "cell_type": "code",
   "execution_count": null,
   "id": "be2bc4fa-0bae-4c2f-a0a5-7579f12d0276",
   "metadata": {},
   "outputs": [],
   "source": [
    "import msoffcrypto\n",
    "from openpyxl import load_workbook\n",
    "import os\n",
    "\n",
    "# ➊ 암호화된 엑셀 파일을 바이너리 읽기 모드로 열고\n",
    "# ➋ msoffcrypto.OfficeFile 객체 생성\n",
    "file = msoffcrypto.OfficeFile(open('월별구매고객리스트_잠김.xlsx', 'rb'))\n",
    "\n",
    "# ➌ 파일의 암호 설정. '1234'는 암호화된 파일의 비밀번호\n",
    "file.load_key(password='1234')\n",
    "\n",
    "# ➍ 암호화된 파일을 해제하고 새로운 파일로 저장\n",
    "with open('월별구매고객리스트_잠김해제.xlsx', 'wb') as f:\n",
    " file.decrypt(f)\n",
    "\n",
    "# ➎ 암호 해제된 파일 열기\n",
    "wb = load_workbook('월별구매고객리스트_잠김해제.xlsx')\n",
    "ws = wb.active\n",
    "\n",
    "# ➏ 시트의 모든 행을 순회하며 값을 출력\n",
    "for row in ws.iter_rows(values_only=True):\n",
    " print(row)\n",
    "\n",
    "# ➐ 암호 해제된 임시 파일 삭제\n",
    "os.remove('월별구매고객리스트_잠김해제.xlsx')"
   ]
  }
 ],
 "metadata": {
  "kernelspec": {
   "display_name": "Python 3 (ipykernel)",
   "language": "python",
   "name": "python3"
  },
  "language_info": {
   "codemirror_mode": {
    "name": "ipython",
    "version": 3
   },
   "file_extension": ".py",
   "mimetype": "text/x-python",
   "name": "python",
   "nbconvert_exporter": "python",
   "pygments_lexer": "ipython3",
   "version": "3.11.7"
  }
 },
 "nbformat": 4,
 "nbformat_minor": 5
}
