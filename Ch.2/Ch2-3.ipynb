{
 "cells": [
  {
   "cell_type": "markdown",
   "id": "9b748d69-3841-458e-9c99-3f01c648c85f",
   "metadata": {},
   "source": [
    "### [01] 하나의 셀에 글꼴 스타일 설정하기"
   ]
  },
  {
   "cell_type": "code",
   "execution_count": null,
   "id": "2f5fdeec-0b20-4417-8e87-2f8933414723",
   "metadata": {},
   "outputs": [],
   "source": [
    "from openpyxl import Workbook\n",
    "from openpyxl.styles import Font\n",
    "\n",
    "wb = Workbook()\n",
    "ws = wb.active\n",
    "\n",
    "cell = ws['A1']\n",
    "cell.value = 'Hello World'\n",
    "\n",
    "# ➊ 글꼴 속성을 인자로 전달하여 Font 클래스의 객체를 생성\n",
    "# ➋ 생성된 Font 객체를 셀의 font 속성에 할당하여 셀에 글꼴 적용\n",
    "cell.font = Font(color='FF0000',\n",
    "                 italic=True,\n",
    "                 bold=True,\n",
    "                 size=20)\n",
    "\n",
    "wb.save('엑셀 서식.xlsx')"
   ]
  },
  {
   "cell_type": "markdown",
   "id": "70664f93-2562-432b-8874-b87b901a9a5f",
   "metadata": {},
   "source": [
    "### [02] 여러 셀에 글꼴 스타일 설정하기"
   ]
  },
  {
   "cell_type": "code",
   "execution_count": null,
   "id": "a0bfb5bf-9fb9-4c06-8fe5-b038ed014f1f",
   "metadata": {},
   "outputs": [],
   "source": [
    "from openpyxl import Workbook\n",
    "from openpyxl.styles import Font\n",
    "from openpyxl.styles import PatternFill, Border, Side, Alignment\n",
    "\n",
    "wb = Workbook()\n",
    "ws = wb.active\n",
    "cell = ws['A1']\n",
    "cell.value = 'Hello World'\n",
    "cell.font = Font(color='FF0000',\n",
    "        italic=True,\n",
    "        bold=True,\n",
    "        size=20)\n",
    "\n",
    "# ➊ A열의 너비를 50으로 설정\n",
    "ws.column_dimensions['A'].width = 50\n",
    "\n",
    "# ➋ 1행의 높이를 50으로 설정\n",
    "ws.row_dimensions[1].height = 50\n",
    "# ➌ 셀 배경색을 노란색으로 설정, 색상 코드 'FFFF00'\n",
    "yellow_fill = PatternFill(start_color='FFFF00', end_color='FFFF00', fill_type='solid')\n",
    "cell.fill = yellow_fill\n",
    "# ➍ 셀 테두리 설정, 모든 사이드에 얇은 테두리 스타일 적용\n",
    "thin_side = Side(style='thin')\n",
    "cell.border = Border(left=thin_side,\n",
    "                     right=thin_side,\n",
    "                     top=thin_side,\n",
    "                     bottom=thin_side)\n",
    "# ➎ 셀 정렬 설정, 셀 내용을 수평 및 수직 중앙 정렬\n",
    "cell.alignment = Alignment(horizontal='center', vertical='center')\n",
    "wb.save('엑셀 서식.xlsx')"
   ]
  },
  {
   "cell_type": "markdown",
   "id": "61fc722c-d3fe-4e2c-b70a-3acb4068db9e",
   "metadata": {},
   "source": [
    "### [03] 데이터 형식 설정하기"
   ]
  },
  {
   "cell_type": "code",
   "execution_count": null,
   "id": "cd66d1f5-6d57-4a7a-9320-b0305ecced77",
   "metadata": {},
   "outputs": [],
   "source": [
    "from openpyxl import Workbook\n",
    "from datetime import datetime\n",
    "\n",
    "wb = Workbook()\n",
    "ws = wb.active\n",
    "\n",
    "# ➊ 천 단위 구분 기호와 소수점 자릿수 지정\n",
    "ws['A1'] = 1234567.890123\n",
    "ws['A1'].number_format = '#,##0.00'\n",
    "# ➋ 통화 기호와 천 단위 구분 단위 표시\n",
    "ws['D1'] = 1234567.89\n",
    "ws['D1'].number_format = '₩#,##0'\n",
    "# ➌ 퍼센트 형식으로 표시\n",
    "ws['D1'] = 0.12345\n",
    "ws['D1'].number_format = '0.00%'\n",
    "# ➍ 날짜 서식 설정\n",
    "ws['C1'] = datetime(2023, 9, 7)\n",
    "ws['C1'].number_format = 'MM-DD-YYYY'\n",
    "\n",
    "wb.save('표시 형식 설정.xlsx')"
   ]
  },
  {
   "cell_type": "markdown",
   "id": "cb5bc6df-709d-460e-beab-7773a244a158",
   "metadata": {},
   "source": [
    "<u>**<한 걸음 더!> datetime을 사용하지 않고 문자열로 날짜를 입력하면?**</u>"
   ]
  },
  {
   "cell_type": "code",
   "execution_count": null,
   "id": "1762452c-94d7-4aca-b4dc-739fcfc52c30",
   "metadata": {},
   "outputs": [],
   "source": [
    "from openpyxl import Workbook\n",
    "from datetime import datetime\n",
    "\n",
    "wb = Workbook()\n",
    "ws = wb.active\n",
    "\n",
    "# 문자열로 날짜 입력 후 날짜 서식 설정\n",
    "ws['A1'] = '2023-09-07'\n",
    "ws['A1'].number_format = 'YYYY-MM-DD'\n",
    "\n",
    "# datetime 클래스로 날짜 객체 생성 후 날짜 서식 설정\n",
    "ws['C1'] = datetime(2023, 9, 7)\n",
    "ws['C1'].number_format = 'YYYY-MM-DD'\n",
    "\n",
    "wb.save('날짜형식비교.xlsx')"
   ]
  },
  {
   "cell_type": "code",
   "execution_count": null,
   "id": "70804904-15ae-44ba-ac34-233dbf3672be",
   "metadata": {},
   "outputs": [],
   "source": [
    "from openpyxl import load_workbook\n",
    "\n",
    "wb = load_workbook('날짜형식비교.xlsx')\n",
    "ws = wb.active\n",
    "\n",
    "type(ws['A1'].value)"
   ]
  },
  {
   "cell_type": "code",
   "execution_count": null,
   "id": "7aa81aac-b744-42af-be7b-c0fd54456f09",
   "metadata": {},
   "outputs": [],
   "source": [
    "type(ws['C1'].value)"
   ]
  }
 ],
 "metadata": {
  "kernelspec": {
   "display_name": "Python 3 (ipykernel)",
   "language": "python",
   "name": "python3"
  },
  "language_info": {
   "codemirror_mode": {
    "name": "ipython",
    "version": 3
   },
   "file_extension": ".py",
   "mimetype": "text/x-python",
   "name": "python",
   "nbconvert_exporter": "python",
   "pygments_lexer": "ipython3",
   "version": "3.11.7"
  }
 },
 "nbformat": 4,
 "nbformat_minor": 5
}
