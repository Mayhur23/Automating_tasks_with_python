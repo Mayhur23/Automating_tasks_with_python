{
 "cells": [
  {
   "cell_type": "markdown",
   "id": "0ff599e5-aa35-40e9-a070-bd471807e489",
   "metadata": {},
   "source": [
    "### [01] 하나의 시트에서 데이터 추출하는 코드 작성하기"
   ]
  },
  {
   "cell_type": "code",
   "execution_count": null,
   "id": "61b6362c-bc89-4bc9-8a80-045af6f132cf",
   "metadata": {},
   "outputs": [],
   "source": [
    "from openpyxl import load_workbook\n",
    "\n",
    "# ➊ 파일의 '10월' 시트에서 처음 2개 행을 제외한 표 데이터 부분만 가져오기\n",
    "wb = load_workbook(filename='월별구매고객리스트.xlsx', data_only=True)\n",
    "ws = wb['10월']\n",
    "new_rows = list(ws.rows)[2:]\n",
    "\n",
    "# ➋ F열이 '신규'인 데이터만 추출\n",
    "for row in new_rows:\n",
    " if row[5].value == '신규': \n",
    "   row_values = [cell.value for cell in row]\n",
    "   print(row_values)\n",
    "\n",
    "wb.save(filename='제품별신규고객리스트.xlsx')"
   ]
  },
  {
   "cell_type": "markdown",
   "id": "23ea6d7e-08ec-4c95-8798-ea0ddea9ae55",
   "metadata": {},
   "source": [
    "### [02] 여러 시트에서 데이터 추출하는 코드로 확장하기"
   ]
  },
  {
   "cell_type": "code",
   "execution_count": null,
   "id": "68c98657-9f1d-4119-8935-6fa243a9852d",
   "metadata": {},
   "outputs": [],
   "source": [
    "from openpyxl import load_workbook\n",
    "\n",
    "wb = load_workbook(filename='월별구매고객리스트.xlsx', data_only=True)\n",
    "\n",
    "# ➊ 월별 시트 목록을 리스트 형태로 저장\n",
    "months = ['10월', '11월', '12월']\n",
    "# ➋ 각 월 시트에서 데이터를 추출\n",
    "for month in months:\n",
    "  ws = wb[month]  # 해당 월의 시트 불러오기\n",
    "  new_rows = list(ws.rows)[2:]  # 처음 2개 행을 제외하고 나머지 행을 리스트로 변환\n",
    "  # ➌ F열이 '신규'인 데이터만 추출\n",
    "  for row in new_rows:\n",
    "    if row[5].value == '신규': \n",
    "      row_values = [cell.value for cell in row]\n",
    "      print(row_values)\n",
    "\n",
    "wb.save(filename='제품별 신규 고객 리스트.xlsx')"
   ]
  },
  {
   "cell_type": "markdown",
   "id": "63ae1080-d8b1-44e5-aa84-bc223e63c3c8",
   "metadata": {},
   "source": [
    "### [03] 제품별로 시트를 분리하는 코드 추가하기 "
   ]
  },
  {
   "cell_type": "code",
   "execution_count": null,
   "id": "a946abdf-76d5-40cc-97d6-51851f21797d",
   "metadata": {},
   "outputs": [],
   "source": [
    "from openpyxl import load_workbook, Workbook\n",
    "\n",
    "# ➊ 엑셀 파일 불러오기\n",
    "wb = load_workbook(filename='월별구매고객리스트.xlsx', data_only=True)\n",
    "\n",
    "# ➋ 새로운 엑셀 파일 생성\n",
    "new_wb = Workbook()\n",
    "new_ws = new_wb.active\n",
    "\n",
    "# ➌ 월별 시트 목록을 리스트 형태로 저장\n",
    "months = ['10월', '11월', '12월']\n",
    "\n",
    "# ➍ 각 월 시트에서 데이터를 추출\n",
    "for month in months:\n",
    "  ws = wb[month]\n",
    "  index_row = [cell.value for cell in list(ws.rows)[1]]  # 원본 파일의 두 번째 행(표의 헤더)\n",
    "  new_rows = list(ws.rows)[2:] # 처음 2개 행을 제외하고 나머지 행을 리스트로 변환\n",
    "\n",
    "  # ➎ 데이터 분류 및 저장\n",
    "  for row in new_rows:\n",
    "    if row[5].value == '신규':  # F열이 '신규'인 경우\n",
    "      product = row[1].value  # B열의 제품 이름 가져와 product에 할당하기\n",
    "\n",
    "      # ➏ 해당 제품 시트가 없으면 새로 생성\n",
    "      if product not in new_wb.sheetnames:\n",
    "        new_wb.create_sheet(title=product)\n",
    "        product_ws = new_wb[product]\n",
    "        product_ws.append(index_row)  # 헤더 행을 새 시트의 첫 번째 행에 추가\n",
    "\n",
    "      # ➐ 해당 시트를 선택하여 데이터 추가\n",
    "      product_ws = new_wb[product]\n",
    "      product_ws.append([cell.value for cell in row])\n",
    "\n",
    "# ➑ 임시로 만든 시트 삭제 후 엑셀 파일 저장\n",
    "del new_wb['Sheet']\n",
    "new_wb.save(filename='제품별신규고객리스트.xlsx')"
   ]
  }
 ],
 "metadata": {
  "kernelspec": {
   "display_name": "Python 3 (ipykernel)",
   "language": "python",
   "name": "python3"
  },
  "language_info": {
   "codemirror_mode": {
    "name": "ipython",
    "version": 3
   },
   "file_extension": ".py",
   "mimetype": "text/x-python",
   "name": "python",
   "nbconvert_exporter": "python",
   "pygments_lexer": "ipython3",
   "version": "3.11.7"
  }
 },
 "nbformat": 4,
 "nbformat_minor": 5
}
