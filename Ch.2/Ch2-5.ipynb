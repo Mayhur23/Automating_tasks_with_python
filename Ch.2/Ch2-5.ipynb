{
 "cells": [
  {
   "cell_type": "markdown",
   "id": "13d72e64-05b9-4827-b45d-29032a7df17b",
   "metadata": {},
   "source": [
    "### [01] 여러 파일을 하나로 합치기"
   ]
  },
  {
   "cell_type": "code",
   "execution_count": null,
   "id": "d20d7fce-b868-4fae-98ba-4b91ebcb009c",
   "metadata": {},
   "outputs": [],
   "source": [
    "from openpyxl import Workbook, load_workbook\n",
    "import os\n",
    "import re\n",
    "\n",
    "# ➊ 새로운 엑셀 파일 생성\n",
    "new_wb = Workbook()\n",
    "new_ws = new_wb.active\n",
    "new_ws.title = '수신내역'\n",
    "\n",
    "# ➋ 헤더 행 추가\n",
    "new_ws.append(['수신시간', '발신번호', '페이지수', '용량'])\n",
    "\n",
    "# ➌ fax 폴더의 모든 파일 목록을 가져와 각 파일을 순회\n",
    "for filename in os.listdir('./fax'):\n",
    "  # ➍ 엑셀 파일 불러오기\n",
    "  wb = load_workbook('./fax/' + filename)\n",
    "  ws = wb.active\n",
    "\n",
    "  # ➎ 첫 번째 행 (헤더)은 제외하고 데이터를 새로운 엑셀 파일에 추가\n",
    "  for row in ws.iter_rows(min_row=2, values_only=True):\n",
    "    new_ws.append(row)\n",
    "\n",
    "# ➏ 새로운 엑셀 파일 저장\n",
    "new_wb.save('10월팩스수신내역.xlsx')"
   ]
  }
 ],
 "metadata": {
  "kernelspec": {
   "display_name": "Python 3 (ipykernel)",
   "language": "python",
   "name": "python3"
  },
  "language_info": {
   "codemirror_mode": {
    "name": "ipython",
    "version": 3
   },
   "file_extension": ".py",
   "mimetype": "text/x-python",
   "name": "python",
   "nbconvert_exporter": "python",
   "pygments_lexer": "ipython3",
   "version": "3.11.7"
  }
 },
 "nbformat": 4,
 "nbformat_minor": 5
}
