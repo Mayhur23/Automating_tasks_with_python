{
 "cells": [
  {
   "cell_type": "markdown",
   "id": "6caba772-9a52-459d-bc09-1c88b4ce34ba",
   "metadata": {},
   "source": [
    "### [01] python-docx 라이브러리 설치하기"
   ]
  },
  {
   "cell_type": "code",
   "execution_count": null,
   "id": "d40f8127-bbc7-4d70-be9c-d345c57e85da",
   "metadata": {},
   "outputs": [],
   "source": [
    "pip install python-docx"
   ]
  },
  {
   "cell_type": "markdown",
   "id": "e8ab0b87-383e-43c8-b93e-746fcc6b8cff",
   "metadata": {},
   "source": [
    "### [02] 워드 문서 생성하기"
   ]
  },
  {
   "cell_type": "code",
   "execution_count": null,
   "id": "39f11834-dc20-418b-9317-35bb4eeaa305",
   "metadata": {},
   "outputs": [],
   "source": [
    "from docx import Document\n",
    "\n",
    "# 새로운 워드 문서 생성\n",
    "doc = Document()\n",
    "# 파일 저장\n",
    "doc.save('example.docx')"
   ]
  },
  {
   "cell_type": "markdown",
   "id": "0e957fb3-578f-4cc7-8c87-4652935552a4",
   "metadata": {},
   "source": [
    "### [03] 워드 문서 불러오기"
   ]
  },
  {
   "cell_type": "code",
   "execution_count": null,
   "id": "ed3fb462-e4a8-4246-ba9c-7dd143cac724",
   "metadata": {},
   "outputs": [],
   "source": [
    "from docx import Document\n",
    "\n",
    "# 워드 문서 읽어오기\n",
    "doc = Document('회의록_템플릿.docx')\n",
    "# 추가 작업...\n",
    "# 추가 작업...\n",
    "# 추가 작업...\n",
    "# 새로운 파일로 저장\n",
    "doc.save('회의록_240630.docx')"
   ]
  },
  {
   "cell_type": "markdown",
   "id": "6b48c84b-b31e-4850-9d39-0954f24bcd87",
   "metadata": {},
   "source": [
    "### [04] 워드 문서 쓰기(1)"
   ]
  },
  {
   "cell_type": "markdown",
   "id": "afdc506c-642f-4420-ab94-a823253af5bd",
   "metadata": {},
   "source": [
    "<span style=\"color: blue;\"><u>**제목 추가하기**</u></span>"
   ]
  },
  {
   "cell_type": "code",
   "execution_count": null,
   "id": "6a113e16-beb8-40a9-8168-2d2f60b4c20d",
   "metadata": {},
   "outputs": [],
   "source": [
    "from docx import Document\n",
    "from docx.enum.text import WD_ALIGN_PARAGRAPH\n",
    "\n",
    "doc = Document()\n",
    "# ➊ 제목 추가\n",
    "title = doc.add_heading('제목을 이곳에 작성합니다', level=0)\n",
    "# ➋ 제목 가운데 정렬\n",
    "title.alignment = WD_ALIGN_PARAGRAPH.CENTER\n",
    "doc.save('example.docx')"
   ]
  },
  {
   "cell_type": "markdown",
   "id": "cbc45977-2a54-4338-97ac-07594aa4c411",
   "metadata": {},
   "source": [
    "<span style=\"color: blue;\"><u>**제목 레벨별로 추가하기**</u></span>"
   ]
  },
  {
   "cell_type": "code",
   "execution_count": null,
   "id": "e7783d83-237b-4f5c-b90f-0c1bf8f6e558",
   "metadata": {},
   "outputs": [],
   "source": [
    "from docx import Document\n",
    "from docx.enum.text import WD_ALIGN_PARAGRAPH\n",
    "\n",
    "doc = Document()\n",
    "\n",
    "# ➊ 제목 레벨별로 추가\n",
    "for level in range(0, 10):\n",
    "  title = doc.add_heading('제목을 이곳에 작성합니다', level=level)\n",
    "  # ➋ 제목 가운데 정렬\n",
    "  title.alignment = WD_ALIGN_PARAGRAPH.CENTER\n",
    "\n",
    "doc.save('example.docx')"
   ]
  },
  {
   "cell_type": "markdown",
   "id": "c2044bdb-2d3a-49bd-a525-21cf39fa49b9",
   "metadata": {},
   "source": [
    "<span style=\"color: blue;\"><u>**단락 추가하기**</u></span>"
   ]
  },
  {
   "cell_type": "code",
   "execution_count": null,
   "id": "6d2c6aec-5a31-4831-91bf-6c0606a6b5d1",
   "metadata": {},
   "outputs": [],
   "source": [
    "from docx import Document\n",
    "from docx.enum.text import WD_ALIGN_PARAGRAPH\n",
    "\n",
    "doc = Document()\n",
    "title = doc.add_heading('제목을 이곳에 작성합니다', level=0)\n",
    "title.alignment = WD_ALIGN_PARAGRAPH.CENTER\n",
    "\n",
    "# ➊ 단락 추가\n",
    "p = doc.add_paragraph('첫 번째 단락입니다')\n",
    "doc.save('example.docx')"
   ]
  },
  {
   "cell_type": "code",
   "execution_count": null,
   "id": "34bc9278-e8d3-499d-bcf2-0635b0e87aa5",
   "metadata": {},
   "outputs": [],
   "source": [
    "from docx import Document\n",
    "from docx.enum.text import WD_ALIGN_PARAGRAPH\n",
    "\n",
    "doc = Document()\n",
    "title = doc.add_heading('제목을 이곳에 작성합니다', level=0)\n",
    "title.alignment = WD_ALIGN_PARAGRAPH.CENTER\n",
    "# ➊ 단락 추가\n",
    "p = doc.add_paragraph('첫 번째 단락입니다')\n",
    "# ➋ 단락 수정\n",
    "p.add_run('내용을 추가합니다')\n",
    "doc.save('example.docx')"
   ]
  },
  {
   "cell_type": "markdown",
   "id": "d5213c8b-5554-4b82-aab9-b774f6c67453",
   "metadata": {},
   "source": [
    "<span style=\"color: blue;\"><u>**단락 끼워넣기**</u></span>"
   ]
  },
  {
   "cell_type": "code",
   "execution_count": null,
   "id": "a0db0d15-6ded-4b5f-b49b-90f6b2df98c6",
   "metadata": {},
   "outputs": [],
   "source": [
    "from docx import Document\n",
    "from docx.enum.text import WD_ALIGN_PARAGRAPH\n",
    "\n",
    "doc = Document()\n",
    "title = doc.add_heading('제목을 이곳에 작성합니다', level=0)\n",
    "title.alignment = WD_ALIGN_PARAGRAPH.CENTER\n",
    "\n",
    "p = doc.add_paragraph('첫 번째 단락입니다')\n",
    "# ➊ 두 번째, 세 번째 단락을 추가\n",
    "p2 = doc.add_paragraph('이것은 두 번째 단락입니다.')\n",
    "p3 = doc.add_paragraph('이것은 세 번째 단락입니다.')\n",
    "# ➋ 첫 번째 단락 앞에 새 단락 끼워넣기\n",
    "p.insert_paragraph_before('이것은 첫 번째 단락 앞에 새로 끼워넣은 단락입니다.')\n",
    "\n",
    "doc.save('example.docx')"
   ]
  },
  {
   "cell_type": "markdown",
   "id": "541e3935-c6ab-413a-b587-4fc3371b0072",
   "metadata": {},
   "source": [
    "<span style=\"color: blue;\"><u>**단락 수정하기**</u></span>"
   ]
  },
  {
   "cell_type": "code",
   "execution_count": null,
   "id": "17e8e430-c6d3-493a-82a5-fd86d074dace",
   "metadata": {},
   "outputs": [],
   "source": [
    "from docx import Document\n",
    "from docx.enum.text import WD_ALIGN_PARAGRAPH\n",
    "\n",
    "doc = Document()\n",
    "title = doc.add_heading('제목을 이곳에 작성합니다', level=0)\n",
    "title.alignment = WD_ALIGN_PARAGRAPH.CENTER\n",
    "\n",
    "p = doc.add_paragraph('첫 번째 단락입니다')\n",
    "p2 = doc.add_paragraph('이것은 두 번째 단락입니다.')\n",
    "p3 = doc.add_paragraph('이것은 세 번째 단락입니다.')\n",
    "p.insert_paragraph_before('이것은 첫 번째 단락 앞에 새로 끼워넣은 단락입니다.')\n",
    "\n",
    "# ➊ 두 번째 단락 텍스트 변경\n",
    "p2.clear()\n",
    "p2.add_run('두 번째 단락의 텍스트가 변경되었습니다.')\n",
    "\n",
    "doc.save('example.docx')"
   ]
  },
  {
   "cell_type": "markdown",
   "id": "98d6ac00-0032-48b9-9904-8870367b677d",
   "metadata": {},
   "source": [
    "### [05] 워드 문서 쓰기(2)"
   ]
  },
  {
   "cell_type": "markdown",
   "id": "34ecf160-b4f3-41b9-bc12-d5bc20ef4124",
   "metadata": {},
   "source": [
    "<span style=\"color: blue;\"><u>**표 추가하기**</u></span>"
   ]
  },
  {
   "cell_type": "code",
   "execution_count": null,
   "id": "bcecdd95-5451-41aa-b349-2e0ac9f76797",
   "metadata": {},
   "outputs": [],
   "source": [
    "from docx import Document\n",
    "\n",
    "doc = Document()\n",
    "\n",
    "# ➊ 3 x 3 크기의 표 추가\n",
    "table = doc.add_table(rows=3, cols=3)\n",
    "# ➋ 표의 각 셀에 격자선 추가\n",
    "table.style = 'Table Grid'\n",
    "\n",
    "# ➌ 첫 번째 행의 셀들을 hdr_cells 변수에 할당하고 각 셀에 헤더 데이터 추가\n",
    "hdr_cells = table.rows[0].cells\n",
    "hdr_cells[0].text = '헤더 1'\n",
    "hdr_cells[1].text = '헤더 2'\n",
    "hdr_cells[2].text = '헤더 3'\n",
    "\n",
    "# ➍ for문으로 각 행의 셀에 접근하여 두 번째와 세 번째 행에 데이터 추가\n",
    "for i in range(1, 3):\n",
    "  row_cells = table.rows[i].cells\n",
    "  row_cells[0].text = f'행 {i}, 열 1'\n",
    "  row_cells[1].text = f'행 {i}, 열 2'\n",
    "  row_cells[2].text = f'행 {i}, 열 3'\n",
    "\n",
    "doc.save('example_table.docx')"
   ]
  },
  {
   "cell_type": "markdown",
   "id": "b49781e1-ac65-448f-875a-a188dd8381fd",
   "metadata": {},
   "source": [
    "<span style=\"color: blue;\"><u>**목록 추가하기**</u></span>"
   ]
  },
  {
   "cell_type": "code",
   "execution_count": null,
   "id": "15b3ac38-0c57-4eb9-8c5f-1c688b38692c",
   "metadata": {},
   "outputs": [],
   "source": [
    "from docx import Document\n",
    "\n",
    "doc = Document()\n",
    "\n",
    "# 리스트 추가\n",
    "doc.add_paragraph(\n",
    " '첫 번째 항목', style='List Number'\n",
    ")\n",
    "doc.add_paragraph(\n",
    " '두 번째 항목', style='List Number'\n",
    ")\n",
    "\n",
    "doc.save('example_list.docx')"
   ]
  },
  {
   "cell_type": "markdown",
   "id": "c7ea2c2c-ca6a-40fc-8f03-ff68b2833161",
   "metadata": {},
   "source": [
    "<span style=\"color: blue;\"><u>**이미지 추가하기**</u></span>"
   ]
  },
  {
   "cell_type": "code",
   "execution_count": null,
   "id": "4fe30d8b-9dac-41bd-ad7a-0a431bded598",
   "metadata": {},
   "outputs": [],
   "source": [
    "from docx import Document\n",
    "from docx.shared import Inches\n",
    "\n",
    "doc = Document()\n",
    "# ➊ 이미지 추가\n",
    "doc.add_picture('image1.png', width=Inches(1.5))\n",
    "doc.save('example_image.docx')"
   ]
  },
  {
   "cell_type": "code",
   "execution_count": null,
   "id": "136bd6fe-a24c-41af-8868-5cbf323b1f23",
   "metadata": {},
   "outputs": [],
   "source": [
    "from docx import Document\n",
    "from docx.shared import Inches\n",
    "\n",
    "doc = Document()\n",
    "# ➊ 단락 추가하여 텍스트 입력\n",
    "p = doc.add_paragraph('첫 번째 단락입니다.')\n",
    "# ➋ 단락에 이미지 추가\n",
    "p.add_run().add_picture('image1.png', width=Inches(1.5))\n",
    "# ➌ 단락에 텍스트 추가\n",
    "p.add_run('이 텍스트는 이미지 뒤에 추가되었습니다.')\n",
    "\n",
    "doc.save('example_image2.docx')"
   ]
  }
 ],
 "metadata": {
  "kernelspec": {
   "display_name": "Python 3 (ipykernel)",
   "language": "python",
   "name": "python3"
  },
  "language_info": {
   "codemirror_mode": {
    "name": "ipython",
    "version": 3
   },
   "file_extension": ".py",
   "mimetype": "text/x-python",
   "name": "python",
   "nbconvert_exporter": "python",
   "pygments_lexer": "ipython3",
   "version": "3.11.7"
  }
 },
 "nbformat": 4,
 "nbformat_minor": 5
}
