{
 "cells": [
  {
   "cell_type": "markdown",
   "id": "e2c6ff61-c1c2-422a-901a-0a6fc4c07c80",
   "metadata": {},
   "source": [
    "### [01] 텍스트 서식 설정하기"
   ]
  },
  {
   "cell_type": "code",
   "execution_count": null,
   "id": "b4abb678-c9e3-4555-a995-e703f44c0a4c",
   "metadata": {},
   "outputs": [],
   "source": [
    "from docx import Document\n",
    "from docx.shared import Pt, RGBColor\n",
    "from docx.oxml.ns import qn\n",
    "\n",
    "doc = Document()\n",
    "para = doc.add_paragraph()\n",
    "run = para.add_run('텍스트에 서식을 설정합니다.')\n",
    "\n",
    "# ➊ 글자 서식 지정(굵게, 기울임, 밑줄)\n",
    "run.bold = True\n",
    "run.italic = True\n",
    "run.underline = True\n",
    "# ➋ 글꼴 설정\n",
    "run.font.name = '맑은 고딕'\n",
    "run._r.rPr.rFonts.set(qn('w:eastAsia'), '맑은 고딕')\n",
    "# ➌ 글자 크기 조정\n",
    "run.font.size = Pt(12)\n",
    "# ➍ 글자 색상 설정\n",
    "run.font.color.rgb = RGBColor(0x42, 0x24, 0xE9)\n",
    "\n",
    "doc.save('example_text_format.docx')"
   ]
  },
  {
   "cell_type": "markdown",
   "id": "f0f62301-d972-498e-8093-9a3b20b87a5c",
   "metadata": {},
   "source": [
    "### [02] 단락 서식 설정하기"
   ]
  },
  {
   "cell_type": "code",
   "execution_count": null,
   "id": "980bbd7f-b297-420e-af23-1dfe547ecc34",
   "metadata": {},
   "outputs": [],
   "source": [
    "from docx import Document\n",
    "from docx.shared import Pt\n",
    "from docx.enum.text import WD_ALIGN_PARAGRAPH\n",
    "\n",
    "doc = Document()\n",
    "para1 = doc.add_paragraph('첫 번째 단락입니다.\\n 첫 번째 단락의 두 번째 줄입니다.')\n",
    "para2 = doc.add_paragraph('두 번째 단락입니다.\\n 두 번째 단락의 두 번째 줄입니다.')\n",
    "\n",
    "# ➊ 단락의 텍스트를 중앙으로 정렬\n",
    "para2.alignment = WD_ALIGN_PARAGRAPH.CENTER\n",
    "\n",
    "# ➋ 단락1의 줄 간격을 12포인트로 설정합니다.\n",
    "para1.paragraph_format.line_spacing = Pt(12) # 줄 간격 설정\n",
    "# ➌ 단락2의 줄 간격을 20포인트로 설정합니다.\n",
    "para2.paragraph_format.line_spacing = Pt(20) # 줄 간격 설정\n",
    "\n",
    "doc.save('example_para_format.docx')"
   ]
  },
  {
   "cell_type": "markdown",
   "id": "b1944a52-32b8-4f24-b6f5-04c2fc3c3d8c",
   "metadata": {},
   "source": [
    "### [03] 머리글과 꼬리글 입력하기"
   ]
  },
  {
   "cell_type": "code",
   "execution_count": null,
   "id": "c9d46752-3fec-4189-bebe-cea4830538f8",
   "metadata": {},
   "outputs": [],
   "source": [
    "from docx import Document\n",
    "\n",
    "doc = Document()\n",
    "para1 = doc.add_paragraph('첫 번째 단락입니다.')\n",
    "\n",
    "# 머리글 추가\n",
    "# ➊ 문서의 첫 번째 섹션을 가져오고 header(머리글)를 가져와 'header' 변수에 할당\n",
    "section = doc.sections[0]\n",
    "header = section.header\n",
    "# ➋ 머리글의 첫 번째 단락을 가져와 'p' 변수에 할당 후 텍스트 설정\n",
    "p = header.paragraphs[0]\n",
    "p.text = '머리글을 추가합니다.'\n",
    "# 꼬리글 추가\n",
    "# ➌ footer(꼬리글)를 가져와 'footer' 변수에 할당\n",
    "footer = section.footer\n",
    "# ➍ 꼬리의 첫 번째 단락을 가져와 'p2' 변수에 할당 후 텍스트 설정\n",
    "p2 = footer.paragraphs[0]\n",
    "p2.text = '꼬리글을 추가합니다.'\n",
    "\n",
    "doc.save('example_header.docx')"
   ]
  }
 ],
 "metadata": {
  "kernelspec": {
   "display_name": "Python 3 (ipykernel)",
   "language": "python",
   "name": "python3"
  },
  "language_info": {
   "codemirror_mode": {
    "name": "ipython",
    "version": 3
   },
   "file_extension": ".py",
   "mimetype": "text/x-python",
   "name": "python",
   "nbconvert_exporter": "python",
   "pygments_lexer": "ipython3",
   "version": "3.11.7"
  }
 },
 "nbformat": 4,
 "nbformat_minor": 5
}
