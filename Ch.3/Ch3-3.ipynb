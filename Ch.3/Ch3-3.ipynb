{
 "cells": [
  {
   "cell_type": "markdown",
   "id": "879834d0-7530-46d9-80e6-e8a753cf9aec",
   "metadata": {},
   "source": [
    "### [01] 단락 읽어 출력하기"
   ]
  },
  {
   "cell_type": "code",
   "execution_count": null,
   "id": "802a7187-754c-4d9a-b795-8a146e01b92c",
   "metadata": {},
   "outputs": [],
   "source": [
    "from docx import Document\n",
    "\n",
    "doc = Document('read_doc.docx')\n",
    "# ➊ 단락 읽기\n",
    "for para in doc.paragraphs:\n",
    " print(para.text)"
   ]
  },
  {
   "cell_type": "markdown",
   "id": "7a349b41-9eae-4846-8915-23e2e72d8565",
   "metadata": {},
   "source": [
    "### [02] 단락과 텍스트의 서식 확인하기"
   ]
  },
  {
   "cell_type": "code",
   "execution_count": null,
   "id": "c6e6b8ff-ba8e-4342-be4e-d86a35f02a6a",
   "metadata": {},
   "outputs": [],
   "source": [
    "from docx import Document\n",
    "from docx.enum.text import WD_ALIGN_PARAGRAPH\n",
    "\n",
    "doc = Document('read_doc.docx')\n",
    "\n",
    "# ➊ 각 단락의 서식을 확인합니다.\n",
    "for index, paragraph in enumerate(doc.paragraphs):\n",
    "  print(f'단락 번호 {index}:')\n",
    "  print(f'  정렬: {paragraph.alignment}')\n",
    "\n",
    "  # ➋ 각 단락 내에서 개별 텍스트 런의 서식을 확인합니다.\n",
    "  for run in paragraph.runs:\n",
    "    print(f'텍스트 내용: {run.text}')\n",
    "    print(f'굵게: {run.bold}')\n",
    "    print(f'기울임: {run.italic}')\n",
    "    print(f'밑줄: {run.underline}')\n",
    "    print(f'글꼴: {run.font.name}')\n",
    "    print(f'글자 크기: {run.font.size}')\n",
    "    print(f'글자색: {run.font.color.rgb}') \n",
    "\n",
    "  print('-' * 20)  # 단락 간 구분선"
   ]
  },
  {
   "cell_type": "markdown",
   "id": "1e08851e-2930-42bd-99eb-d122fdb55eed",
   "metadata": {},
   "source": [
    "### [03] 표 읽어 출력하기"
   ]
  },
  {
   "cell_type": "code",
   "execution_count": null,
   "id": "7160f950-b7f9-4701-abef-7d4c2b723d26",
   "metadata": {},
   "outputs": [],
   "source": [
    "from docx import Document\n",
    "\n",
    "doc = Document('read_doc_table.docx')\n",
    "# 표 읽기\n",
    "for table in doc.tables:\n",
    "  for row in table.rows:\n",
    "    for cell in row.cells:\n",
    "      print(cell.text)"
   ]
  },
  {
   "cell_type": "markdown",
   "id": "30e270fc-a916-493b-9cd5-575360309f2e",
   "metadata": {},
   "source": [
    "### [04] 머리글과 꼬리글 읽기"
   ]
  },
  {
   "cell_type": "code",
   "execution_count": null,
   "id": "f40e8913-9711-4da4-b0e3-3f8142f2b9ee",
   "metadata": {},
   "outputs": [],
   "source": [
    "from docx import Document\n",
    "\n",
    "doc = Document('example_header.docx')\n",
    "# 머리글 읽기\n",
    "for section in doc.sections:\n",
    "  header = section.header\n",
    "  for paragraph in header.paragraphs:\n",
    "    print(paragraph.text)\n",
    "# 꼬리글 읽기\n",
    "for section in doc.sections:\n",
    "  footer = section.footer\n",
    "  for paragraph in footer.paragraphs:\n",
    "    print(paragraph.text)"
   ]
  },
  {
   "cell_type": "markdown",
   "id": "582198a3-5326-4fa6-9ef6-179a980ad11b",
   "metadata": {},
   "source": [
    "### [05] 이미지 추출하기"
   ]
  },
  {
   "cell_type": "code",
   "execution_count": null,
   "id": "af4401b4-1b39-490f-92ea-8da705dad47e",
   "metadata": {},
   "outputs": [],
   "source": [
    "pip install docx2txt"
   ]
  },
  {
   "cell_type": "code",
   "execution_count": null,
   "id": "f0b3047d-1eaa-4f79-9a08-b6131fb17e81",
   "metadata": {},
   "outputs": [],
   "source": [
    "import docx2txt\n",
    "import os\n",
    "\n",
    "# 이미지를 저장할 폴더 경로\n",
    "save_path = './word_savepath/'\n",
    "\n",
    "# 폴더가 존재하지 않는 경우 생성\n",
    "if not os.path.exists(save_path):\n",
    "    os.makedirs(save_path)\n",
    "\n",
    "# docx2txt를 사용하여 이미지 추출\n",
    "docx2txt.process('example_image.docx', save_path)"
   ]
  }
 ],
 "metadata": {
  "kernelspec": {
   "display_name": "Python 3 (ipykernel)",
   "language": "python",
   "name": "python3"
  },
  "language_info": {
   "codemirror_mode": {
    "name": "ipython",
    "version": 3
   },
   "file_extension": ".py",
   "mimetype": "text/x-python",
   "name": "python",
   "nbconvert_exporter": "python",
   "pygments_lexer": "ipython3",
   "version": "3.11.7"
  }
 },
 "nbformat": 4,
 "nbformat_minor": 5
}
