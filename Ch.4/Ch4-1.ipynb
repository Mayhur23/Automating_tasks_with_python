{
 "cells": [
  {
   "cell_type": "markdown",
   "id": "a8500c79-36b6-4cf4-b57f-afce3da4a71f",
   "metadata": {},
   "source": [
    "### [01] python-pptx 라이브러리 설치하기"
   ]
  },
  {
   "cell_type": "code",
   "execution_count": null,
   "id": "bb5f948b-cd9d-48e1-9a3f-25d3a166edd8",
   "metadata": {},
   "outputs": [],
   "source": [
    "pip install python-pptx"
   ]
  },
  {
   "cell_type": "markdown",
   "id": "35fef813-6dfa-4c9c-a415-284e66402f15",
   "metadata": {},
   "source": [
    "### [02] 레이아웃 이해하고 파일 생성하기"
   ]
  },
  {
   "cell_type": "code",
   "execution_count": null,
   "id": "3fdd44d0-31d8-457b-8986-bad556b6bbc2",
   "metadata": {},
   "outputs": [],
   "source": [
    "from pptx import Presentation\n",
    "\n",
    "# ➊ Presentation 객체를 생성하여 프레젠테이션을 초기화\n",
    "prs = Presentation()\n",
    "# ➋ 첫 번째 슬라이드 레이아웃 선택\n",
    "slide_layout = prs.slide_layouts[0] \n",
    "# ➌ 선택한 레이아웃을 사용하여 새 슬라이드 추가\n",
    "slide = prs.slides.add_slide(slide_layout)\n",
    "# 파일 저장\n",
    "prs.save('presentation.pptx')"
   ]
  },
  {
   "cell_type": "code",
   "execution_count": null,
   "id": "dd469f30-741b-47a3-811a-a2d9783137da",
   "metadata": {},
   "outputs": [],
   "source": [
    "# 레이아웃 인덱스와 이름 출력하기\n",
    "from pptx import Presentation\n",
    "\n",
    "prs = Presentation()\n",
    "\n",
    "# 사용 가능한 모든 슬라이드 레이아웃의 인덱스와 이름 출력\n",
    "for i, layout in enumerate(prs.slide_layouts):\n",
    "  print(f'Layout {i}: {layout.name}')"
   ]
  },
  {
   "cell_type": "markdown",
   "id": "0833e94f-6083-468f-b7ac-9ba20fa9e6b3",
   "metadata": {},
   "source": [
    "### [03] 텍스트 추가하기"
   ]
  },
  {
   "cell_type": "code",
   "execution_count": null,
   "id": "c603ef00-8c8c-49ce-b4a4-b04f79c12f4d",
   "metadata": {},
   "outputs": [],
   "source": [
    "from pptx import Presentation\n",
    "\n",
    "prs = Presentation()\n",
    "\n",
    "slide_layout = prs.slide_layouts[0] \n",
    "slide = prs.slides.add_slide(slide_layout)\n",
    "\n",
    "# ➊ 슬라이드의 제목 placeholder에 접근해 텍스트를 입력\n",
    "title = slide.shapes.title\n",
    "title.text = 'Hello, World!'\n",
    "\n",
    "# ➋ 슬라이드의 부제목 placeholder에 접근해 텍스트를 입력\n",
    "subtitle = slide.placeholders[1]\n",
    "subtitle.text = '파이썬 파워포인트 자동화'\n",
    "\n",
    "prs.save('presentation.pptx')"
   ]
  },
  {
   "cell_type": "code",
   "execution_count": null,
   "id": "9490f7a9-47bd-4f90-8bfe-7b40712c1ad4",
   "metadata": {},
   "outputs": [],
   "source": [
    "# 특정 레이아웃의 placeholder[인덱스]와 역할을 알아내기\n",
    "from pptx import Presentation\n",
    "\n",
    "prs = Presentation()\n",
    "slide_layout = prs.slide_layouts[0] \n",
    "slide = prs.slides.add_slide(slide_layout)\n",
    "\n",
    "# 선택된 슬라이드의 모든 placeholder의 인덱스와 이름을 반환\n",
    "for i, placeholder in enumerate(slide.placeholders):\n",
    "  print(f'Placeholder {i}: {placeholder.name}')"
   ]
  },
  {
   "cell_type": "markdown",
   "id": "702ce343-75d7-4987-8f0e-4fe061e8b0e6",
   "metadata": {},
   "source": [
    "### [04] 텍스트 박스 추가하고 텍스트 추가하기"
   ]
  },
  {
   "cell_type": "code",
   "execution_count": null,
   "id": "e1612af0-231f-44bc-8481-c4d4e43083e3",
   "metadata": {},
   "outputs": [],
   "source": [
    "from pptx import Presentation\n",
    "from pptx.util import Inches\n",
    "\n",
    "prs = Presentation()\n",
    "\n",
    "slide_layout = prs.slide_layouts[1]\n",
    "slide = prs.slides.add_slide(slide_layout)\n",
    "\n",
    "title = slide.shapes.title\n",
    "subtitle = slide.placeholders[1]\n",
    "title.text = '제목'\n",
    "subtitle.text = '부제목'\n",
    "\n",
    "# ➊ 새로운 텍스트 박스를 슬라이드에 추가\n",
    "left = Inches(1) # 텍스트 박스의 가로 위치(슬라이드 왼쪽 끝으로부터 떨어진 거리)\n",
    "top = Inches(2) # 텍스트 박스의 세로 위치(슬라이드 위쪽 끝으로부터 떨어진 거리)\n",
    "width = Inches(5) # 텍스트 박스의 가로 길이\n",
    "height = Inches(1.5) # 텍스트 박스의 세로 길이\n",
    "textbox = slide.shapes.add_textbox(left = left, top = top, width = width, height = height)\n",
    "\n",
    "# ➋ 새로 생성한 텍스트 박스에 텍스트 추가\n",
    "frame = textbox.text_frame\n",
    "p = frame.add_paragraph()\n",
    "p.text = '새로운 텍스트 박스에 추가된 텍스트'\n",
    "\n",
    "prs.save('presentation_add_text.pptx')"
   ]
  },
  {
   "cell_type": "markdown",
   "id": "53757b88-a4bf-4507-91c8-bbb8dbc46f1a",
   "metadata": {},
   "source": [
    "### [05] 목록 추가하기"
   ]
  },
  {
   "cell_type": "code",
   "execution_count": null,
   "id": "951b02b7-8662-4e31-a89a-7dd6a8e2214c",
   "metadata": {},
   "outputs": [],
   "source": [
    "from pptx import Presentation\n",
    "\n",
    "prs = Presentation()\n",
    "slide_layout = prs.slide_layouts[1] \n",
    "\n",
    "slide = prs.slides.add_slide(slide_layout)\n",
    "slide.shapes.title.text = '파이썬의 장점'\n",
    "\n",
    "# ➊ Placeholder 1의 TextFrame 객체에 리스트의 첫 번째 항목 입력\n",
    "tf = slide.placeholders[1].text_frame\n",
    "tf.text = '쉬운 사용법'\n",
    "\n",
    "# ➋ 첫 번째 항목에 대한 하위 항목 추가\n",
    "p = tf.add_paragraph()\n",
    "p.text = '직관적인 문법'\n",
    "p.level = 1\n",
    "\n",
    "# ➌ 리스트의 두 번째 항목 추가\n",
    "p = tf.add_paragraph()\n",
    "p.text = '높은 생산성'\n",
    "p.level = 0\n",
    "\n",
    "# ➍ 두 번째 항목에 대한 하위 항목 추가\n",
    "p = tf.add_paragraph()\n",
    "p.text = '빠른 개발 속도'\n",
    "p.level = 1\n",
    "\n",
    "# ➎ 리스트의 세 번째 항목 추가\n",
    "p = tf.add_paragraph()\n",
    "p.text = '다양한 라이브러리와 프레임워크'\n",
    "p.level = 0\n",
    "\n",
    "# ➏ 세 번째 항목에 대한 하위 항목 추가\n",
    "p = tf.add_paragraph()\n",
    "p.text = '머신 러닝, 웹 개발 등에 유용'\n",
    "p.level = 1\n",
    "\n",
    "prs.save('presentation_with_list.pptx')"
   ]
  },
  {
   "cell_type": "markdown",
   "id": "56dd8fd2-1f6e-4b65-8dd9-0e73d1af5872",
   "metadata": {},
   "source": [
    "### [06] 텍스트 서식 설정하기"
   ]
  },
  {
   "cell_type": "code",
   "execution_count": null,
   "id": "87b5a70d-0762-4255-98e7-116b2a38f9ff",
   "metadata": {},
   "outputs": [],
   "source": [
    "from pptx import Presentation\n",
    "from pptx.util import Inches, Pt\n",
    "from pptx.enum.text import PP_PARAGRAPH_ALIGNMENT\n",
    "from pptx.dml.color import RGBColor \n",
    "\n",
    "prs = Presentation()\n",
    "slide_layout = prs.slide_layouts[5]\n",
    "slide = prs.slides.add_slide(slide_layout)\n",
    "slide.shapes.title.text = '서식 설정하기'\n",
    "\n",
    "# 슬라이드에 텍스트 박스 추가\n",
    "left = top = Inches(1)\n",
    "width = height = Inches(5)\n",
    "txBox = slide.shapes.add_textbox(left, top, width, height)\n",
    "tf = txBox.text_frame\n",
    "\n",
    "# 첫 번째 단락 추가 텍스트 입력\n",
    "p = tf.add_paragraph()\n",
    "p.text = '서식을 설정한 텍스트'\n",
    "# ➊ 단락에 텍스트 서식 설정\n",
    "p.font.name = '나눔바른고딕' \n",
    "p.font.bold = True\n",
    "p.font.size = Pt(30)\n",
    "p.font.color.rgb = RGBColor(0, 0, 255)  # RGBColor 클래스를 사용하여 글꼴 색상 설정\n",
    "p.alignment = PP_PARAGRAPH_ALIGNMENT.CENTER  # 텍스트 정렬 설정\n",
    "\n",
    "prs.save('presentation_text_format.pptx')"
   ]
  },
  {
   "cell_type": "markdown",
   "id": "fb50a156-7924-4e1b-b8ce-c4fcf172734e",
   "metadata": {},
   "source": [
    "### [07] 개별 텍스트에 서식 설정하기"
   ]
  },
  {
   "cell_type": "code",
   "execution_count": null,
   "id": "417c54c5-136e-4f09-90d5-0f8497962685",
   "metadata": {},
   "outputs": [],
   "source": [
    "from pptx import Presentation\n",
    "from pptx.util import Inches, Pt\n",
    "from pptx.enum.text import PP_PARAGRAPH_ALIGNMENT\n",
    "from pptx.dml.color import RGBColor \n",
    "\n",
    "prs = Presentation()\n",
    "slide_layout = prs.slide_layouts[5]\n",
    "slide = prs.slides.add_slide(slide_layout)\n",
    "slide.shapes.title.text = '서식 설정하기'\n",
    "\n",
    "# 슬라이드에 텍스트 박스 추가\n",
    "left = top = Inches(1)\n",
    "width = height = Inches(5)\n",
    "txBox = slide.shapes.add_textbox(left, top, width, height)\n",
    "tf = txBox.text_frame\n",
    "\n",
    "# 첫 번째 단락 추가 텍스트 입력\n",
    "p = tf.add_paragraph()\n",
    "p.text = '서식을 설정한 텍스트'\n",
    "# 단락에 텍스트 서식 설정\n",
    "p.font.name = '태백체 TTF' \n",
    "p.font.bold = True\n",
    "p.font.size = Pt(30)\n",
    "p.font.color.rgb = RGBColor(0, 0, 255)  # RGBColor 클래스를 사용하여 글꼴 색상 설정\n",
    "p.alignment = PP_PARAGRAPH_ALIGNMENT.CENTER  # 텍스트 정렬 설정\n",
    "\n",
    "# ➊ 단락에 새로운 Run 객체를 추가해 텍스트 입력\n",
    "run = p.add_run()\n",
    "run.text = '\\n새로운 텍스트 추가'\n",
    "# ➋ Run 객체에 텍스트 서식 설정\n",
    "run.font.name = '더잠실 3 Regular'\n",
    "run.font.italic = True\n",
    "run.font.size = Pt(20)\n",
    "run.font.color.rgb = RGBColor(255, 51, 0)\n",
    "\n",
    "prs.save('presentation_text_format2.pptx')"
   ]
  },
  {
   "cell_type": "markdown",
   "id": "ac6d9a9a-3b3b-4b90-a6ad-a3a9982e25c7",
   "metadata": {},
   "source": [
    "### [08] 표 추가하기"
   ]
  },
  {
   "cell_type": "code",
   "execution_count": null,
   "id": "124dc2fd-1b88-4515-b528-0356b8e0e224",
   "metadata": {},
   "outputs": [],
   "source": [
    "from pptx import Presentation\n",
    "from pptx.util import Inches\n",
    "\n",
    "prs = Presentation()\n",
    "slide_layout = prs.slide_layouts[5]\n",
    "slide = prs.slides.add_slide(slide_layout)\n",
    "slide.shapes.title.text = '표 추가하기'\n",
    "\n",
    "# ➊ 표 추가 위치 및 크기, 행과 열의 개수 설정\n",
    "left = Inches(2)\n",
    "top = Inches(2)\n",
    "width = Inches(6)\n",
    "height = Inches(4.5)\n",
    "rows, cols = 3, 2\n",
    "\n",
    "# ➋ 표 추가 (3행 2열)\n",
    "table = slide.shapes.add_table(rows, cols, left, top, width, height).table\n",
    "\n",
    "# ➌ 표에 텍스트 추가\n",
    "table.cell(0, 0).text = '열이름 1'\n",
    "table.cell(0, 1).text = '열이름 2'\n",
    "\n",
    "table.cell(1, 0).text = '1 행, 1 열'\n",
    "table.cell(1, 1).text = '1 행, 2 열'\n",
    "\n",
    "table.cell(2, 0).text = '2 행, 1 열'\n",
    "table.cell(2, 1).text = '2 행, 2 열'\n",
    "\n",
    "prs.save('presentation_with_table.pptx')"
   ]
  },
  {
   "cell_type": "markdown",
   "id": "066f02d3-f8d2-4867-9c9c-497918da4418",
   "metadata": {},
   "source": [
    "### [09] 표 서식 설정하기"
   ]
  },
  {
   "cell_type": "code",
   "execution_count": null,
   "id": "be04ff08-d057-436e-ad90-dbcb8e02cad4",
   "metadata": {},
   "outputs": [],
   "source": [
    "from pptx.enum.text import PP_PARAGRAPH_ALIGNMENT\n",
    "from pptx.dml.color import RGBColor\n",
    "from pptx import Presentation\n",
    "from pptx.util import Inches\n",
    "\n",
    "prs = Presentation()\n",
    "slide_layout = prs.slide_layouts[5]\n",
    "slide = prs.slides.add_slide(slide_layout)\n",
    "slide.shapes.title.text = '표 추가하기'\n",
    "\n",
    "# 표 추가 위치 및 크기, 행과 열의 개수 설정\n",
    "left = Inches(2)\n",
    "top = Inches(2)\n",
    "width = Inches(6)\n",
    "height = Inches(4.5)\n",
    "rows, cols = 3, 2\n",
    "\n",
    "# 표 추가 (3행 2열)\n",
    "table = slide.shapes.add_table(rows, cols, left, top, width, height).table\n",
    "\n",
    "# ➊ 행 높이 설정\n",
    "for row in table.rows:\n",
    "  row.height = Inches(1)\n",
    "\n",
    "# ➋ 열 너비 설정\n",
    "for col in table.columns:\n",
    "  col.width = Inches(3)\n",
    "\n",
    "# 표에 텍스트 추가\n",
    "table.cell(0, 0).text = '열이름 1'\n",
    "table.cell(0, 1).text = '열이름 2'\n",
    "table.cell(1, 0).text = '1 행, 1 열'\n",
    "table.cell(1, 1).text = '1 행, 2 열'\n",
    "table.cell(2, 0).text = '2 행, 1 열'\n",
    "table.cell(2, 1).text = '2 행, 2 열'\n",
    "\n",
    "# ➌ 특정 셀의 글꼴 설정\n",
    "table.cell(0, 0).text_frame.paragraphs[0].font.size = Pt(40)\n",
    "table.cell(0, 0).text_frame.paragraphs[0].font.color.rgb = RGBColor(255, 255, 0)\n",
    "\n",
    "# ➍ 특정 셀의 배경색 설정\n",
    "table.cell(0, 0).fill.solid()\n",
    "table.cell(0, 0).fill.fore_color.rgb = RGBColor(91, 155, 213)\n",
    "\n",
    "prs.save('presentation_with_table2.pptx')"
   ]
  }
 ],
 "metadata": {
  "kernelspec": {
   "display_name": "Python 3 (ipykernel)",
   "language": "python",
   "name": "python3"
  },
  "language_info": {
   "codemirror_mode": {
    "name": "ipython",
    "version": 3
   },
   "file_extension": ".py",
   "mimetype": "text/x-python",
   "name": "python",
   "nbconvert_exporter": "python",
   "pygments_lexer": "ipython3",
   "version": "3.11.7"
  }
 },
 "nbformat": 4,
 "nbformat_minor": 5
}
