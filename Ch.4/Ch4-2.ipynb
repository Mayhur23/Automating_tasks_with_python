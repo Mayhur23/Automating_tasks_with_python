{
 "cells": [
  {
   "cell_type": "markdown",
   "id": "4380f1ba-5d6e-496f-a70d-8364051d590a",
   "metadata": {},
   "source": [
    "### [01] 도형 추가하기"
   ]
  },
  {
   "cell_type": "code",
   "execution_count": null,
   "id": "ab98dad5-3a06-41cf-843c-a13203113172",
   "metadata": {},
   "outputs": [],
   "source": [
    "from pptx import Presentation\n",
    "from pptx.util import Inches\n",
    "from pptx.util import Pt\n",
    "from pptx.dml.color import RGBColor\n",
    "from pptx.enum.shapes import MSO_SHAPE\n",
    "\n",
    "prs = Presentation()\n",
    "slide_layout = prs.slide_layouts[5]\n",
    "slide = prs.slides.add_slide(slide_layout)\n",
    "slide.shapes.title.text = '도형 추가하기'\n",
    "\n",
    "# ➊ 둥근 직사각형을 추가\n",
    "left = Inches(2)\n",
    "top = Inches(2)\n",
    "width = Inches(6)\n",
    "height = Inches(4.5)\n",
    "shape = slide.shapes.add_shape(MSO_SHAPE.ROUNDED_RECTANGLE, left, top, width, height)\n",
    "\n",
    "# ➋ 도형의 서식 설정\n",
    "shape.fill.solid()  # 단색 채우기\n",
    "shape.fill.fore_color.rgb = RGBColor(91, 155, 213)  # 채우기 색상 설정(파란색)\n",
    "shape.line.color.rgb = RGBColor(255, 102, 0)  # 테두리 색상 설정(주황색)\n",
    "\n",
    "# ➌ 텍스트를 추가 후 서식 설정\n",
    "shape.text = '둥근 직사각형'\n",
    "shape.text_frame.paragraphs[0].font.bold = True\n",
    "shape.text_frame.paragraphs[0].font.size = Pt(36)\n",
    "\n",
    "prs.save('presentation_with_graphics.pptx')"
   ]
  },
  {
   "cell_type": "markdown",
   "id": "65f3643f-fd45-4954-96a9-fd08b71dc3b5",
   "metadata": {},
   "source": [
    "### [02] 이미지 추가하기"
   ]
  },
  {
   "cell_type": "code",
   "execution_count": null,
   "id": "d719b285-607e-4b1c-b3d0-a8b0055395f6",
   "metadata": {},
   "outputs": [],
   "source": [
    "from pptx import Presentation\n",
    "from pptx.util import Inches\n",
    "\n",
    "prs = Presentation()\n",
    "slide_layout = prs.slide_layouts[5]\n",
    "slide = prs.slides.add_slide(slide_layout)\n",
    "slide.shapes.title.text = \"이미지 추가하기\"\n",
    "\n",
    "# ➊ 이미지 경로 지정\n",
    "img_path = 'image1.png'\n",
    "\n",
    "# ➋ 이미지의 위치와 크기 지정\n",
    "left = top = Inches(1)\n",
    "width = height = Inches(5)\n",
    "\n",
    "# ➌ 이미지 추가\n",
    "slide.shapes.add_picture(img_path, left, top, width, height)\n",
    "\n",
    "prs.save('presentation_with_image.pptx')"
   ]
  },
  {
   "cell_type": "markdown",
   "id": "810b1ac5-4812-47ec-9325-84c8557ca6af",
   "metadata": {},
   "source": [
    "### [03] 차트 추가하기"
   ]
  },
  {
   "cell_type": "code",
   "execution_count": null,
   "id": "0e1b4206-c03e-4a9b-8b69-f12a37c064ed",
   "metadata": {},
   "outputs": [],
   "source": [
    "from pptx import Presentation\n",
    "from pptx.chart.data import CategoryChartData\n",
    "from pptx.enum.chart import XL_CHART_TYPE\n",
    "from pptx.util import Inches\n",
    "\n",
    "prs = Presentation()\n",
    "slide_layout = prs.slide_layouts[5]\n",
    "slide = prs.slides.add_slide(slide_layout)\n",
    "slide.shapes.title.text = '차트 추가하기'\n",
    "\n",
    "# 차트 데이터 정의\n",
    "chart_data = CategoryChartData() # ➊ CategoryChartData 클래스 객체 생성\n",
    "chart_data.categories = ['A제품', 'B제품', 'C제품'] # ➋ 카테고리 레이블 설정\n",
    "chart_data.add_series('잔류오염도', (9.2, 11.4, 16.7)) # ➌ 데이터 시리즈 추가\n",
    "# chart_data.add_series('잔류오염도2', (2.2, 6.4, 23.7)) # ➌’ 데이터 시리즈 추가(테스트용)\n",
    "\n",
    "# ➍ 차트의 위치 및 크기 지정\n",
    "x, y, cx, cy = Inches(2), Inches(2), Inches(6), Inches(4.5)\n",
    "\n",
    "# ➎ 차트 추가\n",
    "chart = slide.shapes.add_chart(\n",
    "  XL_CHART_TYPE.COLUMN_CLUSTERED, x, y, cx, cy, chart_data\n",
    ").chart\n",
    "\n",
    "# ➏ 차트 제목 설정\n",
    "chart.has_title = True\n",
    "chart.chart_title.text_frame.text = '제품별 잔류 오염도 측정 데이터'\n",
    "\n",
    "# ➐ x축과 y축 제목 설정\n",
    "chart.category_axis.axis_title.text_frame.text = '제품'\n",
    "chart.value_axis.axis_title.text_frame.text = '제품 사용 후 잔류 오염도'\n",
    "\n",
    "prs.save('presentation_with_chart.pptx')"
   ]
  },
  {
   "cell_type": "markdown",
   "id": "11a4f97d-934d-432a-b670-71343b5737e3",
   "metadata": {},
   "source": [
    "<u>**<한 걸음 더!> 다른 차트도 그려보고 싶어요!**</u>"
   ]
  },
  {
   "cell_type": "code",
   "execution_count": null,
   "id": "639bc74c-154e-4665-b43f-f57923777859",
   "metadata": {},
   "outputs": [],
   "source": [
    "from pptx.enum.chart import XL_CHART_TYPE\n",
    "\n",
    "# 차트 유형 나열\n",
    "chart_types = [attr for attr in dir(XL_CHART_TYPE) if not callable(getattr(XL_CHART_TYPE, attr)) and not attr.startswith('__')]\n",
    "\n",
    "for chart_type in chart_types:\n",
    "  print(chart_type)"
   ]
  }
 ],
 "metadata": {
  "kernelspec": {
   "display_name": "Python 3 (ipykernel)",
   "language": "python",
   "name": "python3"
  },
  "language_info": {
   "codemirror_mode": {
    "name": "ipython",
    "version": 3
   },
   "file_extension": ".py",
   "mimetype": "text/x-python",
   "name": "python",
   "nbconvert_exporter": "python",
   "pygments_lexer": "ipython3",
   "version": "3.11.7"
  }
 },
 "nbformat": 4,
 "nbformat_minor": 5
}
