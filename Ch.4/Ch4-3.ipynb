{
 "cells": [
  {
   "cell_type": "markdown",
   "id": "2e873251-fb95-434d-81c9-48da1550c234",
   "metadata": {},
   "source": [
    "### [01] 파일 열기"
   ]
  },
  {
   "cell_type": "code",
   "execution_count": null,
   "id": "b705ac1a-e593-45ed-a3dc-1b5772e63b98",
   "metadata": {},
   "outputs": [],
   "source": [
    "from pptx import Presentation\n",
    "\n",
    "# 파일 열기\n",
    "prs = Presentation('presentation_with_list.pptx')"
   ]
  },
  {
   "cell_type": "markdown",
   "id": "cb29e6d7-e953-49ae-b6d1-d1f57dbeca3d",
   "metadata": {},
   "source": [
    "### [02] 텍스트 추출하기"
   ]
  },
  {
   "cell_type": "code",
   "execution_count": null,
   "id": "21237019-96b2-435a-884f-2f07a183b5c9",
   "metadata": {},
   "outputs": [],
   "source": [
    "from pptx import Presentation\n",
    "\n",
    "prs = Presentation('presentation_with_list.pptx')\n",
    "\n",
    "# ➊ 각 슬라이드의 텍스트를 출력\n",
    "for slide_number, slide in enumerate(prs.slides): #전체 슬라이드를 순회\n",
    "  print(f'Slide {slide_number+1}')\n",
    "\n",
    "  # ➋ 슬라이드의 텍스트 출력\n",
    "  #각 슬라이드에 포함된 모든 도형(일반적인 도형, 텍스트 프레임, 표 등)를 순회\n",
    "  for shape in slide.shapes:\n",
    "    # ➌ 현재 도형에 텍스트 프레임이 있는지 확인하고, 있으면 다음 코드 라인을 실행\n",
    "    if hasattr(shape, 'text_frame') and shape.text_frame:\n",
    "\n",
    "      # ➍ 텍스트 프레임의 내용을 출력\n",
    "      for paragraph in shape.text_frame.paragraphs: # 텍스트 프레임의 모든 단락을 순회\n",
    "        for run in paragraph.runs: # 현재 단락의 텍스트 런에 접근\n",
    "          print(run.text) #현재 텍스트 런을 출력"
   ]
  },
  {
   "cell_type": "markdown",
   "id": "6e343e88-fd22-47b5-8d3b-d840152276af",
   "metadata": {},
   "source": [
    "### [03] 표 읽어 추출하기"
   ]
  },
  {
   "cell_type": "code",
   "execution_count": null,
   "id": "a2d201bc-5145-4b40-9f78-451b9c437e1c",
   "metadata": {},
   "outputs": [],
   "source": [
    "from pptx import Presentation\n",
    "\n",
    "prs = Presentation('presentation_with_table.pptx')\n",
    "\n",
    "# ➊ 전체 슬라이드를 순회하며 표를 찾아 데이터를 추출\n",
    "for slide_number, slide in enumerate(prs.slides):\n",
    "  print(f'Slide {slide_number+1}')\n",
    "  # ➋ 각 슬라이드에 포함된 모든 도형을 순회\n",
    "  for shape in slide.shapes: \n",
    "\n",
    "    if hasattr(shape, 'table'): # ➌ 현재 도형이 표를 포함하고 있는지 확인\n",
    "      table = shape.table # ➍ 표를 table 변수에 할당\n",
    "\n",
    "      # ➎ 표를 순회하며 각 셀의 텍스트를 출력\n",
    "      for row in table.rows: # 각 행을 순회\n",
    "        for cell in row.cells: # 현재 행의 각 셀을 순회\n",
    "          print(cell.text) #현재 셀의 텍스트 출력"
   ]
  },
  {
   "cell_type": "markdown",
   "id": "5d986fbe-942f-4ab0-9313-43fd02a20fd5",
   "metadata": {},
   "source": [
    "### [04] 이미지 파일 추출하기"
   ]
  },
  {
   "cell_type": "code",
   "execution_count": null,
   "id": "a548fbc7-026f-4efb-bce6-c3afdc1dcabe",
   "metadata": {},
   "outputs": [],
   "source": [
    "from pptx import Presentation\n",
    "\n",
    "prs = Presentation('presentation_with_image.pptx')\n",
    "\n",
    "# ➊ 전체 슬라이드를 순회\n",
    "for slide_number, slide in enumerate(prs.slides):\n",
    "  # ➋ 각 슬라이드에서 모든 도형을 순회\n",
    "  for shape in slide.shapes:\n",
    "\n",
    "    # ➌ 현재 도형이 이미지의 속성을 가지고 있는지 확인하고, 이미지일 경우 다음의 코드를 실행\n",
    "    if hasattr(shape, 'image'):\n",
    "\n",
    "      # ➍ 이미지의 바이트 데이터와 확장자를 가져와 변수에 할당\n",
    "      image_stream = shape.image.blob\n",
    "      image_format = shape.image.ext\n",
    "\n",
    "      # ➎ 바이트 데이터를 사용하여 이미지 파일을 생성\n",
    "      with open(f'slide_{slide_number}_image.{image_format}', 'wb') as img_file:\n",
    "        img_file.write(image_stream)\n",
    "        print('저장된 파일명: ', f'slide_{slide_number}_image.{image_format}')"
   ]
  },
  {
   "cell_type": "markdown",
   "id": "dc45bf3f-c6d2-4c21-9697-81fd189eeeb9",
   "metadata": {},
   "source": [
    "### [05] 차트 데이터 추출하기"
   ]
  },
  {
   "cell_type": "code",
   "execution_count": null,
   "id": "c7515b19-b96d-43d4-8db8-d479aa921ffc",
   "metadata": {},
   "outputs": [],
   "source": [
    "from pptx import Presentation\n",
    "\n",
    "prs = Presentation('presentation_with_chart.pptx')\n",
    "\n",
    "# ➊ 전체 슬라이드를 순회\n",
    "for slide_number, slide in enumerate(prs.slides):\n",
    "\n",
    "  # ➋ 각 슬라이드 내의 모든 도형을 순회\n",
    "  for shape in slide.shapes:\n",
    "\n",
    "    # ➌ if문과 hasattr 함수를 사용하여 현재 도형이 차트 속성을 갖는지 확인\n",
    "    if hasattr(shape, 'chart'):\n",
    "      chart = shape.chart  # ➍ 차트가 있는 경우 차트 객체를 chart에 할당\n",
    "\n",
    "      # ➎ 차트 내의 모든 시리즈를 순회\n",
    "      for series in chart.series:\n",
    "        print(f'Series title: {series.name}') # 시리즈 이름을 출력\n",
    "\n",
    "        # ➏ 첫 번째 플롯(plot)의 카테고리와 값(즉, x값과 y값)의 쌍을 순회하며 출력\n",
    "        for x_val, y_val in zip(chart.plots[0].categories, series.values):\n",
    "          print(f'Data point: x={x_val}, y={y_val}')"
   ]
  },
  {
   "cell_type": "markdown",
   "id": "e7526004-53ba-4171-816f-d859a93159c1",
   "metadata": {},
   "source": [
    "<u>**<한 걸음 더!> zip( ) 함수란?**</u>"
   ]
  },
  {
   "cell_type": "code",
   "execution_count": null,
   "id": "35e9d0f5-a862-47d9-b387-4c47371445a9",
   "metadata": {},
   "outputs": [],
   "source": [
    "fruits = ['사과', '바나나', '메론']\n",
    "colors = ['빨강', '노랑']\n",
    "for fruit, color in zip(fruits, colors):\n",
    "  print(fruit, color)"
   ]
  }
 ],
 "metadata": {
  "kernelspec": {
   "display_name": "Python 3 (ipykernel)",
   "language": "python",
   "name": "python3"
  },
  "language_info": {
   "codemirror_mode": {
    "name": "ipython",
    "version": 3
   },
   "file_extension": ".py",
   "mimetype": "text/x-python",
   "name": "python",
   "nbconvert_exporter": "python",
   "pygments_lexer": "ipython3",
   "version": "3.11.7"
  }
 },
 "nbformat": 4,
 "nbformat_minor": 5
}
