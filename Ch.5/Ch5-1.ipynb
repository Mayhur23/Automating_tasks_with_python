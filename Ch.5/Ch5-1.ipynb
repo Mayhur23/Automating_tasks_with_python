{
 "cells": [
  {
   "cell_type": "markdown",
   "id": "cb0c29df-38d0-49f5-a7c8-ee9eab29c749",
   "metadata": {},
   "source": [
    "### [00] 실습을 시작하기 전에"
   ]
  },
  {
   "cell_type": "code",
   "execution_count": null,
   "id": "f3ac3bf7-3f6d-4493-9efb-0bb4dd96fa1f",
   "metadata": {},
   "outputs": [],
   "source": [
    "import pandas as pd"
   ]
  },
  {
   "cell_type": "markdown",
   "id": "bf9c91e7-0065-4012-bb7c-90101956a1be",
   "metadata": {},
   "source": [
    "### [01] 데이터프레임 만들기"
   ]
  },
  {
   "cell_type": "code",
   "execution_count": null,
   "id": "6c5edc3e-2294-4ae1-97b5-3565e88be96a",
   "metadata": {},
   "outputs": [],
   "source": [
    "import pandas as pd\n",
    "\n",
    "# ➊ 데이터를 이중 리스트로 생성\n",
    "data_list = [\n",
    "  ['소라', 25, '인천'],\n",
    "  ['창훈', 30, '순천'],\n",
    "  ['영미', 35, '동해']\n",
    "]\n",
    "\n",
    "# ➋ 열 이름을 위한 리스트\n",
    "columns = ['이름', '나이', '거주지']\n",
    "\n",
    "# ➌ 리스트를 사용하여 데이터프레임 생성\n",
    "df = pd.DataFrame(data_list, columns=columns)\n",
    "\n",
    "# ➍ 데이터프레임 출력\n",
    "df"
   ]
  },
  {
   "cell_type": "markdown",
   "id": "ddf69e68-40d7-4985-ac3b-0482a2479412",
   "metadata": {},
   "source": [
    "### [02] 파일을 데이터프레임으로 가져오기"
   ]
  },
  {
   "cell_type": "code",
   "execution_count": null,
   "id": "a843f7cb-0610-4b23-8fa8-8ba5c6a30d4b",
   "metadata": {},
   "outputs": [],
   "source": [
    "import pandas as pd\n",
    "\n",
    "# ➊ 'sales_data.xlsx'의 데이터를 불러와 데이터프레임 생성\n",
    "df = pd.read_excel('sales_data.xlsx')\n",
    "df # 데이터프레임 출력"
   ]
  },
  {
   "cell_type": "markdown",
   "id": "8d11e4b1-75d6-4cf1-90db-5e8b377dfbf6",
   "metadata": {},
   "source": [
    "### [03] 데이터프레임을 파일로 저장하기"
   ]
  },
  {
   "cell_type": "code",
   "execution_count": null,
   "id": "3eb2ca2c-72a9-42a8-865b-47a3cd20821f",
   "metadata": {},
   "outputs": [],
   "source": [
    "import pandas as pd\n",
    "\n",
    "# 도서 목록 데이터를 이중 리스트로 생성\n",
    "data = [\n",
    "   [1, '파이썬 프로그래밍', '김파이썬', 2019],\n",
    "   [2, '데이터 분석', '이데이터', 2020],\n",
    "   [3, '머신러닝 입문', '박머신', 2018],\n",
    "   [4, '인공지능의 이해', '최인공', 2021]\n",
    "]\n",
    "\n",
    "# 열 이름 리스트 생성\n",
    "columns = ['도서ID', '도서명', '저자', '출판년도']\n",
    "\n",
    "# data와 columns로 데이터프레임 생성\n",
    "books_df = pd.DataFrame(data, columns=columns)\n",
    "\n",
    "# 데이터프레임을 엑셀 파일로 저장\n",
    "books_df.to_excel('도서_데이터.xlsx')\n",
    "\n",
    "# 데이터프레임 출력\n",
    "books_df"
   ]
  },
  {
   "cell_type": "markdown",
   "id": "ca7f41f4-f82e-40f3-81cb-6d731ff3b6dd",
   "metadata": {},
   "source": [
    "### [04] shape, columns 속성으로 데이터프레임 정보 파악하기"
   ]
  },
  {
   "cell_type": "code",
   "execution_count": null,
   "id": "65c1c37c-5837-4541-895b-3a8cb14c7294",
   "metadata": {},
   "outputs": [],
   "source": [
    "import pandas as pd\n",
    "\n",
    "data = [\n",
    "   ['김철수',25, '서울'],\n",
    "   ['이영희', 32,'부산'],\n",
    "   ['박민수', 19, '대구']\n",
    "]\n",
    "columns = [ '이름',  '나이', '도시' ]\n",
    "df = pd.DataFrame(data, columns=columns)\n",
    "\n",
    "# 데이터프레임의 shape 속성을 사용하여 행과 열의 수 확인\n",
    "print(df.shape)\n",
    "\n",
    "# 데이터프레임 출력\n",
    "df"
   ]
  },
  {
   "cell_type": "code",
   "execution_count": null,
   "id": "907a9b2b-e2d3-4188-b4d6-0e721b04f637",
   "metadata": {},
   "outputs": [],
   "source": [
    "# columns 속성으로 df의 열 이름 확인\n",
    "print(df.columns)"
   ]
  },
  {
   "cell_type": "markdown",
   "id": "729b9e64-a08d-41f3-8096-ced5bbc7642f",
   "metadata": {},
   "source": [
    "### [05] head( ) 함수, tail( ) 함수로 데이터 엿보기"
   ]
  },
  {
   "cell_type": "code",
   "execution_count": null,
   "id": "aaf75077-5893-4e74-baad-e129eeec21c3",
   "metadata": {},
   "outputs": [],
   "source": [
    "import pandas as pd\n",
    "\n",
    "data = [\n",
    "   ['김철수',25, '서울'],\n",
    "   ['이영희', 32,'부산'],\n",
    "   ['박민수', 19, '대구']\n",
    "]\n",
    "columns = [ '이름',  '나이', '도시' ]\n",
    "df = pd.DataFrame(data, columns=columns)\n",
    "\n",
    "# 상위 1개 행 출력\n",
    "print(df.head(1))\n",
    "# 하위 1개 행 출력\n",
    "print(df.tail(1))"
   ]
  },
  {
   "cell_type": "markdown",
   "id": "1b507962-53e1-44e3-a602-1e59a8d19680",
   "metadata": {},
   "source": [
    "### [06] 열 이름 또는 인덱스로 데이터 선택하기"
   ]
  },
  {
   "cell_type": "markdown",
   "id": "e6960028-b8d5-4fba-b2a0-4189722c069f",
   "metadata": {},
   "source": [
    "<span style=\"color: blue;\"><u>**열 선택하기**</u></span>"
   ]
  },
  {
   "cell_type": "code",
   "execution_count": null,
   "id": "eb6227d9-d847-4f7f-9930-1555e83dd69f",
   "metadata": {},
   "outputs": [],
   "source": [
    "# '도시' 열을 선택\n",
    "column_data = df['도시']\n",
    "print(type(column_data))\n",
    "print(column_data)"
   ]
  },
  {
   "cell_type": "code",
   "execution_count": null,
   "id": "66e6d18e-89f6-4063-aa91-f910001d11dd",
   "metadata": {},
   "outputs": [],
   "source": [
    "# '도시', '이름' 열을 각각 선택\n",
    "selected_columns = df[['도시', '이름']]\n",
    "print(type(selected_columns))\n",
    "selected_columns"
   ]
  },
  {
   "cell_type": "code",
   "execution_count": null,
   "id": "4c6986d9-66a4-430e-8e8c-808b992a7e31",
   "metadata": {},
   "outputs": [],
   "source": [
    "column_data = df[['도시']]\n",
    "column_data"
   ]
  },
  {
   "cell_type": "markdown",
   "id": "a0421ef7-bc1f-4871-99fe-01dd8a13908f",
   "metadata": {},
   "source": [
    "<span style=\"color: blue;\"><u>**행 선택하기**</u></span>"
   ]
  },
  {
   "cell_type": "markdown",
   "id": "4f05418c-348c-4e49-8ee8-01e2d3ad7165",
   "metadata": {},
   "source": [
    "<span style=\"color: gray;\"><u><em>**1) loc[ ]**</em></u></span>"
   ]
  },
  {
   "cell_type": "code",
   "execution_count": null,
   "id": "1e888bae-e4b1-4a0f-aee0-0363ceca3f18",
   "metadata": {},
   "outputs": [],
   "source": [
    "# loc[]로 첫 번째 행 데이터 출력\n",
    "row = df.loc[0]\n",
    "print(row)"
   ]
  },
  {
   "cell_type": "code",
   "execution_count": null,
   "id": "4502af4c-aa0b-4c57-b0e1-fceb02144f9d",
   "metadata": {},
   "outputs": [],
   "source": [
    "# 리스트로 여러 행(첫 번째 행과 세 번째 행) 선택\n",
    "selected_rows1 = df.loc[[0, 2]]\n",
    "print(selected_rows1)"
   ]
  },
  {
   "cell_type": "code",
   "execution_count": null,
   "id": "c7b5060e-dae5-43d5-9e35-7990cd6f3a18",
   "metadata": {},
   "outputs": [],
   "source": [
    "# 슬라이싱으로 연속된 여러 행(두 번째 행부터 세 번째 행까지) 선택\n",
    "selected_rows2 = df.loc[1:2]\n",
    "print(selected_rows2)"
   ]
  },
  {
   "cell_type": "code",
   "execution_count": null,
   "id": "cf6c8e49-d9d8-4c12-a043-171c4d281d39",
   "metadata": {},
   "outputs": [],
   "source": [
    "# df의 모든 행에 대한 ‘도시’ 열 데이터 선택\n",
    "selected_column = df.loc[:, '도시']\n",
    "print(selected_column)"
   ]
  },
  {
   "cell_type": "code",
   "execution_count": null,
   "id": "fc1855a1-4bf0-4365-9e30-13cab2fdc613",
   "metadata": {},
   "outputs": [],
   "source": [
    "# df에서 '도시'과 '이름' 열을 선택\n",
    "selected_columns1 = df.loc[:, ['도시', '이름']]\n",
    "print(selected_columns1)"
   ]
  },
  {
   "cell_type": "code",
   "execution_count": null,
   "id": "006b4c03-ddd1-4345-8877-bc96aab20f4a",
   "metadata": {},
   "outputs": [],
   "source": [
    "# df에서 '나이'부터 '도시' 열까지 선택\n",
    "selected_columns2 = df.loc[:, '나이':'도시']\n",
    "print(selected_columns2)"
   ]
  },
  {
   "cell_type": "code",
   "execution_count": null,
   "id": "0784b740-2b16-41d8-a27e-ccdbac02ccef",
   "metadata": {},
   "outputs": [],
   "source": [
    "# '이름' 열의 첫 번째 행 '0'\n",
    "selected_value = df.loc[0, '이름']\n",
    "print(selected_value)"
   ]
  },
  {
   "cell_type": "markdown",
   "id": "4e23228f-f57b-4b77-9068-42d18ea4a1c0",
   "metadata": {},
   "source": [
    "<span style=\"color: gray;\"><u><em>**2) iloc[ ]**</em></u></span>"
   ]
  },
  {
   "cell_type": "code",
   "execution_count": null,
   "id": "719f23fb-c1e2-4477-809b-bc73c61dc229",
   "metadata": {},
   "outputs": [],
   "source": [
    "# 첫 번째 행 선택\n",
    "row = df.iloc[0]\n",
    "\n",
    "# 두 번째 열 선택\n",
    "column = df.iloc[:, 1]\n",
    "\n",
    "print(row)\n",
    "print('------------------------')\n",
    "print(column)"
   ]
  },
  {
   "cell_type": "code",
   "execution_count": null,
   "id": "18a2c330-b095-4aa6-ab7d-a5258f73ce2c",
   "metadata": {},
   "outputs": [],
   "source": [
    "# 마지막 열 선택\n",
    "last_column = df.iloc[:, -1]\n",
    "print(last_column)"
   ]
  },
  {
   "cell_type": "code",
   "execution_count": null,
   "id": "fb51fc9d-1427-44c2-85f5-e4bfbdb05ab6",
   "metadata": {},
   "outputs": [],
   "source": [
    "# 첫 번째부터 두 번째(세 번째 행은 포함되지 않음) 행 선택\n",
    "rows_iloc = df.iloc[0:2]\n",
    "\n",
    "# 두 번째(세 번째 열은 포함되지 않음) 열 선택\n",
    "columns_iloc = df.iloc[:, 1:2]\n",
    "\n",
    "print(rows_iloc)\n",
    "print('------------------------')\n",
    "print(columns_iloc)"
   ]
  },
  {
   "cell_type": "code",
   "execution_count": null,
   "id": "bd5e4b8b-12fb-4e73-b01a-d2fd274f19ad",
   "metadata": {},
   "outputs": [],
   "source": [
    "# 첫 번째부터 두 번째(세 번째는 포함되지 않음) 행 선택\n",
    "rows_loc = df.loc[0:2]\n",
    "\n",
    "# 두 번째부터 세 번째 열 선택\n",
    "columns_loc = df.loc[:, '나이':'도시']\n",
    "\n",
    "print(rows_loc)\n",
    "print('------------------------')\n",
    "print(columns_loc)"
   ]
  },
  {
   "cell_type": "code",
   "execution_count": null,
   "id": "33711acc-3db6-4f53-b6a6-48b50fe398bf",
   "metadata": {},
   "outputs": [],
   "source": [
    "# 첫 번째, 세 번째 행 선택\n",
    "rows_list = df.iloc[[0, 2]]\n",
    "\n",
    "# 첫 번째, 세 번째 열 선택\n",
    "columns_list = df.iloc[:, [0, 2]]\n",
    "\n",
    "print(rows_list)\n",
    "print('------------------------')\n",
    "print(columns_list)"
   ]
  },
  {
   "cell_type": "markdown",
   "id": "6cc4f7f9-f248-4bd5-87b0-b2b3b1bbc06d",
   "metadata": {},
   "source": [
    "<span style=\"color: gray;\"><u><em>**3) 슬라이싱**</em></u></span>"
   ]
  },
  {
   "cell_type": "code",
   "execution_count": null,
   "id": "55328f12-e878-4ba8-b255-f089c59972fb",
   "metadata": {},
   "outputs": [],
   "source": [
    "# 데이터프레임 df의 첫 번째 행부터 두 번째 행까지 선택\n",
    "selected_rows = df[0:2]\n",
    "print(selected_rows)"
   ]
  },
  {
   "cell_type": "markdown",
   "id": "291b2951-cec2-4bfb-9f30-548564dc3a1d",
   "metadata": {},
   "source": [
    "<span style=\"color: gray;\"><u><em>**4) 조건으로 특정 데이터 필터링\n",
    "**</em></u></span>"
   ]
  },
  {
   "cell_type": "code",
   "execution_count": null,
   "id": "2e903982-9541-4d33-88c9-f28ab83d0feb",
   "metadata": {},
   "outputs": [],
   "source": [
    "# '나이' 열의 값이 '20'보다 큰 행만 선택\n",
    "filtered_rows1 = df[df['나이'] > 20 ]\n",
    "print(filtered_rows1)"
   ]
  },
  {
   "cell_type": "code",
   "execution_count": null,
   "id": "4ca30ac8-4a07-4ce1-aa87-8de67bdc2bc6",
   "metadata": {},
   "outputs": [],
   "source": [
    "# '나이' 열이 20보다 크고 '도시' 열의 값이 '서울'이 아닌 행\n",
    "filtered_rows2 = df[(df['나이'] > 20 ) & (df['도시'] != '서울' )]\n",
    "print(filtered_rows2)"
   ]
  },
  {
   "cell_type": "code",
   "execution_count": null,
   "id": "1e24afa8-3def-4851-80ba-1c85f993e69f",
   "metadata": {},
   "outputs": [],
   "source": [
    "filtered_rows_isin = df[df['도시'].isin(['대구','부산'])]\n",
    "print(filtered_rows_isin)"
   ]
  }
 ],
 "metadata": {
  "kernelspec": {
   "display_name": "Python 3 (ipykernel)",
   "language": "python",
   "name": "python3"
  },
  "language_info": {
   "codemirror_mode": {
    "name": "ipython",
    "version": 3
   },
   "file_extension": ".py",
   "mimetype": "text/x-python",
   "name": "python",
   "nbconvert_exporter": "python",
   "pygments_lexer": "ipython3",
   "version": "3.11.7"
  }
 },
 "nbformat": 4,
 "nbformat_minor": 5
}
