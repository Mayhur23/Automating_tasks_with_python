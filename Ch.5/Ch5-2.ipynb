{
 "cells": [
  {
   "cell_type": "markdown",
   "id": "abf0a450-df05-45e3-965c-6412895cc7d6",
   "metadata": {},
   "source": [
    "### [00] 실습을 시작하기 전에"
   ]
  },
  {
   "cell_type": "code",
   "execution_count": null,
   "id": "d5b0ec7f-e9a1-4f10-b9d9-9b63a5839434",
   "metadata": {},
   "outputs": [],
   "source": [
    "import pandas as pd\n",
    "\n",
    "# 온라인 쇼핑몰 주문 데이터 생성\n",
    "data = [\n",
    "  [1, '유재석', 20000, '2024-03-01', '서울'],\n",
    "  [2, '조세호', 50000, '2024-03-01', '부산'],\n",
    "  [3, '유재석', 15000, '2024-03-02', '서울'],\n",
    "  [4, '권상우', 30000, '2024-03-02', '대구'],\n",
    "  [5, '조세호', 100000, '2024-03-03', '부산'],\n",
    "  [6, '권상우', 25000, '2024-03-03', '대구'],\n",
    "  [7, '유재석', 20000, '2024-03-04', '서울']\n",
    "]\n",
    "columns = ['주문번호', '고객명', '주문금액', '주문일자', '배송지역']\n",
    "df = pd.DataFrame(data, columns=columns)\n",
    "\n",
    "# 데이터프레임 출력\n",
    "df"
   ]
  },
  {
   "cell_type": "markdown",
   "id": "365f59df-e1ca-4812-b8ff-609ef93514fa",
   "metadata": {},
   "source": [
    "### [01] 새 열 추가하기"
   ]
  },
  {
   "cell_type": "code",
   "execution_count": null,
   "id": "55f85c6b-46b2-4d78-9822-bd94f28fc944",
   "metadata": {},
   "outputs": [],
   "source": [
    "# 데이터프레임 df에 '배송료' 열을 추가하고 해당 열의 모든 행의 값으로 3000 입력\n",
    "df['배송료'] = 3000\n",
    "df.head(2)"
   ]
  },
  {
   "cell_type": "code",
   "execution_count": null,
   "id": "c6cf70b5-56d5-42db-9767-1ab1571e4c04",
   "metadata": {},
   "outputs": [],
   "source": [
    "df['배송료'] = [3000, 4000, 5000, 6000, 7000, 8000, 9000]\n",
    "df"
   ]
  },
  {
   "cell_type": "code",
   "execution_count": null,
   "id": "9236f629-c655-4642-a87a-48d9bc4f0d56",
   "metadata": {},
   "outputs": [],
   "source": [
    "# 마지막 열 뒤에 ‘배송상태’ 열을 추가하고 ‘배송완료’ 값을 입력\n",
    "df.insert(6, '배송상태', '배송완료')\n",
    "df"
   ]
  },
  {
   "cell_type": "markdown",
   "id": "84745016-9a29-4943-a728-5c77806b463a",
   "metadata": {},
   "source": [
    "### [02] 새 행 추가하기"
   ]
  },
  {
   "cell_type": "code",
   "execution_count": null,
   "id": "3886ed9e-3818-4e7c-97f5-4c308608284e",
   "metadata": {},
   "outputs": [],
   "source": [
    "# 새로운 주문 데이터 행을 추가\n",
    "new_order = {'주문번호': 8, '고객명': '이무진', '주문금액': 45000, '주문일자': '2024-03-05', '배송료': 3000}\n",
    "\n",
    "# 새로운 행 추가\n",
    "df.loc[7] = new_order\n",
    "df.tail(3)"
   ]
  },
  {
   "cell_type": "code",
   "execution_count": null,
   "id": "161b6d2d-ec00-4ad7-a0ab-cc0f9dfc51fb",
   "metadata": {},
   "outputs": [],
   "source": [
    "# ➊ 새로운 주문 정보를 데이터프레임 new_df로 생성\n",
    "new_df = pd.DataFrame({'주문번호': [9, 10],\n",
    "               '고객명': ['이상순', '이효리'],\n",
    "               '주문금액': [40000, 35000],\n",
    "               '배송료': [3000, 3000]})\n",
    "\n",
    "# ➋ concat()으로 데이터프레임 병합\n",
    "df = pd.concat([df, new_df], ignore_index=True)\n",
    "# 결과 출력\n",
    "df"
   ]
  },
  {
   "cell_type": "code",
   "execution_count": null,
   "id": "48fce866-2e99-43a9-b9ac-db86ee993683",
   "metadata": {},
   "outputs": [],
   "source": [
    "# ➊ 새로운 주문 정보를 데이터프레임 new_df2로 생성\n",
    "new_df2 = pd.DataFrame({'주문번호': [11, 12],\n",
    "               '고객명': ['카리나', '안유진'],\n",
    "               '주문금액': [150000, 83000],\n",
    "               '배송지역': ['서울', '서울'],\t\t\n",
    "               '배송료': [3000, 3000],\n",
    "               '배송상태': ['배송중', '배송중']})\n",
    "\n",
    "# ➋ concat()으로 데이터프레임 병합\n",
    "df_concat = pd.concat([df, new_df2], ignore_index=False)\n",
    "\n",
    "# 결과 출력\n",
    "df_concat"
   ]
  },
  {
   "cell_type": "code",
   "execution_count": null,
   "id": "7c09e1e4-1223-4140-a4f2-777b93dcd19b",
   "metadata": {},
   "outputs": [],
   "source": [
    "# ➊ 결합할 데이터프레임 생성\n",
    "concat_columns = pd.DataFrame(\n",
    "  [1000, 2000, 1500, 3000, 5000, 2500, 2000, 1000, 4000], columns=['할인금액']\n",
    ")\n",
    "\n",
    "# ➋ 데이터프레임과 시리즈를 열 방향으로 결합\n",
    "df = pd.concat([df, concat_columns], axis=1, join='inner')\n",
    "df"
   ]
  },
  {
   "cell_type": "markdown",
   "id": "6c321024-1a9f-4f8b-b442-14d1fa43536e",
   "metadata": {},
   "source": [
    "### [03] 행이나 열 삭제하기"
   ]
  },
  {
   "cell_type": "code",
   "execution_count": null,
   "id": "c1d4c881-2adb-4b88-b8f9-28b7b13229c4",
   "metadata": {},
   "outputs": [],
   "source": [
    "# '배송료' 열 삭제 후 상위 3개 행 출력\n",
    "df_drop_column = df.drop('배송료', axis=1)\n",
    "df_drop_column.head(3)"
   ]
  },
  {
   "cell_type": "code",
   "execution_count": null,
   "id": "dc0f17b0-8507-4ebf-894b-0ba1b0985d6e",
   "metadata": {},
   "outputs": [],
   "source": [
    "df"
   ]
  },
  {
   "cell_type": "code",
   "execution_count": null,
   "id": "e9ba1d7c-3beb-44c6-8f47-61b9862e4a8d",
   "metadata": {},
   "outputs": [],
   "source": [
    "# 마지막 행(고객명: 이상순) 삭제 후 하위 3개 행 출력\n",
    "df_drop_row = df.drop(8, axis=0)\n",
    "df_drop_row.tail(3)"
   ]
  },
  {
   "cell_type": "markdown",
   "id": "da962a77-0169-4203-b3b3-386db9309378",
   "metadata": {},
   "source": [
    "### [04] 특정 값 변경하기"
   ]
  },
  {
   "cell_type": "code",
   "execution_count": null,
   "id": "fd97987e-c6d7-47f4-aa54-7a4338a59013",
   "metadata": {},
   "outputs": [],
   "source": [
    "# 첫 번째 행의 '배송료'열의 값을 2500으로 변경\n",
    "df.iloc[0, 5] = 2500\n",
    "df.head(3)"
   ]
  },
  {
   "cell_type": "code",
   "execution_count": null,
   "id": "4ae2f98c-a32a-4682-bb79-8c17e2e4689e",
   "metadata": {},
   "outputs": [],
   "source": [
    "# 두 번째 행의 '배송료'열의 값을 2500으로 변경\n",
    "df.loc[1, '배송료'] = df.loc[1, '배송료'] - 500\n",
    "df.head(3)"
   ]
  },
  {
   "cell_type": "code",
   "execution_count": null,
   "id": "7f14d1e0-4b40-491f-91c8-2b2eb6b006fb",
   "metadata": {},
   "outputs": [],
   "source": [
    "# '고객명' 열의 값이 '유재석'이 아닌 경우에만 '배송료' 열에 2800을 입력\n",
    "df.loc[df['고객명'] != '유재석', '배송료'] = 2800\n",
    "df"
   ]
  },
  {
   "cell_type": "markdown",
   "id": "369fe0cf-550e-4c2a-95a7-f2682e09cbdd",
   "metadata": {},
   "source": [
    "### [05] 결측치 처리하기"
   ]
  },
  {
   "cell_type": "markdown",
   "id": "a2bc7a3a-a9ea-4070-8f95-1b9b3025a428",
   "metadata": {},
   "source": [
    "<span style=\"color: blue;\"><u>**isnull( ) : 결측치 찾기**</u></span>"
   ]
  },
  {
   "cell_type": "code",
   "execution_count": null,
   "id": "3e548c01-0c0b-48b2-984d-27b386776f09",
   "metadata": {},
   "outputs": [],
   "source": [
    "# isnull() 함수로 결측치 확인\n",
    "result = df.isnull()\n",
    "result"
   ]
  },
  {
   "cell_type": "code",
   "execution_count": null,
   "id": "d76033eb-dedd-46a0-adfd-75774309cc02",
   "metadata": {},
   "outputs": [],
   "source": [
    "# 각 열의 결측치의 개수 확인\n",
    "missing_values_count = df.isnull().sum()\n",
    "print(missing_values_count)"
   ]
  },
  {
   "cell_type": "code",
   "execution_count": null,
   "id": "b4ebd918-331b-4ff1-b264-e50cfd81f230",
   "metadata": {},
   "outputs": [],
   "source": [
    "#각 행의 결측치의 개수 확인\n",
    "missing_values_count2 = df.isnull().sum(axis=1)\n",
    "print(missing_values_count2)"
   ]
  },
  {
   "cell_type": "code",
   "execution_count": null,
   "id": "dcc03c7a-1712-41b4-9d32-baadb53f751a",
   "metadata": {},
   "outputs": [],
   "source": [
    "# 배송지역 열에서 결측치가 아닌 행을 선택\n",
    "non_missing_values = df[~df['배송지역'].isnull()]\n",
    "non_missing_values"
   ]
  },
  {
   "cell_type": "markdown",
   "id": "34c9b0f2-759a-4407-a923-be67cce39d7e",
   "metadata": {},
   "source": [
    "<span style=\"color: blue;\"><u>**fillna( ) : 결측치를 다른 값으로 대치하기**</u></span>"
   ]
  },
  {
   "cell_type": "code",
   "execution_count": null,
   "id": "c04cccb0-4a48-4710-99c1-7b4ab24e02af",
   "metadata": {},
   "outputs": [],
   "source": [
    "# 모든 결측치를 '확인중'으로 대체\n",
    "df_filled = df.fillna('확인중')\n",
    "df_filled"
   ]
  },
  {
   "cell_type": "code",
   "execution_count": null,
   "id": "7e400cb3-a3e6-4386-b9ed-b9407e11ffc5",
   "metadata": {},
   "outputs": [],
   "source": [
    "# 배송상태 열의 결측치를 ‘배송중'으로 채우기\n",
    "df['배송상태'] = df['배송상태'].fillna('배송중')\n",
    "df"
   ]
  },
  {
   "cell_type": "markdown",
   "id": "ee134a27-35c4-4c71-8460-148dc2fcfeb4",
   "metadata": {},
   "source": [
    "<span style=\"color: blue;\"><u>**dropna( ) : 결측치를 제거하기**</u></span>"
   ]
  },
  {
   "cell_type": "code",
   "execution_count": null,
   "id": "be853245-cf17-4ec2-9728-232403e03214",
   "metadata": {},
   "outputs": [],
   "source": [
    "# 결측치가 포함된 행을 삭제\n",
    "df.dropna(axis=0, inplace=True)\n",
    "df"
   ]
  },
  {
   "cell_type": "markdown",
   "id": "26ad5bc1-bc60-4573-9789-b885030b73b6",
   "metadata": {},
   "source": [
    "### [06] 중복값 처리하기"
   ]
  },
  {
   "cell_type": "markdown",
   "id": "97b52ae3-2cb7-4df9-b4d8-570b8a2110e0",
   "metadata": {},
   "source": [
    "<span style=\"color: blue;\"><u>**duplicated( ) : 중복 행 찾기**</u></span>"
   ]
  },
  {
   "cell_type": "code",
   "execution_count": null,
   "id": "747733e6-43cf-4315-85ed-e5ced2eece5b",
   "metadata": {},
   "outputs": [],
   "source": [
    "# 중복 행 확인\n",
    "print(df.duplicated())"
   ]
  },
  {
   "cell_type": "code",
   "execution_count": null,
   "id": "4ddc4b59-437e-4bfe-97bc-faec210b5fbe",
   "metadata": {},
   "outputs": [],
   "source": [
    "# 고객명 열의 중복 확인\n",
    "print(df.duplicated(subset='고객명'))"
   ]
  },
  {
   "cell_type": "markdown",
   "id": "b6af0d1f-2b7b-423b-83db-586894d1f6bf",
   "metadata": {},
   "source": [
    "<span style=\"color: blue;\"><u>**drop_duplicates( ) : 중복 행 제거하기***</u></span>"
   ]
  },
  {
   "cell_type": "code",
   "execution_count": null,
   "id": "37629e82-07e7-460f-afbb-98fed6172cac",
   "metadata": {},
   "outputs": [],
   "source": [
    "# 고객명 열을 기준으로 중복 행 제거\n",
    "df.drop_duplicates(subset='고객명', inplace=True)\n",
    "df"
   ]
  },
  {
   "cell_type": "markdown",
   "id": "dee6a0d8-1c41-4d7b-bf61-32c82aa5361d",
   "metadata": {},
   "source": [
    "### [07] 다양한 연산해보기"
   ]
  },
  {
   "cell_type": "markdown",
   "id": "1e3611db-88e9-4460-966f-66b8d9b38826",
   "metadata": {},
   "source": [
    "<span style=\"color: blue;\"><u>**덧셈, 뺄셈, 곱셈, 나눗셈, 산술 연산해보기***</u></span>"
   ]
  },
  {
   "cell_type": "code",
   "execution_count": null,
   "id": "cc0792c5-a854-4524-ae76-266e0a042810",
   "metadata": {},
   "outputs": [],
   "source": [
    "# 예제 데이터프레임 생성\n",
    "df_number = pd.DataFrame({\n",
    " 'A': [1, 2, 3],\n",
    " 'B': [10, 20, 30],\n",
    " 'C': [2.5, 4.5, 1.5]\n",
    "})\n",
    "\n",
    "\n",
    "# 2로 나누기\n",
    "df_number = df_number/2\n",
    "df_number"
   ]
  },
  {
   "cell_type": "code",
   "execution_count": null,
   "id": "4289a5c7-3d9e-4d39-b2eb-bb53e9b2dd94",
   "metadata": {},
   "outputs": [],
   "source": [
    "# 10 더하기\n",
    "df_number = df_number.add(10)\n",
    "df_number"
   ]
  },
  {
   "cell_type": "markdown",
   "id": "1888172a-840a-4a24-b8df-adec851b6e7f",
   "metadata": {},
   "source": [
    "<span style=\"color: blue;\"><u>**통계 연산해보기**</u></span>"
   ]
  },
  {
   "cell_type": "code",
   "execution_count": null,
   "id": "939e411c-b481-4f06-b3d8-77affa72372a",
   "metadata": {},
   "outputs": [],
   "source": [
    "# 예제 데이터 생성\n",
    "math_score = {\n",
    " '이름': ['김철수', '박영희', '이민정', '최재원', '한지민'],\n",
    " '학년': ['3학년', '1학년', '1학년', '2학년', '3학년'],\n",
    " '점수': [88, 75, 68, 90, 83]\n",
    "}\n",
    "# 데이터프레임 생성\n",
    "df_score = pd.DataFrame(math_score)\n",
    "df_score"
   ]
  },
  {
   "cell_type": "markdown",
   "id": "008020d1-814f-40fe-ba88-9e8863aa2be4",
   "metadata": {},
   "source": [
    "<u>**max( ) : 최댓값 추출하기**</u>"
   ]
  },
  {
   "cell_type": "code",
   "execution_count": null,
   "id": "b249819d-365c-4987-8bab-ae9a9bc0c010",
   "metadata": {},
   "outputs": [],
   "source": [
    "# 최고 점수 확인\n",
    "df_score['점수'].max()"
   ]
  },
  {
   "cell_type": "code",
   "execution_count": null,
   "id": "3afda818-14ba-4001-9732-e8cbb433f0bf",
   "metadata": {},
   "outputs": [],
   "source": [
    "# 3학년 학생 중 최고 점수\n",
    "df_score[df_score['학년'] == '3학년']['점수'].max()"
   ]
  },
  {
   "cell_type": "markdown",
   "id": "3aba30fa-29d7-47da-8b68-c452ccb70389",
   "metadata": {},
   "source": [
    "<u>**mean( ) : 평균 구하기**</u>"
   ]
  },
  {
   "cell_type": "code",
   "execution_count": null,
   "id": "2f368c6e-9ec9-4724-99c0-d123c1b9b540",
   "metadata": {},
   "outputs": [],
   "source": [
    "# 평균 점수 확인\n",
    "df_score['점수'].mean()"
   ]
  },
  {
   "cell_type": "code",
   "execution_count": null,
   "id": "5f07154f-841a-4ca6-8406-dbc0e7c7e667",
   "metadata": {},
   "outputs": [],
   "source": [
    "# 1학년 학생들의 평균 점수\n",
    "df_score[df_score['학년'] == '1학년']['점수'].mean()"
   ]
  },
  {
   "cell_type": "markdown",
   "id": "89f28d14-7c10-4597-9f56-cfbcde7f673e",
   "metadata": {},
   "source": [
    "<u>**median( ) : 중앙값 구하기**</u>"
   ]
  },
  {
   "cell_type": "code",
   "execution_count": null,
   "id": "70777e31-9520-42a5-9369-202bf0492fa9",
   "metadata": {},
   "outputs": [],
   "source": [
    "# 점수 중앙값 확인\n",
    "df_score['점수'].median()"
   ]
  },
  {
   "cell_type": "code",
   "execution_count": null,
   "id": "03056e80-5a61-471a-96a1-b012410a5658",
   "metadata": {},
   "outputs": [],
   "source": [
    "# 1학년 학생들의 점수의 중앙값\n",
    "df_score[df_score['학년'] == '1학년']['점수'].median()"
   ]
  },
  {
   "cell_type": "markdown",
   "id": "b848a44f-20dc-4b13-8672-ccb049f6c991",
   "metadata": {},
   "source": [
    "<u>**cumsum( ) : 누적합 구하기**</u>"
   ]
  },
  {
   "cell_type": "code",
   "execution_count": null,
   "id": "5cc446ec-81d8-4714-9320-6ac71e6eb9c8",
   "metadata": {},
   "outputs": [],
   "source": [
    "# 점수 누적합 확인\n",
    "df_score['점수'].cumsum()"
   ]
  },
  {
   "cell_type": "code",
   "execution_count": null,
   "id": "c746887a-93cd-4686-830a-2840bd2978a4",
   "metadata": {},
   "outputs": [],
   "source": [
    "# 점수 누적합 확인\n",
    "df_score[df_score['학년'] == '1학년']['점수'].cumsum()"
   ]
  },
  {
   "cell_type": "markdown",
   "id": "3a75de06-ee37-4483-8c5a-e4b15de6f3e3",
   "metadata": {},
   "source": [
    "<u>**mode( ) : 최빈값 구하기**</u>"
   ]
  },
  {
   "cell_type": "code",
   "execution_count": null,
   "id": "cf578adb-ae37-47a9-9d05-fc68a6b96061",
   "metadata": {},
   "outputs": [],
   "source": [
    "# 점수 최빈값 확인\n",
    "df_score['점수'].mode()"
   ]
  },
  {
   "cell_type": "code",
   "execution_count": null,
   "id": "d23edf11-cde8-40a0-94b7-20f90b00cdbd",
   "metadata": {},
   "outputs": [],
   "source": [
    "# 학년의 최빈값 확인\n",
    "df_score['학년'].mode()"
   ]
  },
  {
   "cell_type": "markdown",
   "id": "b92bce8e-7e9b-41b0-9244-2833435d89a6",
   "metadata": {},
   "source": [
    "### [08] 문자열 연산하기"
   ]
  },
  {
   "cell_type": "code",
   "execution_count": null,
   "id": "be189fd4-9aa7-4ad6-8d7b-245d959a5dda",
   "metadata": {},
   "outputs": [],
   "source": [
    "import pandas as pd\n",
    "\n",
    "# 데이터프레임 생성\n",
    "data = {'이름': ['김 철수', '박 영', '이 민정', '최 재원', '한 지민'],\n",
    "        '직업': ['개발자', '요리사', '마케터', '작가', '의사']}\n",
    "\n",
    "df = pd.DataFrame(data)\n",
    "df"
   ]
  },
  {
   "cell_type": "markdown",
   "id": "1ba5daaf-eebd-4c59-aac0-59c365546f80",
   "metadata": {},
   "source": [
    "<span style=\"color: blue;\"><u>**문자열 검색**</u></span>"
   ]
  },
  {
   "cell_type": "code",
   "execution_count": null,
   "id": "f8e56b53-b170-44d0-8eff-f802fc4e74e5",
   "metadata": {},
   "outputs": [],
   "source": [
    "# 문자열 검색\n",
    "df['이름_민'] = df['이름'].str.contains('민')\n",
    "df['직업_사'] = df['직업'].str.endswith('사')\n",
    "df"
   ]
  },
  {
   "cell_type": "markdown",
   "id": "53e83774-6224-4626-8793-1353dde7860c",
   "metadata": {},
   "source": [
    "<span style=\"color: blue;\"><u>**문자열에서 특정 문자 선택**</u></span>"
   ]
  },
  {
   "cell_type": "code",
   "execution_count": null,
   "id": "c172b7bc-8485-4a28-af19-b9f08dffcc35",
   "metadata": {},
   "outputs": [],
   "source": [
    "# 이름의 세 번째 글자 선택\n",
    "df['이름_세번째'] = df['이름'].str[3]\n",
    "df"
   ]
  },
  {
   "cell_type": "code",
   "execution_count": null,
   "id": "2f567560-f39d-4359-a9d7-4f7db4213ee5",
   "metadata": {},
   "outputs": [],
   "source": [
    "# 이름의 마지막 글자 선택\n",
    "df['이름_마지막'] = df['이름'].str[-1]\n",
    "df"
   ]
  },
  {
   "cell_type": "markdown",
   "id": "aed6d057-afc3-4ad4-8571-e513a4060851",
   "metadata": {},
   "source": [
    "<span style=\"color: blue;\"><u>**문자열 분리 및 결합**</u></span>"
   ]
  },
  {
   "cell_type": "code",
   "execution_count": null,
   "id": "46de0171-d211-40c6-bcd5-8407d9ac3a92",
   "metadata": {},
   "outputs": [],
   "source": [
    "# ➊ 문자열 분리\n",
    "df['성'] = df['이름'].str.split().str.get(0)\n",
    "\n",
    "# ➋ 문자열 결합\n",
    "df['직업+이름'] = df['직업'].str.cat(df['이름'], sep=' ')\n",
    "df"
   ]
  },
  {
   "cell_type": "markdown",
   "id": "908839c7-6293-4ed4-b401-bf4ac931a2bd",
   "metadata": {},
   "source": [
    "<span style=\"color: blue;\"><u>**문자열 치환 및 제거**</u></span>"
   ]
  },
  {
   "cell_type": "code",
   "execution_count": null,
   "id": "8b8619bc-95ce-40dc-90b8-36af961ba761",
   "metadata": {},
   "outputs": [],
   "source": [
    "# ➊ 문자열 치환(성 뒤의 공백 제거)\n",
    "df['이름_공백제거'] = df['이름'].str.replace(' ', '')\n",
    "\n",
    "# ➋ 직업이 '사'로 끝나는 경우 해당 글자 제거\n",
    "df['직업_사_제거'] = df['직업'].str.rstrip('사')  \n",
    "df"
   ]
  }
 ],
 "metadata": {
  "kernelspec": {
   "display_name": "Python 3 (ipykernel)",
   "language": "python",
   "name": "python3"
  },
  "language_info": {
   "codemirror_mode": {
    "name": "ipython",
    "version": 3
   },
   "file_extension": ".py",
   "mimetype": "text/x-python",
   "name": "python",
   "nbconvert_exporter": "python",
   "pygments_lexer": "ipython3",
   "version": "3.11.7"
  }
 },
 "nbformat": 4,
 "nbformat_minor": 5
}
