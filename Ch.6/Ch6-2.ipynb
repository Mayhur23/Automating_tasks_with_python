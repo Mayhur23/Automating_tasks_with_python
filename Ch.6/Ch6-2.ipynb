{
 "cells": [
  {
   "cell_type": "markdown",
   "id": "488ea1a1-d0be-44d2-aed2-9aa04598fb31",
   "metadata": {},
   "source": [
    "### 원리 03 웹 스크래핑을 위해 알아야 하는 HTML 구조와 태그"
   ]
  },
  {
   "cell_type": "raw",
   "id": "4f18a110-ae18-46a6-bb27-6900a162ed7c",
   "metadata": {},
   "source": [
    "<html> \n",
    "  <head>\n",
    "    <title>파이썬 업무 자동화 전문가 되기</title>\n",
    "  </head>\n",
    "  <body>\n",
    "    <input type=\"text\" value=\"아이디를 입력하세요.\"> // ➋ input 요소\n",
    "    <input type=\"password\">\n",
    "    <input type=\"button\" value=\"로그인\">\n",
    "    <a href=\"http://naver.com\"> 네이버로 이동하기</a>\n",
    "    <div id=\"content\">\n",
    "      <h1 id=\"title\" class=\"about\">웹 스크래핑 알아보기</h1>\n",
    "      <p>뷰티풀수프를 공부해 보자</p> // ➊ p 요소\n",
    "    </div>\n",
    "  </body>\n",
    "</html>"
   ]
  },
  {
   "cell_type": "markdown",
   "id": "992da271-1317-4263-8ba6-42be29fd2d23",
   "metadata": {},
   "source": [
    "### 원리 05 서버에 요청과 응답을 실행하는 Requests 라이브러리"
   ]
  },
  {
   "cell_type": "markdown",
   "id": "dd8979f6-4470-4c7a-84fd-63953df00c20",
   "metadata": {},
   "source": [
    "<span style=\"color: blue;\"><u>**Requests 라이브러리로 GET 요청하기**</u></span>"
   ]
  },
  {
   "cell_type": "code",
   "execution_count": null,
   "id": "e83e09d4-e7ed-4c89-825f-5b392e186a33",
   "metadata": {},
   "outputs": [],
   "source": [
    "import requests\n",
    "\n",
    "# ➊ url에 있는 HTML 문서 GET 요청으로 가져오기\n",
    "url = 'http://www.google.com'\n",
    "response = requests.get(url)\n",
    "\n",
    "# ➋ 응답 코드 확인하기\n",
    "print(response.status_code)"
   ]
  },
  {
   "cell_type": "markdown",
   "id": "169d9c7b-a81e-4eae-b066-40fd8b11de2f",
   "metadata": {},
   "source": [
    "<span style=\"color: blue;\"><u>**정상 응답 구분하여 분기 처리하기**</u></span>"
   ]
  },
  {
   "cell_type": "code",
   "execution_count": null,
   "id": "6d26ba38-51d3-4060-a875-e299ed00af73",
   "metadata": {},
   "outputs": [],
   "source": [
    "url = 'http://www.google.com'\n",
    "response = requests.get(url)\n",
    "\n",
    "# if문으로 정상 응답 구분하기\n",
    "if response.status_code == 200:\n",
    "  print('정상 응답')\n",
    "else:\n",
    "  print('에러 코드 :', response.status_code)"
   ]
  },
  {
   "cell_type": "markdown",
   "id": "7d963ab6-1a55-4838-89f8-3ba5093fb6d8",
   "metadata": {},
   "source": [
    "<span style=\"color: blue;\"><u>**HTML 문서를 텍스트로 출력해보기**</u></span>"
   ]
  },
  {
   "cell_type": "code",
   "execution_count": null,
   "id": "6a34c20b-afd1-4503-bd9d-6202627ffdbe",
   "metadata": {},
   "outputs": [],
   "source": [
    "url = 'http://www.google.com'\n",
    "response = requests.get(url)\n",
    "\n",
    "# 정상 응답일 경우에만 코드를 진행\n",
    "response.raise_for_status()\n",
    "print('정상 응답')"
   ]
  },
  {
   "cell_type": "code",
   "execution_count": null,
   "id": "fb583e55-e6bb-44bb-972c-54a10362f069",
   "metadata": {},
   "outputs": [],
   "source": [
    "url = 'http://www.google.com'\n",
    "response = requests.get(url)\n",
    "\n",
    "# 정상 응답일 경우 HTML 문서를 텍스트로 출력\n",
    "response.raise_for_status()\n",
    "print(response.text)"
   ]
  },
  {
   "cell_type": "code",
   "execution_count": null,
   "id": "5a006037-114c-467e-b16d-b18eb077eac3",
   "metadata": {},
   "outputs": [],
   "source": [
    "url = 'http://www.google.com'\n",
    "response = requests.get(url)\n",
    "\n",
    "# 정상 응답일 경우 HTML 문서를 텍스트로 출력\n",
    "response.raise_for_status()\n",
    "print(response.text)\n",
    "\n",
    "with open ('file_google.html','w', encoding = 'utf8') as f:\n",
    "  f.write(response.text)"
   ]
  },
  {
   "cell_type": "markdown",
   "id": "fa65f9bf-6a0c-4d9f-8d07-fcfca101f1b4",
   "metadata": {},
   "source": [
    "### 원리 06 유저 에이전트 이해하기"
   ]
  },
  {
   "cell_type": "markdown",
   "id": "b2d5b8dc-dcc8-41f7-a16d-31e96d88f52f",
   "metadata": {},
   "source": [
    "<span style=\"color: blue;\"><u>**유저 에이전트 조작하기**</u></span>"
   ]
  },
  {
   "cell_type": "code",
   "execution_count": null,
   "id": "0082413b-04cb-4a91-b3de-d33fc34475e5",
   "metadata": {},
   "outputs": [],
   "source": [
    "import requests\n",
    "\n",
    "url = 'http://www.google.com'\n",
    "# ➊ 헤더에 유저 에이전트 값 지정\n",
    "headers = {'User-Agent':'Mozilla/5.0 (Macintosh; Intel Mac OS X 10_15_7) AppleWebKit/537.36 (KHTML, like Gecko) Chrome/128.0.0.0 Safari/537.36'}\n",
    "\n",
    "# ➋ headers 옵션을 설정하여 get()함수 실행\n",
    "response = requests.get(url, headers=headers)\n",
    "response.raise_for_status()\n",
    "print(response.status_code)"
   ]
  }
 ],
 "metadata": {
  "kernelspec": {
   "display_name": "Python 3 (ipykernel)",
   "language": "python",
   "name": "python3"
  },
  "language_info": {
   "codemirror_mode": {
    "name": "ipython",
    "version": 3
   },
   "file_extension": ".py",
   "mimetype": "text/x-python",
   "name": "python",
   "nbconvert_exporter": "python",
   "pygments_lexer": "ipython3",
   "version": "3.11.7"
  }
 },
 "nbformat": 4,
 "nbformat_minor": 5
}
