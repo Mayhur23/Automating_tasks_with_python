{
 "cells": [
  {
   "cell_type": "markdown",
   "id": "96ef9b99-730b-428a-a899-9c86c3df21df",
   "metadata": {},
   "source": [
    "### [00] 실습을 시작하기 전에"
   ]
  },
  {
   "cell_type": "code",
   "execution_count": null,
   "id": "80e16eaf-9cf3-4ed0-a5ee-a07814f8622d",
   "metadata": {},
   "outputs": [],
   "source": [
    "html = '''\n",
    "<html>\n",
    "<head>\n",
    "  <title>온라인 쇼핑몰</title>\n",
    "</head>\n",
    "<body>\n",
    "  <h1> 장바구니\n",
    "    <p id='clothes' class='name' title='라운드티'> 라운드티\n",
    "      <span class = 'number'> 25 </span>\n",
    "      <span class = 'price'> 29000 </span>\n",
    "      <span class = 'menu'> 의류</span>\n",
    "      <a href = 'http://www.naver.com'> 바로가기 </a>\n",
    "    </p>\n",
    "    <p id='watch' class='name' title='시계'> 시계\n",
    "      <span class = 'number'> 28 </span>\n",
    "      <span class = 'price'> 32000 </span>\n",
    "      <span class = 'menu'> 액세서리 </span>\n",
    "      <a href = 'http://www.facebook.com'> 바로가기 </a>\n",
    "    </p>\n",
    "  </h1>\n",
    "</body>\n",
    "</html>\n",
    "'''"
   ]
  },
  {
   "cell_type": "markdown",
   "id": "330694ad-06fa-4593-bf3d-2e7104859e70",
   "metadata": {},
   "source": [
    "### [01] find( ), find_all( ) 함수로 요소 찾기"
   ]
  },
  {
   "cell_type": "raw",
   "id": "7154a2e2-f3d5-4299-8128-0044eb7501d9",
   "metadata": {},
   "source": [
    "soup.find() 사용법\n",
    "\n",
    "soup.find('요소명') # 사용 방법 ➊ : 요소명만 전달\n",
    "soup.find(attrs={'속성':'속성값'}) # 사용 방법 ➋ : 속성만 딕셔너리로 전달\n",
    "soup.find('요소명', attrs={'속성':'속성값'}) # 사용 방법 ➌ : 요소명, 속성 전달"
   ]
  },
  {
   "cell_type": "raw",
   "id": "f55cb556-8489-42ba-98c0-271f14b1e796",
   "metadata": {},
   "source": [
    "soup.find_all() 사용법\n",
    "\n",
    "soup.find_all('요소명') # 사용 방법 ➊ : 요소명만 전달\n",
    "soup.find_all(attrs={'속성':'속성값'}) # 사용 방법 ➋ : 속성만 딕셔너리로 전달\n",
    "soup.find_all('요소명', attrs={'속성':'속성값'}) # 사용 방법 ➌ : 요소명, 속성 전달\n",
    "soup.find_all('요소명', attrs={'속성':'속성값'}, limit=반환값 최대 개수) # 사용 방법 ➍ : 반환값 최대 개수 전달"
   ]
  },
  {
   "cell_type": "code",
   "execution_count": null,
   "id": "5413f8ef-9c5e-469d-91d0-e766332f9d9f",
   "metadata": {},
   "outputs": [],
   "source": [
    "from bs4 import BeautifulSoup\n",
    "\n",
    "soup = BeautifulSoup(html, 'html.parser') # ➊ html 변수 문자열 파싱\n",
    "print(soup.find_all('p')) # ➋ p 요소를 모두 찾아 파이썬 리스트로 반환"
   ]
  },
  {
   "cell_type": "markdown",
   "id": "e49ed681-3e7d-4705-be8f-49266b74679e",
   "metadata": {},
   "source": [
    "### [02] id 속성값으로 데이터 요소 찾기"
   ]
  },
  {
   "cell_type": "code",
   "execution_count": null,
   "id": "8beac5d2-0d07-43c7-8df8-c7f29607c5fc",
   "metadata": {},
   "outputs": [],
   "source": [
    "# 태그의 id 속성이 clothes인 첫 번째 요소 반환\n",
    "soup.find(id='clothes')"
   ]
  },
  {
   "cell_type": "code",
   "execution_count": null,
   "id": "eaabe482-6d29-44e9-ad64-221d8c36f152",
   "metadata": {},
   "outputs": [],
   "source": [
    "soup.find_all(id='clothes')"
   ]
  },
  {
   "cell_type": "markdown",
   "id": "8bdbd618-7b6c-4156-90f7-d4c954026198",
   "metadata": {},
   "source": [
    "### [03] 하위 요소를 연이어 찾기"
   ]
  },
  {
   "cell_type": "code",
   "execution_count": null,
   "id": "82c35144-575d-45ae-ba95-76a54bb3f608",
   "metadata": {},
   "outputs": [],
   "source": [
    "# 첫 번째 p 태그의 하위 태그 중 첫 번째 span 태그 추출\n",
    "soup.find('p').find('span')"
   ]
  },
  {
   "cell_type": "code",
   "execution_count": null,
   "id": "c73dea63-db20-405b-bbcf-11ec5d60d21e",
   "metadata": {},
   "outputs": [],
   "source": [
    "# 첫 번째 p 태그의 하위 태그 중 첫 번째 span 태그 추출\n",
    "soup.find_all('p')[0].find_all('span')[0]"
   ]
  },
  {
   "cell_type": "markdown",
   "id": "ef8250d9-a0d7-4aee-bb4d-ce07f4298344",
   "metadata": {},
   "source": [
    "### [04] 텍스트 추출하기"
   ]
  },
  {
   "cell_type": "code",
   "execution_count": null,
   "id": "2bf9228a-85cb-453b-89f6-168ddedf39bd",
   "metadata": {},
   "outputs": [],
   "source": [
    "soup.find('span', class_='menu').get_text()"
   ]
  },
  {
   "cell_type": "markdown",
   "id": "6d419d69-b0c0-48ed-ac12-de1efcb30a12",
   "metadata": {},
   "source": [
    "### [05] 텍스트 공백 제거하기"
   ]
  },
  {
   "cell_type": "code",
   "execution_count": null,
   "id": "c09845da-cdc6-4e03-8088-5ce4ce62ac79",
   "metadata": {},
   "outputs": [],
   "source": [
    "soup.find_all('span', class_='menu')[0].get_text(strip=True)"
   ]
  },
  {
   "cell_type": "markdown",
   "id": "b4e5a917-a597-4abb-a289-12fcc303c87d",
   "metadata": {},
   "source": [
    "### [06] select_one( ), select( ) 함수로 요소 찾기"
   ]
  },
  {
   "cell_type": "raw",
   "id": "60acd001-7005-47d2-b49a-7998fce53b75",
   "metadata": {},
   "source": [
    "앞서 사용한 HTML 문자열에서 p 요소보다 한 단계 아래에 있는 span 요소 중 class 속성값이 ‘price’인 요소를 CSS 선택자로 표현하면?\n",
    "'p > span.price'"
   ]
  },
  {
   "cell_type": "code",
   "execution_count": null,
   "id": "c90e7e6f-20a4-40f6-999b-0737620e6785",
   "metadata": {},
   "outputs": [],
   "source": [
    "soup.select('p > span.price')"
   ]
  },
  {
   "cell_type": "code",
   "execution_count": null,
   "id": "7ef02222-d639-4cea-8418-4b79aaa40b08",
   "metadata": {},
   "outputs": [],
   "source": [
    "# id 속성의 값이 watch인 요소 찾기\n",
    "soup.select('#watch')"
   ]
  },
  {
   "cell_type": "code",
   "execution_count": null,
   "id": "54de2a0b-3c67-471f-8a01-7669ec316428",
   "metadata": {},
   "outputs": [],
   "source": [
    "soup.select('h1 > .menu')"
   ]
  },
  {
   "cell_type": "code",
   "execution_count": null,
   "id": "f64a1757-0d06-49e8-910c-f865ef34784e",
   "metadata": {},
   "outputs": [],
   "source": [
    "# h1 요소의 하위 요소 중 클래스 속성값이 menu인 요소 추출\n",
    "soup.select('h1 .menu')"
   ]
  },
  {
   "cell_type": "code",
   "execution_count": null,
   "id": "5ea47d1c-38d4-4a17-b582-d804cd948e48",
   "metadata": {},
   "outputs": [],
   "source": [
    "# h1 요소의 하위 요소 중 클래스 속성값이 menu인 요소의 텍스트 추출\n",
    "soup.select_one('h1 .menu').get_text(strip=True)"
   ]
  },
  {
   "cell_type": "code",
   "execution_count": null,
   "id": "928fff37-3a6c-460f-a7cd-8764fe3ee402",
   "metadata": {},
   "outputs": [],
   "source": [
    "soup.select('h1 .menu')[0].get_text(strip=True)"
   ]
  },
  {
   "cell_type": "markdown",
   "id": "4e0330e2-4db9-4952-a5e7-b91709bddce8",
   "metadata": {},
   "source": [
    "### [07] attrs로 속성값 추출하기"
   ]
  },
  {
   "cell_type": "code",
   "execution_count": null,
   "id": "e66bb673-3bdb-44e3-acd1-f1723e9c61c5",
   "metadata": {},
   "outputs": [],
   "source": [
    "# 첫 번째 a 요소 추출\n",
    "soup.a"
   ]
  },
  {
   "cell_type": "code",
   "execution_count": null,
   "id": "5e3328a2-30b7-4994-a220-2897b65116a1",
   "metadata": {},
   "outputs": [],
   "source": [
    "# href 속성값 추출\n",
    "soup.a.get('href')"
   ]
  },
  {
   "cell_type": "code",
   "execution_count": null,
   "id": "707187ac-1868-4f47-94a1-95162998d438",
   "metadata": {},
   "outputs": [],
   "source": [
    "soup.a.attrs"
   ]
  },
  {
   "cell_type": "markdown",
   "id": "8208b6c1-db46-43d7-8b7e-e655a22123c1",
   "metadata": {},
   "source": [
    "### [08] 멀리 떨어진 요소 찾기"
   ]
  },
  {
   "cell_type": "code",
   "execution_count": null,
   "id": "a4f79b5d-7f86-453e-a7a4-a5ff4a51ad43",
   "metadata": {},
   "outputs": [],
   "source": [
    "# 첫 번째 h1 요소의 자식 중 첫 번째 p 요소 추출\n",
    "soup.h1.p"
   ]
  },
  {
   "cell_type": "code",
   "execution_count": null,
   "id": "c5b2c75a-ffe1-4b36-a3af-debca091d62e",
   "metadata": {},
   "outputs": [],
   "source": [
    "soup.h1.p.span"
   ]
  },
  {
   "cell_type": "markdown",
   "id": "149c54c9-2cb1-4f98-a1e0-70af6446e989",
   "metadata": {},
   "source": [
    "### [09] 부모 요소 찾기"
   ]
  },
  {
   "cell_type": "code",
   "execution_count": null,
   "id": "f039a7b6-1a6a-4c7a-a009-120835175c2b",
   "metadata": {},
   "outputs": [],
   "source": [
    "soup.a.find_parent()"
   ]
  },
  {
   "cell_type": "code",
   "execution_count": null,
   "id": "2778f5d7-64ca-411e-a216-3022bcde4de7",
   "metadata": {},
   "outputs": [],
   "source": [
    "soup.a.find_parents()"
   ]
  },
  {
   "cell_type": "markdown",
   "id": "80474b21-f08d-4710-b459-70d16fdc1736",
   "metadata": {},
   "source": [
    "### [10] 형제 요소 찾기"
   ]
  },
  {
   "cell_type": "code",
   "execution_count": null,
   "id": "3fd1d748-15b3-411c-a8be-18eb1dd86c7d",
   "metadata": {},
   "outputs": [],
   "source": [
    "soup.span.find_next_sibling()"
   ]
  }
 ],
 "metadata": {
  "kernelspec": {
   "display_name": "Python 3 (ipykernel)",
   "language": "python",
   "name": "python3"
  },
  "language_info": {
   "codemirror_mode": {
    "name": "ipython",
    "version": 3
   },
   "file_extension": ".py",
   "mimetype": "text/x-python",
   "name": "python",
   "nbconvert_exporter": "python",
   "pygments_lexer": "ipython3",
   "version": "3.11.7"
  }
 },
 "nbformat": 4,
 "nbformat_minor": 5
}
