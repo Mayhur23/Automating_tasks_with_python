{
 "cells": [
  {
   "cell_type": "markdown",
   "id": "4e03ee07-2912-4a6e-8d4f-f69db475a4cc",
   "metadata": {},
   "source": [
    "### [01] 전체 통화 환율 정보 웹 스크래핑하기"
   ]
  },
  {
   "cell_type": "markdown",
   "id": "690f7c40-d3f2-4ba8-929c-b8a4be2948b0",
   "metadata": {},
   "source": [
    "<span style=\"color: blue;\"><u>**read_html( ) 함수에 쓰일 파서 설치하기**</u></span>"
   ]
  },
  {
   "cell_type": "code",
   "execution_count": null,
   "id": "95b00f0b-cb3e-44f3-8988-964286f97922",
   "metadata": {},
   "outputs": [],
   "source": [
    "pip install html5lib"
   ]
  },
  {
   "cell_type": "markdown",
   "id": "43faeefd-32b1-4c98-be96-7eb9b2ecb0ac",
   "metadata": {},
   "source": [
    "<span style=\"color: blue;\"><u>**read_html( ) 함수로 환율 정보 표 가져오기**</u></span>"
   ]
  },
  {
   "cell_type": "code",
   "execution_count": null,
   "id": "da5f6a87-feac-410a-bb63-175dc0c7728a",
   "metadata": {},
   "outputs": [],
   "source": [
    "import pandas as pd\n",
    "\n",
    "# 시장지표 페이지의 URL 지정\n",
    "url = 'https://finance.naver.com/marketindex'\n",
    "\n",
    "# read_html() 함수로 해당 페이지의 표를 추출\n",
    "exchange_lists = pd.read_html(url, encoding='cp949', flavor='html5lib')\n",
    "print(exchange_lists)"
   ]
  },
  {
   "cell_type": "code",
   "execution_count": null,
   "id": "b8864c51-fae8-4bf2-90cf-563bd6c1e7cc",
   "metadata": {},
   "outputs": [],
   "source": [
    "# 표 URL 지정\n",
    "url = 'https://finance.naver.com/marketindex/exchangeList.naver'\n",
    "\n",
    "# read_html() 함수로 해당 표를 추출\n",
    "exchange_list = pd.read_html(url, encoding='cp949', flavor='html5lib')\n",
    "print(exchange_list)"
   ]
  },
  {
   "cell_type": "code",
   "execution_count": null,
   "id": "b5de2005-70c2-41f3-8eea-89e4dc703e01",
   "metadata": {},
   "outputs": [],
   "source": [
    "len(exchange_list)"
   ]
  },
  {
   "cell_type": "code",
   "execution_count": null,
   "id": "ba0c9696-00ad-464d-98ff-9826467d5bab",
   "metadata": {},
   "outputs": [],
   "source": [
    "df = exchange_list[0]\n",
    "df"
   ]
  },
  {
   "cell_type": "markdown",
   "id": "af452e3c-892d-4772-b3d5-8837f90d584c",
   "metadata": {},
   "source": [
    "### [02] 통화별 환율 가져오기"
   ]
  },
  {
   "cell_type": "code",
   "execution_count": null,
   "id": "d329ef2e-a75b-4be3-a619-a6874c77c1bf",
   "metadata": {},
   "outputs": [],
   "source": [
    "# 통화코드를 미국 달러(USD)로 지정\n",
    "currency_code = 'USD'\n",
    "\n",
    "# 지정된 통화 코드를 넣어 환율 정보 페이지 url 생성\n",
    "url = 'https://finance.naver.com/marketindex/exchangeDetail.naver?marketindexCd=FX_' + currency_code + 'KRW'"
   ]
  },
  {
   "cell_type": "code",
   "execution_count": null,
   "id": "4f1b8c1a-5521-433f-8052-1ba4b4de68b5",
   "metadata": {},
   "outputs": [],
   "source": [
    "import requests\n",
    "from bs4 import BeautifulSoup\n",
    "\n",
    "# ➊ 통화 코드를 넣어 해당 통화의 환율 정보 페이지 url 생성\n",
    "currency_code = 'USD'\n",
    "url = 'https://finance.naver.com/marketindex/exchangeDetail.naver?marketindexCd=FX_' + currency_code +'KRW'\n",
    "\n",
    "# ➋ HTML 가져와 파싱\n",
    "response = requests.get(url)\n",
    "html_content = response.text\n",
    "soup = BeautifulSoup(html_content, 'html.parser')\n",
    "\n",
    "# ➌ 환율 정보 추출\n",
    "rate_info = soup.find('p', class_='no_today').get_text()\n",
    "rate_info"
   ]
  },
  {
   "cell_type": "code",
   "execution_count": null,
   "id": "5d1935f4-9036-45f9-8ec7-1839023df7ca",
   "metadata": {},
   "outputs": [],
   "source": [
    "# 환율 정보 추출 후 줄바꿈 문자 제거하기\n",
    "rate_info = soup.find('p', class_='no_today').get_text(strip=True)\n",
    "rate_info"
   ]
  },
  {
   "cell_type": "code",
   "execution_count": null,
   "id": "d0ab5f34-9693-4e2f-aff4-195def4e6234",
   "metadata": {},
   "outputs": [],
   "source": [
    "# 전일대비 데이터 가져오기(줄바꿈 제거)\n",
    "exday_info = soup.find('p', class_='no_exday').get_text(strip=True)\n",
    "print(exday_info)"
   ]
  },
  {
   "cell_type": "code",
   "execution_count": null,
   "id": "9b671928-3031-42cf-b66c-6e15f0bd738b",
   "metadata": {},
   "outputs": [],
   "source": [
    "currency_code = 'JPY'\n",
    "\n",
    "url = 'https://finance.naver.com/marketindex/exchangeDetail.naver?marketindexCd=FX_' + currency_code +'KRW'\n",
    "\n",
    "response = requests.get(url)\n",
    "html_content = response.text\n",
    "\n",
    "soup = BeautifulSoup(html_content, 'html.parser')\n",
    "exday_info = soup.find('p', class_='no_exday').get_text(strip=True)\n",
    "\n",
    "print(exday_info)"
   ]
  },
  {
   "cell_type": "markdown",
   "id": "30fc3fae-fc38-4438-8a81-5140d1b63a31",
   "metadata": {},
   "source": [
    "### [03] 통화별 환율에서 전일대비 증감 기호 가져오기"
   ]
  },
  {
   "cell_type": "code",
   "execution_count": null,
   "id": "47f23229-4b4e-49dd-87d1-f2241a9a6d69",
   "metadata": {},
   "outputs": [],
   "source": [
    "# ➊ 환율 변동량 아이콘 찾기\n",
    "change_icon = soup.find('span', class_='ico')\n",
    "\n",
    "# ➋ if문으로 전일 대비 환율 변동 아이콘 확인하고 아이콘에 대응되는 기호를 change_sign에 할당\n",
    "if change_icon:\n",
    " if 'up' in change_icon['class']:\n",
    "   change_sign = '▲'  # 환율이 상승했을 때\n",
    " elif 'down' in change_icon['class']:\n",
    "   change_sign = '▼'  # 환율이 하락했을 때\n",
    " elif 'same' in change_icon['class']:\n",
    "   change_sign = ''  # 환율이 변동 없을 때\n",
    "\n",
    "# ➌ 홍콩 달러 HKD로 확인\n",
    "print(change_sign)"
   ]
  },
  {
   "cell_type": "markdown",
   "id": "45e23a68-cc33-4b0a-8059-9651fb693a92",
   "metadata": {},
   "source": [
    "### [04] 통화 코드 입력하여 환율 정보 가져오기"
   ]
  },
  {
   "cell_type": "code",
   "execution_count": null,
   "id": "63d8fd53-e690-48fb-a73c-c9f4b11a9f5a",
   "metadata": {},
   "outputs": [],
   "source": [
    "import requests\n",
    "from bs4 import BeautifulSoup\n",
    "\n",
    "# ➊ 개별 통화 환율 정보 가져오는 함수 만들기\n",
    "def get_exchange_rate(currency_code):\n",
    "\n",
    " # ➋ 해당 통화의 환율 정보 페이지의 HTML 코드를 가져와 파싱\n",
    " url = 'https://finance.naver.com/marketindex/exchangeDetail.naver?marketindexCd=FX_' + currency_code + 'KRW'\n",
    " response = requests.get(url)\n",
    " html_content = response.text\n",
    " soup = BeautifulSoup(html_content, 'html.parser')\n",
    "\n",
    " # ➌ 국가명 추출 및 공백 제거\n",
    " country = soup.find('h2').get_text(strip=True)\n",
    "\n",
    " # ➍ 실시간 환율 정보 추출 및 줄바꿈 문자 제거\n",
    " rate_info = soup.find('p', class_='no_today').get_text(strip=True)\n",
    "\n",
    " # ➎ 전일대비비 환율 변동량 아이콘 찾아 대응되는 기호 change_sign에 할당하기\n",
    " change_icon = soup.find('span', class_='ico')\n",
    " if change_icon:\n",
    "   if 'up' in change_icon['class']:\n",
    "     change_sign = '▲'  # 환율이 상승했을 때\n",
    "   elif 'down' in change_icon['class']:\n",
    "     change_sign = '▼'  # 환율이 하락했을 때\n",
    "   elif 'same' in change_icon['class']:\n",
    "     change_sign = ''  # 환율이 변동 없을 때\n",
    "\n",
    " # ➏ 전일 대비 정보 추출 및 문자열 정리\n",
    " exday_info = soup.find('p', class_='no_exday').get_text(strip=True).replace('전일대비', '')\n",
    "\n",
    " # ➐ 결과 출력\n",
    " print(country, currency_code, \"실시간 환율\", rate_info, '｜ 전일대비', change_sign, exday_info)"
   ]
  },
  {
   "cell_type": "code",
   "execution_count": null,
   "id": "b7e8524e-ad52-4f07-aa9f-174360dbf116",
   "metadata": {},
   "outputs": [],
   "source": [
    "# USD, HKD, THB 환율 확인하기\n",
    "get_exchange_rate('USD')\n",
    "get_exchange_rate('HKD')\n",
    "get_exchange_rate('THB')"
   ]
  },
  {
   "cell_type": "markdown",
   "id": "0a85406c-256f-4a8b-892f-d2fa218f3442",
   "metadata": {},
   "source": [
    "### [05] 주기적인 실행을 위한 스케줄 라이브러리 알아보기"
   ]
  },
  {
   "cell_type": "code",
   "execution_count": null,
   "id": "3e29843d-9dc3-4fcc-b062-4593980bd47e",
   "metadata": {},
   "outputs": [],
   "source": [
    "pip install schedule"
   ]
  },
  {
   "cell_type": "code",
   "execution_count": null,
   "id": "ac582ad9-fd0d-482f-9d68-3509670187bd",
   "metadata": {},
   "outputs": [],
   "source": [
    "import schedule\n",
    "import time\n",
    "\n",
    "# ➊ 작업 함수 정의\n",
    "def job():\n",
    " print('작업중')\n",
    "\n",
    "# ➋ 매일 오전 10시 30분에 작업 실행\n",
    "schedule.every().day.at('10:30').do(job)\n",
    "# ➌ 매주 수요일 13:15에 작업 실행\n",
    "schedule.every().wednesday.at('13:15').do(job)\n",
    "# ➍ 매 10분마다 작업 실행\n",
    "schedule.every(10).minutes.do(job)\n",
    "# ➎ 스케줄러 실행\n",
    "\n",
    "while True:\n",
    " schedule.run_pending()\n",
    " time.sleep(1)"
   ]
  },
  {
   "cell_type": "code",
   "execution_count": null,
   "id": "5b34b1a9-ef97-46d3-8c62-06086cb4f05e",
   "metadata": {},
   "outputs": [],
   "source": [
    "schedule.clear( )"
   ]
  },
  {
   "cell_type": "markdown",
   "id": "3851bddb-34a8-4ba4-b5c9-a74099f51d09",
   "metadata": {},
   "source": [
    "### [06] 스케줄 라이브러리로 환율 정보 주기적으로 가져오기"
   ]
  },
  {
   "cell_type": "code",
   "execution_count": null,
   "id": "00e6a78f-20eb-4ec3-a532-1551a04caa07",
   "metadata": {},
   "outputs": [],
   "source": [
    "import schedule\n",
    "import time\n",
    "from datetime import datetime\n",
    "\n",
    "# ➊ 통화코드를 전달받아 실시간 환율과 전일 대비 변동 데이터를 출력하는 함수 정의\n",
    "def get_exchange_rate(currency_code):\n",
    "\n",
    " # ➋ 작업 시간 출력\n",
    " now = datetime.now()\n",
    " current_time = now.strftime('%Y-%m-%d %H:%M:%S')\n",
    "\n",
    " print('-------------------------------------')\n",
    " print(f'작업 시작: {current_time}')\n",
    "\n",
    " # ➌ 해당 통화의 환율 정보 페이지에서 HTML 가져오기\n",
    " url = 'https://finance.naver.com/marketindex/exchangeDetail.naver?marketindexCd=FX_' + currency_code + 'KRW'\n",
    "\n",
    " # 웹페이지 요청 및 HTML 내용 가져오기\n",
    " response = requests.get(url)\n",
    " html_content = response.text\n",
    " soup = BeautifulSoup(html_content, 'html.parser') # HTML 코드 파싱\n",
    "\n",
    " # ➍ 가져온 HTML에서 데이터 추출\n",
    " country = soup.find('h2').get_text(strip=True) # 국가명 추출\n",
    " rate_info = soup.find('p', class_='no_today').get_text(strip=True) # 환율 정보 추출\n",
    "\n",
    " # 환율 변동 아이콘 찾아 기호로 대체\n",
    " change_icon = soup.find('span', class_='ico')\n",
    "    \n",
    " # if문으로 전일 대비 환율 변동 기호 확인하기\n",
    " if change_icon:\n",
    "   if 'up' in change_icon['class']:\n",
    "     change_sign = '▲'  # 환율이 상승했을 때\n",
    "   elif 'down' in change_icon['class']:\n",
    "     change_sign = '▼'  # 환율이 하락했을 때\n",
    "   elif 'same' in change_icon['class']:\n",
    "     change_sign = ''  # 환율이 변동 없을 때\n",
    "\n",
    " # 전일 대비 환율 정보 추출\n",
    " exday_info = soup.find('p', class_='no_exday').get_text(strip=True).replace('전일대비', '')\n",
    "\n",
    " # 결과 출력\n",
    " print(country, currency_code, '실시간 환율', rate_info, '｜ 전일대비', change_sign, exday_info)\n",
    "\n",
    "# ➎ 10초마다 USD, HKD, THB 환율 정보 가져오기\n",
    "schedule.every(10).seconds.do(get_exchange_rate, 'USD')\n",
    "schedule.every(10).seconds.do(get_exchange_rate, 'HKD')\n",
    "schedule.every(10).seconds.do(get_exchange_rate, 'THB')\n",
    "\n",
    "# ➏ 무한 반복을 사용해 예약한 작업을 실행\n",
    "while True:\n",
    " try:  \n",
    "   schedule.run_pending()\n",
    "   time.sleep(1)\n",
    "     \n",
    " except:\n",
    "   print('작업 종료')\n",
    "   schedule.clear()\n",
    "   break\n"
   ]
  }
 ],
 "metadata": {
  "kernelspec": {
   "display_name": "Python 3 (ipykernel)",
   "language": "python",
   "name": "python3"
  },
  "language_info": {
   "codemirror_mode": {
    "name": "ipython",
    "version": 3
   },
   "file_extension": ".py",
   "mimetype": "text/x-python",
   "name": "python",
   "nbconvert_exporter": "python",
   "pygments_lexer": "ipython3",
   "version": "3.11.7"
  }
 },
 "nbformat": 4,
 "nbformat_minor": 5
}
