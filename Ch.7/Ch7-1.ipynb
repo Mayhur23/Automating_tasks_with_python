{
 "cells": [
  {
   "cell_type": "markdown",
   "id": "4d1ef2b2-5f66-4386-b822-fcf1e1c82b62",
   "metadata": {},
   "source": [
    "### [01] 셀레니움 설치하기"
   ]
  },
  {
   "cell_type": "code",
   "execution_count": null,
   "id": "1178a961-a744-4087-a6f5-fa7c7b092ad4",
   "metadata": {},
   "outputs": [],
   "source": [
    "pip install selenium"
   ]
  },
  {
   "cell_type": "markdown",
   "id": "f0003095-4e14-46d5-9156-5d021a617f36",
   "metadata": {},
   "source": [
    "### [03] 셀레니움으로 크롬 브라우저 조작하기"
   ]
  },
  {
   "cell_type": "code",
   "execution_count": null,
   "id": "1e307956-024b-474a-ae01-2783bdbfd20c",
   "metadata": {},
   "outputs": [],
   "source": [
    "from selenium import webdriver\n",
    "\n",
    "# 셀레니움 매니저로 크롬 드라이버 다운로드 후 크롬 브라우저를 조작할 수 있는 객체 반환\n",
    "driver = webdriver.Chrome()\n",
    "\n",
    "driver.get('http://www.google.com') # 크롬 브라우저를 열고, 해당 주소로 접속\n",
    "driver.quit() # 크롬 브라우저 종료"
   ]
  }
 ],
 "metadata": {
  "kernelspec": {
   "display_name": "Python 3 (ipykernel)",
   "language": "python",
   "name": "python3"
  },
  "language_info": {
   "codemirror_mode": {
    "name": "ipython",
    "version": 3
   },
   "file_extension": ".py",
   "mimetype": "text/x-python",
   "name": "python",
   "nbconvert_exporter": "python",
   "pygments_lexer": "ipython3",
   "version": "3.11.7"
  }
 },
 "nbformat": 4,
 "nbformat_minor": 5
}
