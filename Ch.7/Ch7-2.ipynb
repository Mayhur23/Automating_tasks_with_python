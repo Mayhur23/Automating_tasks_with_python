{
 "cells": [
  {
   "cell_type": "markdown",
   "id": "c8b20101-df2b-4262-a2cd-f67279641f91",
   "metadata": {},
   "source": [
    "### [01] 크롬 브라우저 실행 후 창 크기 제어하기"
   ]
  },
  {
   "cell_type": "code",
   "execution_count": null,
   "id": "b9850cf2-f8b4-4f58-9177-d9e748fdcb94",
   "metadata": {},
   "outputs": [],
   "source": [
    "from selenium import webdriver\n",
    "from time import sleep\n",
    "\n",
    "driver = webdriver.Chrome() # 크롬 드라이버 획득, 웹 브라우저 조작 객체 만들기\n",
    "driver.get('http://www.google.com') # URL로 접속\n",
    "driver.set_window_size(800, 600) # ➊ 창 크기를 너비 800px, 높이 600px로 설정\n",
    "sleep(3) # ➋ 3초간 정지\n",
    "driver.quit() # 크롬 브라우저 종료"
   ]
  },
  {
   "cell_type": "code",
   "execution_count": null,
   "id": "7fe322eb-fb99-40bf-87ab-8e94e3c69cb4",
   "metadata": {},
   "outputs": [],
   "source": [
    "from selenium import webdriver\n",
    "from time import sleep\n",
    "\n",
    "driver = webdriver.Chrome()\n",
    "driver.get('http://www.google.com')\n",
    "\n",
    "# 브라우저 창을 최대화\n",
    "driver.maximize_window()\n",
    "sleep(3)\n",
    "driver.quit()"
   ]
  },
  {
   "cell_type": "markdown",
   "id": "124cebfc-6354-4a46-8a19-100bd7f7378b",
   "metadata": {},
   "source": [
    "### [02] 크롬 브라우저 실행 전 창 크기 제어하기"
   ]
  },
  {
   "cell_type": "code",
   "execution_count": null,
   "id": "978e1fc7-fd17-4fd3-ad18-e5de83923580",
   "metadata": {},
   "outputs": [],
   "source": [
    "from selenium import webdriver\n",
    "from time import sleep\n",
    "\n",
    "# ➊ 옵션 객체 생성\n",
    "options = webdriver.ChromeOptions()\n",
    "# ➋ 옵션에 창 크기 조절 추가\n",
    "options.add_argument('window-size=800,600')\n",
    "\n",
    "# ➌ 옵션 적용하여 드라이버 객체 생성\n",
    "driver = webdriver.Chrome(options=options)\n",
    "driver.get('http://www.google.com')\n",
    "sleep(3)\n",
    "driver.quit()\n"
   ]
  },
  {
   "cell_type": "code",
   "execution_count": null,
   "id": "cea394e5-db44-4157-b0ba-727451d24d3f",
   "metadata": {},
   "outputs": [],
   "source": [
    "from selenium import webdriver\n",
    "from time import sleep\n",
    "\n",
    "# 옵션 객체 생성\n",
    "options = webdriver.ChromeOptions()\n",
    "# 창 크기를 최대 크기로 설정\n",
    "options.add_argument('--start-maximized')\n",
    "# 옵션을 적용하여 드라이버 객체 생성\n",
    "driver = webdriver.Chrome(options=options)\n",
    "\n",
    "driver.get('http://www.google.com')\n",
    "sleep(3)\n",
    "driver.quit()"
   ]
  },
  {
   "cell_type": "markdown",
   "id": "06cbe901-e60a-434d-968a-9f1feb6c4999",
   "metadata": {},
   "source": [
    "### [03] 셀레니움으로 요소 찾기"
   ]
  },
  {
   "cell_type": "code",
   "execution_count": null,
   "id": "82216750-5952-4e90-91dd-3dca32734980",
   "metadata": {},
   "outputs": [],
   "source": [
    "from selenium import webdriver\n",
    "from selenium.webdriver.common.by import By\n",
    "\n",
    "driver = webdriver.Chrome()\n",
    "driver.get('http://www.naver.com')\n",
    "\n",
    "# class 이름이 \"type_mail\"인 첫 번째 요소 찾기\n",
    "driver.find_element(By.CLASS_NAME, 'type_mail')\n",
    "\n",
    "driver.quit()"
   ]
  }
 ],
 "metadata": {
  "kernelspec": {
   "display_name": "Python 3 (ipykernel)",
   "language": "python",
   "name": "python3"
  },
  "language_info": {
   "codemirror_mode": {
    "name": "ipython",
    "version": 3
   },
   "file_extension": ".py",
   "mimetype": "text/x-python",
   "name": "python",
   "nbconvert_exporter": "python",
   "pygments_lexer": "ipython3",
   "version": "3.11.7"
  }
 },
 "nbformat": 4,
 "nbformat_minor": 5
}
