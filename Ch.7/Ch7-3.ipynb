{
 "cells": [
  {
   "cell_type": "markdown",
   "id": "f82b70e4-1a04-423e-900d-dcb4f4b76c7f",
   "metadata": {},
   "source": [
    "### 원리 01 XPath로 요소 위치를 표현하는 방법"
   ]
  },
  {
   "cell_type": "raw",
   "id": "518965bb-5684-4873-94e3-730a3db20590",
   "metadata": {},
   "source": [
    "<회사 이름=\"우리회사\">\n",
    " <본부 이름=\"A본부\">\n",
    "   <팀 이름=\"1팀\">\n",
    "     <직원 직급=\"부장\" 사번\"0100\">정우성</직원>\n",
    "     <직원 직급=\"과장\" 사번\"0150\">이지은</직원>\n",
    "     <직원 직급=\"대리\" 사번\"0200\">차은우</직원>\n",
    "     <직원 직급=\"사원\" 사번\"0400\">박은빈</직원>\n",
    "     <직원 직급=\"인턴\" 사번\"0500\">박보영</직원>\n",
    "   </팀>\n",
    "   <팀 이름=\"2팀\"/>\n",
    "   <팀 이름=\"3팀\"/>\n",
    "   ⋯ 생략 ⋯\n",
    " </본부>\n",
    " <본부 이름=\"B본부\"/>\n",
    " ⋯ 생략 ⋯\n",
    "</회사>"
   ]
  },
  {
   "cell_type": "markdown",
   "id": "78ac03aa-5f20-43d7-9c22-08486273850c",
   "metadata": {},
   "source": [
    "### 원리 02 XPath 기본 규칙 이해하기"
   ]
  },
  {
   "cell_type": "raw",
   "id": "6aa5fae6-2497-4ae4-95a6-d3afeac7c4c3",
   "metadata": {},
   "source": [
    "<html>\n",
    " <head>\n",
    "   <title>업무자동화 공부하기</title>\n",
    " </head>\n",
    " <body>\n",
    "   <input type=\"text\" value=\"아이디를 입력하세요.\">\n",
    "   <input type=\"password\">\n",
    "   <input type=\"button\" value=\"로그인\">\n",
    "   <a href=\"http://naver.com\"> 네이버로 이동하기</a>\n",
    "   <div id=\"content\">\n",
    "     <h1 id=\"title\" class=\"about\">웹스크래핑 알아보기</h1>\n",
    "     <p>Beautiful Soup을 공부해보자</p>\n",
    "   </div>\n",
    " </body>\n",
    "</html>"
   ]
  },
  {
   "cell_type": "markdown",
   "id": "90ce4119-cb3d-4494-a3c5-d73586f7a82c",
   "metadata": {},
   "source": [
    "### [01] 크롬 브라우저에서 XPath 확인하기"
   ]
  },
  {
   "cell_type": "code",
   "execution_count": null,
   "id": "45df81f5-7fd1-44b5-a203-b6f7c769a800",
   "metadata": {},
   "outputs": [],
   "source": [
    "from selenium import webdriver\n",
    "from selenium.webdriver.common.by import By\n",
    "import time\n",
    "\n",
    "driver = webdriver.Chrome()\n",
    "\n",
    "# 네이버 검색에서 내일 날씨 검색\n",
    "driver.get(\"https://search.naver.com/search.naver?where=nexearch&sm=top_hty&fbm=0&ie=utf8&query=내일 날씨\")\n",
    "\n",
    "# XPath로 해당 요소 찾기\n",
    "element = driver.find_element(By.XPATH, '//*[@id=\"sp_nws_all1\"]/div[1]/div/div[2]/div/div/a')\n",
    "\n",
    "# 텍스트 출력 후 3초간 대기 후 웹 브라우저 종료\n",
    "print(element.text)\n",
    "time.sleep(3)\n",
    "driver.quit()"
   ]
  },
  {
   "cell_type": "code",
   "execution_count": null,
   "id": "101b7103-c5cb-4173-b12d-df7d68fbd062",
   "metadata": {},
   "outputs": [],
   "source": []
  }
 ],
 "metadata": {
  "kernelspec": {
   "display_name": "Python 3 (ipykernel)",
   "language": "python",
   "name": "python3"
  },
  "language_info": {
   "codemirror_mode": {
    "name": "ipython",
    "version": 3
   },
   "file_extension": ".py",
   "mimetype": "text/x-python",
   "name": "python",
   "nbconvert_exporter": "python",
   "pygments_lexer": "ipython3",
   "version": "3.11.7"
  }
 },
 "nbformat": 4,
 "nbformat_minor": 5
}
