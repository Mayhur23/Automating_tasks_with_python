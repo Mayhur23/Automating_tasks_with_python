{
 "cells": [
  {
   "cell_type": "markdown",
   "id": "f18218a3-38bf-4363-84f8-724598828527",
   "metadata": {},
   "source": [
    "### 개념 01 명시적 대기란?"
   ]
  },
  {
   "cell_type": "raw",
   "id": "3504c34f-3ca2-4e64-ada8-91add5ebeb46",
   "metadata": {},
   "source": [
    "from selenium.webdriver.support.ui import WebDriverWait\n",
    "from selenium.webdriver.support import expected_conditions as EC\n",
    "from selenium.webdriver.common.by import By\n",
    "\n",
    "driver = webdriver.Chrome()\n",
    "driver.get(\"https://www.google.com\")\n",
    "# 작업 수행\n",
    "⋯ 생략 ⋯\n",
    "# ➊ WebDriverWait 객체 생성 및 최대 대기 시간, 조건 설정\n",
    "# ➋ until( ) 함수로 특정 요소가 로드될 때까지 대기한 후 작업을 진행하도록 설정\n",
    "WebDriverWait(driver, 10).until(EC.함수명((By.속성, '속성값')))\n",
    "# ➋ 명시적 대기 후 진행할 작업 수행\n",
    "⋯ 생략 ⋯"
   ]
  },
  {
   "cell_type": "markdown",
   "id": "a979f405-7985-4dd6-97bd-7a0c35db9a87",
   "metadata": {},
   "source": [
    "### 개념 02 암시적 대기란?"
   ]
  },
  {
   "cell_type": "code",
   "execution_count": null,
   "id": "238e4a0f-29f1-445c-9941-f073e2a990dd",
   "metadata": {},
   "outputs": [],
   "source": [
    "from selenium import webdriver\n",
    "\n",
    "driver = webdriver.Chrome()\n",
    "# 웹 드라이버에 암시적 대기 설정(최대 10초)\n",
    "driver.implicitly_wait(10) \n",
    "driver.get(\"https://www.google.com\")"
   ]
  }
 ],
 "metadata": {
  "kernelspec": {
   "display_name": "Python 3 (ipykernel)",
   "language": "python",
   "name": "python3"
  },
  "language_info": {
   "codemirror_mode": {
    "name": "ipython",
    "version": 3
   },
   "file_extension": ".py",
   "mimetype": "text/x-python",
   "name": "python",
   "nbconvert_exporter": "python",
   "pygments_lexer": "ipython3",
   "version": "3.11.7"
  }
 },
 "nbformat": 4,
 "nbformat_minor": 5
}
