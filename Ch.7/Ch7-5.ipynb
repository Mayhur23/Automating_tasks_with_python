{
 "cells": [
  {
   "cell_type": "markdown",
   "id": "eb7f85c5-db40-422e-a63f-1faa9492fa1a",
   "metadata": {},
   "source": [
    "### [01] 네이버 검색 창에 일반 텍스트 입력하기"
   ]
  },
  {
   "cell_type": "raw",
   "id": "b14aa5c5-e9b6-4cb2-8c0d-6c1962dc6841",
   "metadata": {},
   "source": [
    "# 입력 필드 찾기\n",
    "input_element = driver.find_element(By.속성, '속성값')\n",
    "\n",
    "# 텍스트 입력\n",
    "input_element.send_keys('입력할 텍스트')"
   ]
  },
  {
   "cell_type": "code",
   "execution_count": null,
   "id": "360b677b-7245-4466-b5b2-6bcd96321d4c",
   "metadata": {},
   "outputs": [],
   "source": [
    "from selenium import webdriver\n",
    "from selenium.webdriver.common.by import By\n",
    "\n",
    "driver = webdriver.Chrome()\n",
    "driver.get(\"http://www.naver.com\")\n",
    "\n",
    "# 검색어 입력 필드 찾기\n",
    "input_element = driver.find_element(By.ID, 'query')\n",
    "\n",
    "# 텍스트 입력\n",
    "input_element.send_keys('서울 날씨')"
   ]
  },
  {
   "cell_type": "markdown",
   "id": "0f7fada6-3689-4a80-b461-774da919c3cf",
   "metadata": {},
   "source": [
    "### [02] 입력한 텍스트로 검색 진행하기"
   ]
  },
  {
   "cell_type": "code",
   "execution_count": null,
   "id": "4e973ca8-b56f-48b8-9b29-e6dbb45511cd",
   "metadata": {},
   "outputs": [],
   "source": [
    "from selenium import webdriver\n",
    "from selenium.webdriver.common.by import By\n",
    "\n",
    "driver = webdriver.Chrome()\n",
    "driver.get(\"http://www.naver.com\")\n",
    "\n",
    "# 검색어 입력 필드 찾기\n",
    "input_element = driver.find_element(By.ID, 'query')\n",
    "\n",
    "# 텍스트 입력\n",
    "input_element.send_keys('서울 날씨')\n",
    "input_element.submit()"
   ]
  },
  {
   "cell_type": "markdown",
   "id": "f454d0da-0570-4fd8-b15c-7ed3f05e0f85",
   "metadata": {},
   "source": [
    "### [03] 특수 키 사용하기"
   ]
  },
  {
   "cell_type": "code",
   "execution_count": null,
   "id": "bfdfa560-0289-44dd-8c8c-483ff416eca7",
   "metadata": {},
   "outputs": [],
   "source": [
    "from selenium import webdriver\n",
    "from selenium.webdriver.common.by import By\n",
    "from selenium.webdriver.common.keys import Keys\n",
    "\n",
    "driver = webdriver.Chrome()\n",
    "driver.get(\"http://www.naver.com\")\n",
    "\n",
    "# 검색어 입력 필드 찾기\n",
    "input_element = driver.find_element(By.ID, 'query')\n",
    "\n",
    "# 텍스트 입력\n",
    "input_element.send_keys('서울 날씨')\n",
    "input_element.send_keys(Keys.ENTER)"
   ]
  },
  {
   "cell_type": "markdown",
   "id": "46571aec-8f07-41cc-98ce-eadf8388db35",
   "metadata": {},
   "source": [
    "### [04] 조합 키 사용하기"
   ]
  },
  {
   "cell_type": "code",
   "execution_count": null,
   "id": "713e68ee-3e20-4d07-a48c-61039a7484ad",
   "metadata": {},
   "outputs": [],
   "source": [
    "from selenium import webdriver\n",
    "from selenium.webdriver.common.by import By\n",
    "from selenium.webdriver.common.keys import Keys\n",
    "import time\n",
    "\n",
    "driver = webdriver.Chrome()\n",
    "driver.get(\"http://www.naver.com\")\n",
    "\n",
    "# 검색어 입력 필드 찾기\n",
    "input_element = driver.find_element(By.ID, 'query')\n",
    "\n",
    "# 텍스트 입력\n",
    "input_element.send_keys('서울 날씨')\n",
    "time.sleep(2) # 확인을 위해 2초 대기\n",
    "\n",
    "# 키 조합 사용(전체 선택 ➝ 잘라내기)\n",
    "input_element.send_keys(Keys.CONTROL, 'A')\n",
    "input_element.send_keys(Keys.CONTROL, 'X')"
   ]
  },
  {
   "cell_type": "markdown",
   "id": "9378249a-54c2-4372-8eb6-bb06fff1f4b1",
   "metadata": {},
   "source": [
    "### [05] 파이썬에서 입력 받은 값으로 검색하기"
   ]
  },
  {
   "cell_type": "code",
   "execution_count": null,
   "id": "b77aba67-e722-44ee-8e97-398cbf54a3f0",
   "metadata": {},
   "outputs": [],
   "source": [
    "from selenium import webdriver\n",
    "from selenium.webdriver.common.by import By\n",
    "from selenium.webdriver.common.keys import Keys\n",
    "\n",
    "driver = webdriver.Chrome()\n",
    "driver.get(\"http://www.naver.com\")\n",
    "\n",
    "# ➊ 사용자로부터 검색할 단어를 입력받기\n",
    "search_query = input('검색할 단어를 입력하세요: ')\n",
    "\n",
    "# ➋ 검색어 입력 필드 찾기\n",
    "input_element = driver.find_element(By.ID, 'query')\n",
    "\n",
    "# ➌ 검색창에 사용자가 입력한 검색어를 입력\n",
    "input_element.send_keys(search_query)\n",
    "\n",
    "# ➍ ENTER 키를 눌러 검색 실행\n",
    "input_element.send_keys(Keys.ENTER)"
   ]
  },
  {
   "cell_type": "markdown",
   "id": "2d704be5-2021-4f4d-ae19-67b5c225d03f",
   "metadata": {},
   "source": [
    "### [06] 마우스 클릭하기"
   ]
  },
  {
   "cell_type": "code",
   "execution_count": null,
   "id": "f31f5a86-07de-48d5-a61a-252508b7a256",
   "metadata": {},
   "outputs": [],
   "source": [
    "from selenium import webdriver\n",
    "from selenium.webdriver.common.by import By\n",
    "from selenium.webdriver.common.keys import Keys\n",
    "from selenium.webdriver.common.action_chains import ActionChains\n",
    "\n",
    "driver = webdriver.Chrome()\n",
    "driver.get('http://www.naver.com')\n",
    "\n",
    "# 이미지 검색 페이지 버튼 찾기\n",
    "element_to_click = driver.find_element(By.CSS_SELECTOR, '#shortcutArea > ul > li:nth-child(3) > a > span.service_icon.type_blog')\n",
    "# 마우스 클릭 실행\n",
    "element_to_click.click() "
   ]
  },
  {
   "cell_type": "markdown",
   "id": "b9cb2299-e01a-4439-86f8-4fe885ce2295",
   "metadata": {},
   "source": [
    "### [07] 드래그 앤 드롭하기"
   ]
  },
  {
   "cell_type": "code",
   "execution_count": null,
   "id": "8a4b506a-458d-4f50-aa05-d534d4d6bd81",
   "metadata": {},
   "outputs": [],
   "source": [
    "from selenium import webdriver\n",
    "from selenium.webdriver.common.by import By\n",
    "from selenium.webdriver.common.keys import Keys\n",
    "from selenium.webdriver.common.action_chains import ActionChains\n",
    "import time\n",
    "\n",
    "driver = webdriver.Chrome()\n",
    "driver.get('http://www.naver.com')\n",
    "\n",
    "# 드래그할 대상 요소와 드롭할 목표 요소를 지정\n",
    "source = driver.find_element(By.CSS_SELECTOR, '#shortcutArea > ul > li:nth-child(4) > a > span.service_icon.type_shopping')\n",
    "target = driver.find_element(By.CSS_SELECTOR, '#query')\n",
    "\n",
    "# 드래그 앤 드롭 실행\n",
    "actions = ActionChains(driver)\n",
    "actions.drag_and_drop(source, target).perform()\n",
    "\n",
    "time.sleep(3)\n",
    "\n",
    "# [Enter] 사용하기\n",
    "target.send_keys(Keys.ENTER)"
   ]
  },
  {
   "cell_type": "markdown",
   "id": "44682033-c1cd-4b99-b2e1-9dc397fbe825",
   "metadata": {},
   "source": [
    "### [08] 마우스 오버하기"
   ]
  },
  {
   "cell_type": "code",
   "execution_count": null,
   "id": "a0eeab4c-e135-4fdd-aa77-19008ea34434",
   "metadata": {},
   "outputs": [],
   "source": [
    "from selenium import webdriver\n",
    "from selenium.webdriver.common.by import By\n",
    "from selenium.webdriver.common.keys import Keys\n",
    "from selenium.webdriver.common.action_chains import ActionChains\n",
    "\n",
    "driver = webdriver.Chrome()\n",
    "driver.get('http://www.naver.com')\n",
    "\n",
    "# 마우스 오버 대상 요소\n",
    "hover_element = driver.find_element(By.CSS_SELECTOR, '#newsstand > div.MediaView-module__media_area___Z4js3 > div > div.MediaSubscriptionView-module__subscription_group___peb21 > div:nth-child(1)')\n",
    "\n",
    "# 마우스 오버 실행\n",
    "actions = ActionChains(driver)\n",
    "actions.move_to_element(hover_element).perform()"
   ]
  },
  {
   "cell_type": "markdown",
   "id": "7ba49305-8f36-40cf-a1d1-7e22ff4f3d85",
   "metadata": {},
   "source": [
    "### [09] 스크롤바 이동하기"
   ]
  },
  {
   "cell_type": "code",
   "execution_count": null,
   "id": "38a17ce6-14fa-4ce8-b6e0-0053a44e16ae",
   "metadata": {},
   "outputs": [],
   "source": [
    "from selenium import webdriver\n",
    "\n",
    "driver = webdriver.Chrome()\n",
    "driver.get('https://www.naver.com')\n",
    "\n",
    "# y축 방향으로 500 픽셀만큼 이동\n",
    "driver.execute_script('window.scrollTo(0, 500)')"
   ]
  },
  {
   "cell_type": "code",
   "execution_count": null,
   "id": "9ce5bf42-7e69-42ba-8f18-2a20a72395f7",
   "metadata": {},
   "outputs": [],
   "source": [
    "from selenium import webdriver\n",
    "\n",
    "driver = webdriver.Chrome()\n",
    "driver.get('https://www.naver.com')\n",
    "\n",
    "# 페이지 최하단으로 스크롤\n",
    "driver.execute_script('window.scrollTo(0, document.body.scrollHeight)')"
   ]
  },
  {
   "cell_type": "markdown",
   "id": "472c5f95-1f64-4651-a4d2-348a53cdf2da",
   "metadata": {},
   "source": [
    "### [10] 특정 요소 위치로 스크롤바 이동하기"
   ]
  },
  {
   "cell_type": "code",
   "execution_count": null,
   "id": "69900a30-e696-449f-92c7-915e821ab45c",
   "metadata": {},
   "outputs": [],
   "source": [
    "from selenium import webdriver\n",
    "\n",
    "driver = webdriver.Chrome()\n",
    "driver.get('https://www.naver.com')\n",
    "\n",
    "# 페이지에서 [증시] 코너의 [증시] 요소 찾기\n",
    "element = driver.find_element(By.PARTIAL_LINK_TEXT, '증시')\n",
    "\n",
    "# 해당 요소가 화면 중앙으로 오도록 부드럽게 스크롤바를 조정\n",
    "driver.execute_script(\"arguments[0].scrollIntoView({behavior: 'smooth', block: 'center', inline: 'center'});\", element)"
   ]
  },
  {
   "cell_type": "markdown",
   "id": "e10e74c7-1088-492c-9ba8-fba54a4b6c7d",
   "metadata": {},
   "source": [
    "### [11] 브라우저 창 전환하기"
   ]
  },
  {
   "cell_type": "code",
   "execution_count": null,
   "id": "80c3eb21-4934-465e-8349-42bb4f2e75b2",
   "metadata": {},
   "outputs": [],
   "source": [
    "from selenium import webdriver\n",
    "\n",
    "driver = webdriver.Chrome()\n",
    "driver.get('https://www.naver.com')\n",
    "\n",
    "# ➊ \"부동산\" 아이콘 클릭하기\n",
    "xpath = '//*[@id=\"shortcutArea\"]/ul/li[7]/a/span[1]'\n",
    "real_estate = driver.find_element(By.XPATH, xpath)\n",
    "real_estate.click()\n",
    "\n",
    "# ➋ 새로운 탭이 완전히 열리도록 2초 대기\n",
    "time.sleep(2)\n",
    "\n",
    "# ➌ 새로 열린 탭(두 번째 탭)으로 전환\n",
    "window_handles = driver.window_handles\n",
    "driver.switch_to.window(window_handles[1])  \n",
    "\n",
    "# ➍ 현재 창의 페이지 url과 제목 출력\n",
    "print('현재 URL:', driver.current_url)\n",
    "print('현재 페이지 제목:', driver.title)"
   ]
  },
  {
   "cell_type": "markdown",
   "id": "bed4252d-7095-46e5-93b6-fed9ecb80c53",
   "metadata": {},
   "source": [
    "### [12] 스크린샷하기"
   ]
  },
  {
   "cell_type": "code",
   "execution_count": null,
   "id": "1d04e56a-eb78-4337-83e9-5bd88b57f619",
   "metadata": {},
   "outputs": [],
   "source": [
    "from selenium import webdriver\n",
    "\n",
    "driver = webdriver.Chrome()\n",
    "driver.get('https://www.google.com')\n",
    "\n",
    "driver.save_screenshot('full_page_screenshot.png')\n",
    "driver.quit()"
   ]
  },
  {
   "cell_type": "code",
   "execution_count": null,
   "id": "0368a7e7-cd03-42ae-bfc4-b23fdb7529bf",
   "metadata": {},
   "outputs": [],
   "source": [
    "from selenium import webdriver\n",
    "\n",
    "driver = webdriver.Chrome()\n",
    "driver.get('https://www.google.com')\n",
    "\n",
    "# 구글 메인 로고 요소 찾아 캡처\n",
    "element = driver.find_element(By.XPATH, '/html/body/div[1]/div[2]/div/img')\n",
    "element.screenshot('element_screenshot.png')\n",
    "driver.quit()"
   ]
  },
  {
   "cell_type": "markdown",
   "id": "811e6a36-4538-4d66-90fe-6907cdc0a981",
   "metadata": {},
   "source": [
    "### [13] 웹 브라우저를 띄우지 않고 자동화하기"
   ]
  },
  {
   "cell_type": "code",
   "execution_count": null,
   "id": "3c578c8b-c139-4668-a00e-75041864db2b",
   "metadata": {},
   "outputs": [],
   "source": [
    "from selenium import webdriver\n",
    "\n",
    "# ➊ 옵션 객체 생성\n",
    "options = webdriver.ChromeOptions() \n",
    "options.add_argument(\"--headless\") # 헤드리스 모드 활성화\n",
    "\n",
    "# ➋ 설정된 옵션을 포함하여 웹 드라이버 인스턴스 생성\n",
    "driver = webdriver.Chrome(options=options)\n",
    "driver.get('https://www.google.com')\n",
    "\n",
    "# 구글 메인 로고 요소 찾아 캡처\n",
    "element = driver.find_element(By.XPATH, '/html/body/div[1]/div[2]/div/img')\n",
    "element.screenshot('element_screenshot_headlessmode.png')\n",
    "\n",
    "driver.quit()"
   ]
  }
 ],
 "metadata": {
  "kernelspec": {
   "display_name": "Python 3 (ipykernel)",
   "language": "python",
   "name": "python3"
  },
  "language_info": {
   "codemirror_mode": {
    "name": "ipython",
    "version": 3
   },
   "file_extension": ".py",
   "mimetype": "text/x-python",
   "name": "python",
   "nbconvert_exporter": "python",
   "pygments_lexer": "ipython3",
   "version": "3.11.7"
  }
 },
 "nbformat": 4,
 "nbformat_minor": 5
}
