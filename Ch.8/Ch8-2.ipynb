{
 "cells": [
  {
   "cell_type": "markdown",
   "id": "2c36fa77-d58b-4e83-a78a-5b0ce787bbac",
   "metadata": {},
   "source": [
    "### [04] 챗GPT API 사용하기"
   ]
  },
  {
   "cell_type": "code",
   "execution_count": null,
   "id": "128f3ae1-c7bb-4810-8511-d82099b78657",
   "metadata": {},
   "outputs": [],
   "source": [
    "pip install openai"
   ]
  },
  {
   "cell_type": "code",
   "execution_count": null,
   "id": "71cdf245-7f13-430e-a33a-f39e86bc4fa9",
   "metadata": {},
   "outputs": [],
   "source": [
    "import openai\n",
    "client = openai.OpenAI(api_key=\"발급 받은 API 키\")"
   ]
  },
  {
   "cell_type": "raw",
   "id": "6c2e9e0b-2e23-4808-9172-b26710388d7d",
   "metadata": {},
   "source": [
    "# API 코드 패턴\n",
    "completion = client.chat.completions.create(\n",
    "   model=\"모델 이름\",\n",
    "   messages=[\n",
    "       {\"role\": \"user\", \"content\": \"프롬프트\"}\n",
    "   ]\n",
    ")"
   ]
  },
  {
   "cell_type": "code",
   "execution_count": null,
   "id": "dd851c59-44d8-4924-b7ed-57a7d659eb98",
   "metadata": {},
   "outputs": [],
   "source": [
    "response = client.chat.completions.create(\n",
    "   model=\"gpt-4o\",\n",
    "   messages=[\n",
    "       {\"role\": \"user\", \"content\": \"세종 대왕이 누구야\"}\n",
    "   ]\n",
    ")\n",
    "\n",
    "print(response.choices[0].message.content)"
   ]
  },
  {
   "cell_type": "markdown",
   "id": "086ba876-1180-4955-8d95-fcd6208676d0",
   "metadata": {},
   "source": [
    "### [05] 챗GPT 답변 형식 변경하기"
   ]
  },
  {
   "cell_type": "code",
   "execution_count": null,
   "id": "80ff0101-b3e5-42b3-a677-083e16dad7b8",
   "metadata": {},
   "outputs": [],
   "source": [
    "response = client.chat.completions.create(\n",
    "   model=\"gpt-4o\",\n",
    "   messages=[\n",
    "       {\"role\": \"system\", \"content\": \"존댓말로 세 줄 요약으로 설명해주세요\"},\n",
    "       {\"role\": \"user\", \"content\": \"세종대왕이 누구야\"}\n",
    "   ]\n",
    ")\n",
    "\n",
    "print(response.choices[0].message.content)"
   ]
  }
 ],
 "metadata": {
  "kernelspec": {
   "display_name": "Python 3 (ipykernel)",
   "language": "python",
   "name": "python3"
  },
  "language_info": {
   "codemirror_mode": {
    "name": "ipython",
    "version": 3
   },
   "file_extension": ".py",
   "mimetype": "text/x-python",
   "name": "python",
   "nbconvert_exporter": "python",
   "pygments_lexer": "ipython3",
   "version": "3.11.7"
  }
 },
 "nbformat": 4,
 "nbformat_minor": 5
}
