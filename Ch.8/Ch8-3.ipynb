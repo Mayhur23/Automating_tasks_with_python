{
 "cells": [
  {
   "cell_type": "markdown",
   "id": "7608b548-0384-48b9-8193-54077f002fa2",
   "metadata": {},
   "source": [
    "### [01] 데이터프레임으로 만들고 출력해보기"
   ]
  },
  {
   "cell_type": "code",
   "execution_count": null,
   "id": "d6be29ab-d4e4-49cc-8bc3-da6538abac73",
   "metadata": {},
   "outputs": [],
   "source": [
    "import pandas as pd\n",
    "\n",
    "# 파일 읽어 데이터프레임으로 불러오기\n",
    "df = pd.read_excel('./CAD_CAM_errors.xlsx')\n",
    "print('데이터의 개수 :', len(df))"
   ]
  },
  {
   "cell_type": "code",
   "execution_count": null,
   "id": "9a737e3a-78d3-4b2f-90f2-c97d522a0da8",
   "metadata": {},
   "outputs": [],
   "source": [
    "df.head()"
   ]
  },
  {
   "cell_type": "markdown",
   "id": "67be250f-b651-4abc-853c-05b12a00d4ed",
   "metadata": {},
   "source": [
    "<u>**<한 걸음 더!> URL로 데이터프레임을 만들 수도 있습니다**</u>"
   ]
  },
  {
   "cell_type": "code",
   "execution_count": null,
   "id": "7a1b5977-e7c6-4f6f-97f7-7eb4b442bff1",
   "metadata": {},
   "outputs": [],
   "source": [
    "import pandas as pd\n",
    "\n",
    "# 파일 URL 제공\n",
    "# 원래 URL은 https://raw.githubusercontent.com/Mayhur23/Automating_tasks_with_python/main/Ch.8/CAD_CAM_errors.xlsx지만 너무 길어서 비틀리 서비스로 줄여두었습니다.\n",
    "url = 'https://bit.ly/4eExhe6'\n",
    "\n",
    "# url로 엑셀 파일 읽고 데이터프레임으로 불러오기\n",
    "df = pd.read_excel(url)\n",
    "print('데이터의 개수 : ', len(df))"
   ]
  },
  {
   "cell_type": "markdown",
   "id": "a1aad49c-f968-498b-a75c-912965ab7725",
   "metadata": {},
   "source": [
    "### [02] 분류 요청 함수 만들기"
   ]
  },
  {
   "cell_type": "code",
   "execution_count": null,
   "id": "a04167f1-2581-4691-8c7f-7ffbfcf50707",
   "metadata": {},
   "outputs": [],
   "source": [
    "input_list = df['오류 내용 및 조치 사항'].to_list()\n",
    "\n",
    "for input in input_list[:5]:\n",
    "   print(input)"
   ]
  },
  {
   "cell_type": "code",
   "execution_count": null,
   "id": "f026bb77-9817-460f-b200-afcd05615e6b",
   "metadata": {},
   "outputs": [],
   "source": [
    "import openai\n",
    "\n",
    "client = openai.OpenAI(api_key=\"발급 받은 API 키\")\n",
    "\n",
    "system_prompt = '''1. 제품의 오류 내용 및 조치사항이 주어질 것입니다.\n",
    "2. 제품의 오류 내용과 조치 사항을 적절히 분리하여 작성하십시오.\n",
    "3. 답변은 반드시 파이썬의 딕셔너리 형태의 문자열로 작성하세요. 그 외에는 작성하지 마세요. 매우 중요합니다.\n",
    "4. {\"error_details\" : 오류 내용을 적으세요, \"corrective_actions\": 조치 사항을 적으세요.}'''\n",
    "\n",
    "user_prompt = '3D 모델 파일 손상으로 작업 중단 및 중요 레이어 누락으로 도면 오류 발생. 백업 파일 복구, 레이어 재정리 및 검토'\n",
    "\n",
    "response = client.chat.completions.create(\n",
    "   model=\"gpt-4o\",\n",
    "   messages=[\n",
    "       {\"role\": \"system\", \"content\": system_prompt},\n",
    "       {\"role\": \"user\", \"content\": user_prompt}\n",
    "   ]\n",
    ")\n",
    "\n",
    "print(response.choices[0].message.content)"
   ]
  },
  {
   "cell_type": "code",
   "execution_count": null,
   "id": "fe0a39ea-cec9-4294-bd70-b5c7dd741d33",
   "metadata": {},
   "outputs": [],
   "source": [
    "import openai\n",
    "\n",
    "client = openai.OpenAI(api_key=\"발급 받은 API 키\")\n",
    "\n",
    "def get_error_and_action(user_prompt):\n",
    "    \n",
    "   system_prompt = '''1. 제품의 오류 내용 및 조치사항이 주어질 것입니다.\n",
    "   2. 제품의 오류 내용과 조치 사항을 적절히 분리하여 작성하십시오.\n",
    "   3. 답변은 반드시 파이썬의 딕셔너리 형태의 문자열로 작성하세요. 그 외에는 작성하지 마세요. 매우 중요합니다.\n",
    "   4. {\"error_details\" : 오류 내용을 적으세요, \"corrective_actions\": 조치 사항을 적으세요.}\n",
    "   '''\n",
    "   response = client.chat.completions.create(\n",
    "       model=\"gpt-4\",\n",
    "       messages=[\n",
    "           {\"role\": \"system\", \"content\": system_prompt},\n",
    "           {\"role\": \"user\", \"content\": user_prompt}\n",
    "       ]\n",
    "   )\n",
    "\n",
    "   return response.choices[0].message.content"
   ]
  },
  {
   "cell_type": "markdown",
   "id": "63a0de78-80e7-46ce-ac53-3c27fbdee654",
   "metadata": {},
   "source": [
    "### [03] 분류 요청 함수 실행하고 다시 데이터프레임으로 만들기"
   ]
  },
  {
   "cell_type": "code",
   "execution_count": null,
   "id": "7bfd3d5e-a664-4087-92e8-2bcb2406226f",
   "metadata": {},
   "outputs": [],
   "source": [
    "result_list = []\n",
    "for input in input_list:\n",
    "   result = get_error_and_action(input)\n",
    "   result_list.append(result)"
   ]
  },
  {
   "cell_type": "code",
   "execution_count": null,
   "id": "7ee7435b-2a85-4eb8-8a63-5b8448fa72cf",
   "metadata": {},
   "outputs": [],
   "source": [
    "print('5번 데이터 입력 :', input_list[5])\n",
    "print('5번 데이터 처리 결과 :', result_list[5])"
   ]
  },
  {
   "cell_type": "code",
   "execution_count": null,
   "id": "2df9b784-c0ce-4616-aaad-443a7091feb5",
   "metadata": {},
   "outputs": [],
   "source": [
    "print('데이터의 타입 :', type(result_list[5]))"
   ]
  },
  {
   "cell_type": "code",
   "execution_count": null,
   "id": "fa54cee0-8412-4f3c-b463-63d8cc487eb3",
   "metadata": {},
   "outputs": [],
   "source": [
    "import ast\n",
    "\n",
    "dict_sample = ast.literal_eval(result_list[5])\n",
    "print('데이터의 타입 :', type(dict_sample))"
   ]
  },
  {
   "cell_type": "code",
   "execution_count": null,
   "id": "3a3ce7f9-2fe5-4286-b458-a6b3b68f53ee",
   "metadata": {},
   "outputs": [],
   "source": [
    "#  result_list의 모든 요소를 전부 딕셔너리로 변경\n",
    "dict_result_list = []\n",
    "\n",
    "for str_result in result_list:\n",
    "   dict_result = ast.literal_eval(str_result)\n",
    "   dict_result_list.append(dict_result)"
   ]
  },
  {
   "cell_type": "code",
   "execution_count": null,
   "id": "6db467ff-ab3e-4e28-b8a3-5e6a97cc749e",
   "metadata": {},
   "outputs": [],
   "source": [
    "df['오류 내용'] = error_details\n",
    "df['조치 사항'] = corrective_actions\n",
    "df[['날짜', '고객사', '오류 내용', '조치 사항']].head()"
   ]
  }
 ],
 "metadata": {
  "kernelspec": {
   "display_name": "Python 3 (ipykernel)",
   "language": "python",
   "name": "python3"
  },
  "language_info": {
   "codemirror_mode": {
    "name": "ipython",
    "version": 3
   },
   "file_extension": ".py",
   "mimetype": "text/x-python",
   "name": "python",
   "nbconvert_exporter": "python",
   "pygments_lexer": "ipython3",
   "version": "3.11.7"
  }
 },
 "nbformat": 4,
 "nbformat_minor": 5
}
