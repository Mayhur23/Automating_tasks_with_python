{
 "cells": [
  {
   "cell_type": "markdown",
   "id": "47b1958f-4185-4e8a-a867-b900283f112d",
   "metadata": {},
   "source": [
    "01) 폴더와 파일 확인하기"
   ]
  },
  {
   "cell_type": "code",
   "execution_count": null,
   "id": "e7c53da9-3425-4332-a473-08078c89175c",
   "metadata": {},
   "outputs": [],
   "source": [
    "import os\n",
    "\n",
    "# folder_path 경로 내 파일과 폴더 목록 반환\n",
    "folder_path = './project1'\n",
    "lists = os.listdir(folder_path)\n",
    "print(lists)"
   ]
  },
  {
   "cell_type": "markdown",
   "id": "355c3190-49fe-45b5-8da4-02d9392ba6e8",
   "metadata": {},
   "source": [
    "2. 파일 분류 함수 만들기"
   ]
  },
  {
   "cell_type": "code",
   "execution_count": null,
   "id": "868421d7-f1a3-4f0c-abc0-7e3a1567a0e0",
   "metadata": {},
   "outputs": [],
   "source": [
    "import os\n",
    "import shutil\n",
    "# 1 특정 폴더 안의 파일들을 확장자를 기준으로 분류하는 organize_files( ) 함수 정의\n",
    "def organize_files(folder_path):\n",
    "    # 2 폴더가 존재하는지 확인\n",
    "    if not os.path.isdir(folder_path):\n",
    "        print(f\"해당 경로 {folder_path} 폴더가 존재하지 않음.\")\n",
    "        return\n",
    "    # 3 폴더 내의 모든 파일을 확인\n",
    "    for filename in os.listdir(folder_path):\n",
    "        # 4 파일의 전체 경로를 생성\n",
    "        file_path = os.path.join(folder_path, filename)\n",
    "        # 5 파일인지 확인 (폴더는 제외)\n",
    "        if os.path.isfile(file_path):\n",
    "            # 6 파일 확장자 가져오기\n",
    "            file_extension = os.path.splitext(filename)[1].lower()\n",
    "            # 7 파일 확장자가 없다면 무시\n",
    "            if not file_extension:\n",
    "                continue\n",
    "\n",
    "            # 8 확장자에 따라 하위 폴더 이름을 설정\n",
    "            folder_name = file_extension[1:] + 'Files' # 확장자에서 점(.)을 제거\n",
    "            new_folder_path = os.path.join(folder_path, folder_name)\n",
    "            # 9 하위 폴더가 존재하지 않으면 생성\n",
    "            if not os.path.exists(new_folder_path):\n",
    "                os.makedirs(new_folder_path)\n",
    "            # 10 파일을 하위 폴더로 이동\n",
    "            new_file_path = os.path.join(new_folder_path, filename)\n",
    "            shutil.move(file_path, new_file_path)\n",
    "            print(f\"{filename}이 {new_folder_path}로 파일 이동이 완료되었습니다.\")"
   ]
  },
  {
   "cell_type": "code",
   "execution_count": null,
   "id": "c498fffe-3a4f-46d7-bd10-23267c2a44ea",
   "metadata": {},
   "outputs": [],
   "source": [
    "# project1 폴더의 파일들을 확장자별로 정리하기\n",
    "folder_path = './project1'\n",
    "organize_files(folder_path)"
   ]
  }
 ],
 "metadata": {
  "kernelspec": {
   "display_name": "Python 3 (ipykernel)",
   "language": "python",
   "name": "python3"
  },
  "language_info": {
   "codemirror_mode": {
    "name": "ipython",
    "version": 3
   },
   "file_extension": ".py",
   "mimetype": "text/x-python",
   "name": "python",
   "nbconvert_exporter": "python",
   "pygments_lexer": "ipython3",
   "version": "3.11.7"
  }
 },
 "nbformat": 4,
 "nbformat_minor": 5
}
