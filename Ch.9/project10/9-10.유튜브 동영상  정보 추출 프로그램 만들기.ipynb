{
 "cells": [
  {
   "cell_type": "markdown",
   "id": "fd9fc14f-c9a3-4907-8cab-d383fe807f3d",
   "metadata": {},
   "source": [
    "1. google-api-python-client 라이브러리 설치하기"
   ]
  },
  {
   "cell_type": "code",
   "execution_count": null,
   "id": "861607c4-2ff1-45fa-b55e-4a46ac4b2f1b",
   "metadata": {},
   "outputs": [],
   "source": [
    "pip install google-api-python-client"
   ]
  },
  {
   "cell_type": "markdown",
   "id": "644129af-5167-4d5c-8e87-196f40e09cf6",
   "metadata": {},
   "source": [
    "2. 동영상 정보 가져오는 함수 만들기"
   ]
  },
  {
   "cell_type": "code",
   "execution_count": null,
   "id": "39a6a66d-27fe-49e8-ad34-7445330606c4",
   "metadata": {},
   "outputs": [],
   "source": [
    "from googleapiclient.discovery import build\n",
    "\n",
    "# 1 주어진 유튜브 동영상 ID에 대한 정보를 가져와 출력하는 get_video_info( ) 함수 정의\n",
    "def get_video_info(api_key, video_id):\n",
    "    # 2 유튜브 API 클라이언트 빌드 객체 생성\n",
    "    youtube = build('youtube', 'v3', developerKey=api_key)\n",
    "    # 3 지정된 video_id에 대한 동영상 정보 요청\n",
    "    request = youtube.videos().list(\n",
    "        part='snippet,contentDetails,statistics',\n",
    "        id=video_id\n",
    "        )\n",
    "    # 4 API 요청 실행 및 응답 받기\n",
    "    response = request.execute()\n",
    "    # 5 응답에서 동영상 정보 추출 및 출력\n",
    "    if 'items' in response and len(response['items']) > 0:\n",
    "        video = response['items'][0]\n",
    "        title = video['snippet']['title']\n",
    "        description = video['snippet']['description']\n",
    "        published_at = video['snippet']['publishedAt']\n",
    "        view_count = video['statistics']['viewCount']\n",
    "        like_count = video['statistics']['likeCount']\n",
    "        comment_count = video['statistics']['commentCount']\n",
    "        \n",
    "        print(f\"제목: {title}\")\n",
    "        print(f\"설명: {description}\")\n",
    "        print(f\"게시 날짜: {published_at}\")\n",
    "        print(f\"조회 수: {view_count}\")\n",
    "        print(f\"좋아요 수: {like_count}\")\n",
    "        print(f\"댓글 수: {comment_count}\")\n",
    "    else:\n",
    "        print(\"동영상을 찾을 수 없습니다.\")"
   ]
  },
  {
   "cell_type": "code",
   "execution_count": null,
   "id": "f25dd36a-063e-4aa2-89e5-69f9b3a093ab",
   "metadata": {},
   "outputs": [],
   "source": [
    "# 'Forest 4K' 영상의 정보 가져오기\n",
    "api_key = # 자신의 API 키 입력\n",
    "video_id = 'RzVvThhjAKw'\n",
    "get_video_info(api_key, video_id)"
   ]
  }
 ],
 "metadata": {
  "kernelspec": {
   "display_name": "Python 3 (ipykernel)",
   "language": "python",
   "name": "python3"
  },
  "language_info": {
   "codemirror_mode": {
    "name": "ipython",
    "version": 3
   },
   "file_extension": ".py",
   "mimetype": "text/x-python",
   "name": "python",
   "nbconvert_exporter": "python",
   "pygments_lexer": "ipython3",
   "version": "3.11.7"
  }
 },
 "nbformat": 4,
 "nbformat_minor": 5
}
