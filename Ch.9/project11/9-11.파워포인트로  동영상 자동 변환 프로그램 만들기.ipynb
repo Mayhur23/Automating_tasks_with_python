{
 "cells": [
  {
   "cell_type": "markdown",
   "id": "b0dac41a-a0d1-4d71-ab7e-db11e2f17f35",
   "metadata": {},
   "source": [
    "1. pywin32와 moviepy 라이브러리 설치하기"
   ]
  },
  {
   "cell_type": "code",
   "execution_count": null,
   "id": "027e12d4-defd-4b97-b4be-9130c996d6f1",
   "metadata": {},
   "outputs": [],
   "source": [
    "pip install pywin32 moviepy"
   ]
  },
  {
   "cell_type": "markdown",
   "id": "9a069a60-cf3d-4d34-9e75-ba6ab060a509",
   "metadata": {},
   "source": [
    "2. 파워포인트 프레젠테이션을 동영상으로 변환하는 함수 만들기"
   ]
  },
  {
   "cell_type": "code",
   "execution_count": null,
   "id": "ba246bfd-c4e7-40e3-9f82-b939713197b2",
   "metadata": {},
   "outputs": [],
   "source": [
    "import os\n",
    "import win32com.client\n",
    "import time\n",
    "\n",
    "# 1 파워포인트 프레젠테이션을 동영상으로 변환하는 convert_ppt_to_video( ) 함수 정의\n",
    "def convert_ppt_to_video(presentation_path, output_video_path):\n",
    "    # 2 전달받은 경로를 절대 경로로 변환\n",
    "    abs_presentation_path = os.path.abspath(presentation_path)\n",
    "    abs_output_path = os.path.abspath(output_video_path)\n",
    "    \n",
    "    # 3 파워포인트를 열어 프레젠테이션 불러오기\n",
    "    powerpoint = win32com.client.Dispatch(\"PowerPoint.Application\")\n",
    "    powerpoint.Visible = 1\n",
    "    presentation = powerpoint.Presentations.Open(abs_presentation_path)\n",
    "    time.sleep(2)\n",
    "    \n",
    "    # 4 프레젠테이션을 동영상으로 내보내기\n",
    "    presentation.CreateVideo(\n",
    "        FileName=abs_output_path,\n",
    "        UseTimingsAndNarrations=True,\n",
    "        DefaultSlideDuration=2,\n",
    "        Quality=85,\n",
    "        VertResolution=1080,\n",
    "        FramesPerSecond=30,\n",
    "        )\n",
    "    time.sleep(15)\n",
    "    print(f'{output_video_path}로 동영상 변환을 완료했습니다.')\n",
    "    # 5 프레젠테이션을 동영상으로 내보내기\n",
    "    powerpoint.Quit()"
   ]
  },
  {
   "cell_type": "code",
   "execution_count": null,
   "id": "8f74d250-7ece-4ce5-8c46-fc85729f7dfc",
   "metadata": {},
   "outputs": [],
   "source": [
    "# 'makevideo.pptx' 파일을 동영상으로 변환\n",
    "ppt_path = './project11/makevideo.pptx'\n",
    "ppt_video_path = './project11/makevideo.mp4'\n",
    "convert_ppt_to_video(ppt_path, ppt_video_path)"
   ]
  },
  {
   "cell_type": "markdown",
   "id": "afedb823-3994-49f3-857b-222cbb4303c9",
   "metadata": {},
   "source": [
    "3. 여러 개의 동영상 병합하는 함수 만들기"
   ]
  },
  {
   "cell_type": "code",
   "execution_count": null,
   "id": "32577b05-eef0-4b2b-b11b-f6624799b377",
   "metadata": {},
   "outputs": [],
   "source": [
    "from moviepy.editor import VideoFileClip, concatenate_videoclips\n",
    "\n",
    "# 1 여러 동영상을 하나로 합치는 concatenate_videos( ) 함수 정의\n",
    "def concatenate_videos(video_paths, output_path):\n",
    "    # 2 각 동영상 클립의 소리를 제거한 다음, 동영상 클립 리스트를 생성\n",
    "    clips = [VideoFileClip(video).without_audio() for video in video_paths]\n",
    "    # 3 동영상 클립들을 병합하고 비디오 파일로 저장\n",
    "    final_video = concatenate_videoclips(clips, method='compose')\n",
    "    final_video.write_videofile(output_path, codec='libx264')\n",
    "    print(f'동영상을 병합하여 {output_path}로 저장하였습니다.')"
   ]
  },
  {
   "cell_type": "code",
   "execution_count": null,
   "id": "77e330e0-1bf8-4cc4-a85d-a48f59b572d8",
   "metadata": {},
   "outputs": [],
   "source": [
    "# 'makevideo.mp4'와 'concatvideo.mp4' 동영상 합치기\n",
    "video1_path = './project11/concatvideo.mp4'\n",
    "combined_video_path = './project11/combined_video.mp4'\n",
    "concatenate_videos([video1_path, ppt_video_path], combined_video_path)"
   ]
  },
  {
   "cell_type": "markdown",
   "id": "88461632-411c-4bcb-bd4a-911c1747b588",
   "metadata": {},
   "source": [
    "4. 동영상에 배경음악 추가하는 함수 만들기"
   ]
  },
  {
   "cell_type": "code",
   "execution_count": null,
   "id": "7dbed021-c37c-4534-8df0-b8f50ba5c183",
   "metadata": {},
   "outputs": [],
   "source": [
    "from moviepy.editor import AudioFileClip, vfx\n",
    "\n",
    "# 1 동영상에 배경음악을 추가하는 add_background_music( ) 함수 정의\n",
    "def add_background_music(video_path, music_path, output_path):\n",
    "    # 2 동영상 파일과 음원 파일을 각각 클립으로 만들기\n",
    "    video = VideoFileClip(video_path)\n",
    "    background_music = AudioFileClip(music_path)\n",
    "    # 3 동영상의 길이에 맞게 배경음악을 자르거나 반복하도록 설정\n",
    "    if background_music.duration > video.duration:\n",
    "        background_music = background_music.subclip(0, video.duration)\n",
    "    else:\n",
    "        background_music = background_music.fx(vfx.audio_loop, duration=video.duration)\n",
    "        \n",
    "    # 4 동영상에 배경음악 추가\n",
    "    final_video = video.set_audio(background_music)\n",
    "    final_video.write_videofile(output_path, codec='libx264')\n",
    "    print(f'배경음악을 추가한 영상 {output_path}가 생성되었습니다.')"
   ]
  },
  {
   "cell_type": "code",
   "execution_count": null,
   "id": "c3652655-f7bf-421d-9750-933535e8e2ff",
   "metadata": {},
   "outputs": [],
   "source": [
    "# 'combined_video.mp4'에 배경음악을 추가\n",
    "music_path = './project11/Societys Dream - Mini Vandals.mp3'\n",
    "output_video_path = './project11/final_video.mp4'\n",
    "add_background_music(combined_video_path, music_path, output_video_path)"
   ]
  }
 ],
 "metadata": {
  "kernelspec": {
   "display_name": "Python 3 (ipykernel)",
   "language": "python",
   "name": "python3"
  },
  "language_info": {
   "codemirror_mode": {
    "name": "ipython",
    "version": 3
   },
   "file_extension": ".py",
   "mimetype": "text/x-python",
   "name": "python",
   "nbconvert_exporter": "python",
   "pygments_lexer": "ipython3",
   "version": "3.11.7"
  }
 },
 "nbformat": 4,
 "nbformat_minor": 5
}
