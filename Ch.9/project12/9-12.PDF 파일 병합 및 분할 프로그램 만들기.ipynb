{
 "cells": [
  {
   "cell_type": "markdown",
   "id": "ae3bf4a6-1fba-4a46-b338-3e429bde2711",
   "metadata": {},
   "source": [
    "1. PyPDF2 라이브러리 설치하기"
   ]
  },
  {
   "cell_type": "code",
   "execution_count": null,
   "id": "bd910c46-e358-4347-b4e6-62c21d5db149",
   "metadata": {},
   "outputs": [],
   "source": [
    "pip install PyPDF2"
   ]
  },
  {
   "cell_type": "markdown",
   "id": "fa083085-4464-4478-8746-1b472361ccc1",
   "metadata": {},
   "source": [
    "2. PDF 파일 분할하는 함수 만들기"
   ]
  },
  {
   "cell_type": "code",
   "execution_count": null,
   "id": "aea71125-e3f2-4478-88fa-5c51f96516da",
   "metadata": {},
   "outputs": [],
   "source": [
    "import os\n",
    "import PyPDF2\n",
    "\n",
    "# 1 PDF 파일을 지정된 페이지 범위로 분할하는 split_pdf( ) 함수 정의\n",
    "def split_pdf(input_path, output_dir, page_ranges):\n",
    "    # 2 PDF 파일을 읽기 위해 PdfReader 객체 생성\n",
    "    pdf_reader = PyPDF2.PdfReader(input_path)\n",
    "    # 3 각 페이지 범위를 순회하여 분할 작업 수행\n",
    "    for start_page, end_page in page_ranges:\n",
    "        # 4 새로운 PDF 파일을 작성할 PdfWriter 객체 생성\n",
    "        pdf_writer = PyPDF2.PdfWriter()\n",
    "    # 5 주어진 페이지 범위 내의 각 페이지를 pdf_writer에 추가\n",
    "    for page_num in range(start_page, end_page + 1):\n",
    "        pdf_writer.add_page(pdf_reader.pages[page_num])\n",
    "    # 6 저장할 파일 경로 생성\n",
    "    output_path = f'{output_dir}/split_{start_page+1}_to_{end_page+1}.pdf'\n",
    "    # 7 분할된 새로운 PDF 파일을 지정된 경로에 저장\n",
    "    with open(output_path, 'wb') as out:\n",
    "        pdf_writer.write(out)\n",
    "    print(f'분할된 PDF 파일이 {output_path}에 저장되었습니다.')"
   ]
  },
  {
   "cell_type": "code",
   "execution_count": null,
   "id": "bc7d598e-07ee-474b-a84b-c873d82101d8",
   "metadata": {},
   "outputs": [],
   "source": [
    "# 'Quarterly_Report_Full_Year.pdf' 파일 분할하기\n",
    "input_path = './project12/Quarterly_Report_Full_Year.pdf'\n",
    "output_dir = './project12'\n",
    "page_ranges = [(0, 2), (6, 8)] # 1~3페이지, 7~9페이지 분할하기\n",
    "split_pdf(input_path, output_dir, page_ranges)"
   ]
  },
  {
   "cell_type": "markdown",
   "id": "0b8703c0-56f9-4456-8548-c90e38f85e94",
   "metadata": {},
   "source": [
    "3. PDF 파일 병합하는 함수 만들기"
   ]
  },
  {
   "cell_type": "code",
   "execution_count": null,
   "id": "74908666-1f4a-4f60-8310-23819bb5a9b0",
   "metadata": {},
   "outputs": [],
   "source": [
    "# 1 여러 PDF 파일을 하나의 PDF 파일로 병합하는 merge_pdfs( ) 함수 정의\n",
    "def merge_pdfs(input_paths, output_path):\n",
    "    # 2 PDF 파일을 작성할 PdfWriter 객체 생성\n",
    "    pdf_writer = PyPDF2.PdfWriter()\n",
    "    \n",
    "    # 3 PDF 파일들을 순차적으로 읽어와서 병합하기\n",
    "    for path in input_paths:\n",
    "        # 4 각 PDF 파일을 읽기 위해 PdfReader 객체 생성\n",
    "        pdf_reader = PyPDF2.PdfReader(path)\n",
    "        # 5 각 PDF 파일의 페이지를 하나씩 PdfWriter 객체에 추가\n",
    "        for page in pdf_reader.pages:\n",
    "            pdf_writer.add_page(page)\n",
    "            \n",
    "    # 6 병합된 PDF를 지정된 경로에 저장\n",
    "    with open(output_path, 'wb') as out:\n",
    "        pdf_writer.write(out)\n",
    "        \n",
    "    print(f'병합된 PDF 파일이 {output_path}에 저장되었습니다.')"
   ]
  },
  {
   "cell_type": "code",
   "execution_count": null,
   "id": "a07a1646-6566-4f63-a383-539cb1499840",
   "metadata": {},
   "outputs": [],
   "source": [
    "# 'split_1_to_3.pdf'와 'split_7_to_9.pdf' 파일 병합하기\n",
    "input_paths = [\n",
    "'./project12/split_1_to_3.pdf',\n",
    "'./project12/split_7_to_9.pdf'\n",
    "]\n",
    "output_dir = './project12/Quarterly_Report_Q1Q3.pdf'\n",
    "merge_pdfs(input_paths, output_dir)"
   ]
  }
 ],
 "metadata": {
  "kernelspec": {
   "display_name": "Python 3 (ipykernel)",
   "language": "python",
   "name": "python3"
  },
  "language_info": {
   "codemirror_mode": {
    "name": "ipython",
    "version": 3
   },
   "file_extension": ".py",
   "mimetype": "text/x-python",
   "name": "python",
   "nbconvert_exporter": "python",
   "pygments_lexer": "ipython3",
   "version": "3.11.7"
  }
 },
 "nbformat": 4,
 "nbformat_minor": 5
}
