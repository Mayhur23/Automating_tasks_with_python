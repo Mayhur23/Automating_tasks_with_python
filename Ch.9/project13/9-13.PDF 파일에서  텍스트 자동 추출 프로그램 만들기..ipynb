{
 "cells": [
  {
   "cell_type": "markdown",
   "id": "e151d361-b05f-49c9-933f-41f81915e1a1",
   "metadata": {},
   "source": [
    "1. pdfminer.six 라이브러리 설치하기"
   ]
  },
  {
   "cell_type": "code",
   "execution_count": null,
   "id": "c70c2b41-8273-4bb5-9427-6b6a65cb1bce",
   "metadata": {},
   "outputs": [],
   "source": [
    "pip install pdfminer.six"
   ]
  },
  {
   "cell_type": "markdown",
   "id": "9737cb33-a8ed-4312-87df-b3c3547b9569",
   "metadata": {},
   "source": [
    "2. PDF 파일에서 텍스트 자동 추출하는 함수 만들기"
   ]
  },
  {
   "cell_type": "code",
   "execution_count": null,
   "id": "a2059bd7-f449-40a6-99ed-a343f96dc531",
   "metadata": {},
   "outputs": [],
   "source": [
    "from pdfminer.high_level import extract_text\n",
    "\n",
    "# 1 PDF 파일의 텍스트를 추출하는 extract_text_from_pdf( ) 함수 정의\n",
    "def extract_text_from_pdf(pdf_path, page_numbers=None):\n",
    "    text = extract_text(pdf_path, page_numbers=page_numbers)\n",
    "    return text"
   ]
  },
  {
   "cell_type": "code",
   "execution_count": null,
   "id": "f533822c-ea6b-409c-b828-543f9c99adee",
   "metadata": {},
   "outputs": [],
   "source": [
    "# 1 'Quarterly_Report_Full_Year.pdf' 파일의 1, 4 페이지 텍스트 추출하기\n",
    "pdf_path = './project13/Quarterly_Report_Full_Year.pdf'\n",
    "page_numbers = [0,3]\n",
    "text = extract_text_from_pdf(pdf_path, page_numbers)\n",
    "print(text)"
   ]
  }
 ],
 "metadata": {
  "kernelspec": {
   "display_name": "Python 3 (ipykernel)",
   "language": "python",
   "name": "python3"
  },
  "language_info": {
   "codemirror_mode": {
    "name": "ipython",
    "version": 3
   },
   "file_extension": ".py",
   "mimetype": "text/x-python",
   "name": "python",
   "nbconvert_exporter": "python",
   "pygments_lexer": "ipython3",
   "version": "3.11.7"
  }
 },
 "nbformat": 4,
 "nbformat_minor": 5
}
