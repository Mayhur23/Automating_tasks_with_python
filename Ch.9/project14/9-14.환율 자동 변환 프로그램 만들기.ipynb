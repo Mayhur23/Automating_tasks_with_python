{
 "cells": [
  {
   "cell_type": "markdown",
   "id": "91dc94fd-ba5d-4d32-b43d-9a86fe0427c5",
   "metadata": {},
   "source": [
    "1. currencyconverter 라이브러리 설치하기"
   ]
  },
  {
   "cell_type": "code",
   "execution_count": null,
   "id": "b3832a3c-899e-4ad6-bfbc-a2bb4277f6da",
   "metadata": {},
   "outputs": [],
   "source": [
    "pip install currencyconverter"
   ]
  },
  {
   "cell_type": "markdown",
   "id": "d2c3c779-a904-4615-ba63-72572a9b3993",
   "metadata": {},
   "source": [
    "2. 환율 자동으로 변환하는 함수 만들기"
   ]
  },
  {
   "cell_type": "code",
   "execution_count": null,
   "id": "9778225b-3e17-4cdc-98d2-521d66b38595",
   "metadata": {},
   "outputs": [],
   "source": [
    "import pandas as pd\n",
    "from currency_converter import CurrencyConverter\n",
    "\n",
    "# 1 엑셀 파일 읽기\n",
    "file_path = './project14/financial_data.xlsx'\n",
    "df = pd.read_excel(file_path)\n",
    "\n",
    "# 2 CurrencyConverter를 사용하여 환율 변환\n",
    "c = CurrencyConverter()\n",
    "from_currency = 'USD'\n",
    "to_currency = 'KRW'\n",
    "rate = c.convert(1, from_currency, to_currency)\n",
    "print(f\"{from_currency} {to_currency}환율은 {rate}입니다.\")\n",
    "\n",
    "# 3 엑셀 파일에 환율 추가\n",
    "df['환율'] = rate\n",
    "\n",
    "# 4 금액 변환 후 10000의 자리로 반올림\n",
    "df['금액(KRW)'] = df['금액'] * rate\n",
    "df['금액(KRW)'] = df['금액(KRW)'].round(-4)\n",
    "\n",
    "# 5 변환된 엑셀 파일 저장\n",
    "output_file_path = './project14/converted_financial_data.xlsx'\n",
    "df.to_excel(output_file_path, index=False)\n",
    "print(f\"환율 정보를 추가하여 {output_file_path}로 저장을 완료했습니다.\")"
   ]
  },
  {
   "cell_type": "code",
   "execution_count": null,
   "id": "ffc106ac-7e1c-419c-8ba3-d33b5b469a07",
   "metadata": {},
   "outputs": [],
   "source": [
    "# 지원되는 통화목록 확인\n",
    "c = CurrencyConverter()\n",
    "print(c.currencies)"
   ]
  }
 ],
 "metadata": {
  "kernelspec": {
   "display_name": "Python 3 (ipykernel)",
   "language": "python",
   "name": "python3"
  },
  "language_info": {
   "codemirror_mode": {
    "name": "ipython",
    "version": 3
   },
   "file_extension": ".py",
   "mimetype": "text/x-python",
   "name": "python",
   "nbconvert_exporter": "python",
   "pygments_lexer": "ipython3",
   "version": "3.11.7"
  }
 },
 "nbformat": 4,
 "nbformat_minor": 5
}
