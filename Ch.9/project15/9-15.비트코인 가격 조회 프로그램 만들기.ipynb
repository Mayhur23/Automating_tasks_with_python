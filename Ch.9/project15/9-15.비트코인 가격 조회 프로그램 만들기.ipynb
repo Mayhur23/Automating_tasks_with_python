{
 "cells": [
  {
   "cell_type": "markdown",
   "id": "b1b21fba-7420-4baf-9dcd-2b33bad9e11b",
   "metadata": {},
   "source": [
    "2. 가상 화폐 가격 조회 함수 만들기"
   ]
  },
  {
   "cell_type": "code",
   "execution_count": null,
   "id": "70a6ecff-6b23-4ddb-8391-8d41d938b613",
   "metadata": {},
   "outputs": [],
   "source": [
    "import requests\n",
    "\n",
    "# 1 가상 화폐의 실시간 가격을 조회하는 get_crypto_price( ) 함수 정의\n",
    "def get_crypto_price(crypto_id, currency='krw'):\n",
    "    # 2 코인게코 API에 요청할 URL을 구성\n",
    "    url = f'https://api.coingecko.com/api/v3/simple/price?ids={crypto_id}&vs_currencies={currency}'\n",
    "    # 3 requests 모듈을 사용하여 API 요청을 보내고 응답을 받음\n",
    "    response = requests.get(url)\n",
    "    \n",
    "    # 4 응답 상태 코드가 200(성공)인 경우 가격 정보를 반환\n",
    "    if response.status_code == 200:\n",
    "        # 5 응답 데이터를 JSON 형식으로 변환\n",
    "        data = response.json()\n",
    "        # 6 가상 화폐 ID와 통화에 해당하는 가격 정보를 가져옴\n",
    "        price = data.get(crypto_id, {}).get(currency)\n",
    "        return price\n",
    "    else:\n",
    "        # 7 에러 발생 시 상태 코드와 오류 메시지를 출력\n",
    "        print(\"Error:\", response.status_code, response.text)\n",
    "        return None"
   ]
  },
  {
   "cell_type": "code",
   "execution_count": null,
   "id": "663abf92-642c-4738-879a-594f0278afeb",
   "metadata": {},
   "outputs": [],
   "source": [
    "# '비트코인'의 가격을 원화로 조회하기\n",
    "crypto_id = 'bitcoin'\n",
    "currency = 'krw'\n",
    "price = get_crypto_price(crypto_id, currency)\n",
    "\n",
    "if price:\n",
    "    print(f\"{crypto_id}의 현재 가격은 {price} {currency.upper()}입니다.\")\n",
    "else:\n",
    "    print(f\"{crypto_id}의 가격을 가져오는 것을 실패했습니다.\")"
   ]
  }
 ],
 "metadata": {
  "kernelspec": {
   "display_name": "Python 3 (ipykernel)",
   "language": "python",
   "name": "python3"
  },
  "language_info": {
   "codemirror_mode": {
    "name": "ipython",
    "version": 3
   },
   "file_extension": ".py",
   "mimetype": "text/x-python",
   "name": "python",
   "nbconvert_exporter": "python",
   "pygments_lexer": "ipython3",
   "version": "3.11.7"
  }
 },
 "nbformat": 4,
 "nbformat_minor": 5
}
