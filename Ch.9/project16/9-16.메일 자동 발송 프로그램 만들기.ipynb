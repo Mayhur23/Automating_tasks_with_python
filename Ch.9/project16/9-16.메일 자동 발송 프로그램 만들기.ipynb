{
 "cells": [
  {
   "cell_type": "markdown",
   "id": "706579aa-6210-420a-a220-f6c72e64e434",
   "metadata": {},
   "source": [
    "3. 메일 자동 발송하는 함수 만들기"
   ]
  },
  {
   "cell_type": "code",
   "execution_count": null,
   "id": "d15ceb94-97fc-4a9a-8643-37d095ab85c0",
   "metadata": {},
   "outputs": [],
   "source": [
    "import smtplib\n",
    "from email.mime.text import MIMEText\n",
    "from email.mime.multipart import MIMEMultipart\n",
    "from email.mime.base import MIMEBase\n",
    "from email import encoders\n",
    "\n",
    "# 1 메일을 자동으로 발송하는 send_email( ) 함수 정의\n",
    "def send_email(sender_email, receiver_email, app_password, subject, body, attachment_path=None):\n",
    "    # 2 MIME 객체 생성\n",
    "    msg = MIMEMultipart()\n",
    "    msg['From'] = sender_email\n",
    "    msg['To'] = receiver_email\n",
    "    msg['Subject'] = subject\n",
    "    \n",
    "    # 3 이메일 본문 추가\n",
    "    msg.attach(MIMEText(body, 'plain'))\n",
    "    \n",
    "    # 4 첨부 파일 추가\n",
    "    if attachment_path:\n",
    "        # 5 MIMEBase 객체를 생성하여 첨부 파일을 위한 컨테이너 준비\n",
    "        part = MIMEBase('application', 'octet-stream')\n",
    "        # 6 첨부 파일을 바이너리 읽기 모드로 열고 내용을 MIMEBase 객체에 설정\n",
    "        with open(attachment_path, 'rb') as attachment:\n",
    "            part.set_payload(attachment.read())\n",
    "        # 7 파일을 Base64로 인코딩하여 전송 시 데이터 손상이 없도록 처리\n",
    "        encoders.encode_base64(part)\n",
    "        # 8 Content-Disposition 헤더 추가, 첨부 파일로 설정하고 파일 이름을 지정\n",
    "        part.add_header(\n",
    "            'Content-Disposition',\n",
    "            f'attachment; filename= {attachment_path}',\n",
    "            )\n",
    "        # 9 완성된 첨부 파일 part를 이메일 메시지 객체에 추가\n",
    "        msg.attach(part)\n",
    "\n",
    "    try:\n",
    "        # 10 Gmail SMTP 서버에 연결 및 로그인\n",
    "        server = smtplib.SMTP('smtp.gmail.com', 587)\n",
    "        # 11 TLS 보안 시작\n",
    "        server.starttls()\n",
    "        # 12 로그인\n",
    "        server.login(sender_email, app_password)\n",
    "        # 13 이메일 내용을 문자열 형식으로 변환\n",
    "        text = msg.as_string()\n",
    "        # 14 이메일 전송\n",
    "        server.sendmail(sender_email, receiver_email, text)\n",
    "        print(\"Email has been sent successfully!\")\n",
    "    except Exception as e:\n",
    "        # 15 전송 실패 시 에러 메시지 출력\n",
    "        print(f\"Error: {e}\")\n",
    "    finally:\n",
    "        # 16 서버 연결 종료\n",
    "        server.quit()"
   ]
  },
  {
   "cell_type": "code",
   "execution_count": null,
   "id": "f46ecbc3-516d-4071-b77c-a990542792b3",
   "metadata": {},
   "outputs": [],
   "source": [
    "# send_email( ) 함수로 첨부 파일이 추가된 메일 보내기\n",
    "sender = '구글 아이디@gmail.com' # 보내는 사람의 메일 주소\n",
    "receiver = '받는 이메일 주소@example.com' # 받는 사람의 메일 주소\n",
    "app_password = '앱 비밀번호' # 구글 앱 비밀번호\n",
    "subject = '테스트 메일의 제목'\n",
    "body = '테스트 메일의 본문 내용입니다.'\n",
    "attachment_path = './project16/boy-8233868_640.png' # 첨부 파일 경로\n",
    "\n",
    "send_email(sender, receiver, app_password, subject, body, attachment_path)"
   ]
  }
 ],
 "metadata": {
  "kernelspec": {
   "display_name": "Python 3 (ipykernel)",
   "language": "python",
   "name": "python3"
  },
  "language_info": {
   "codemirror_mode": {
    "name": "ipython",
    "version": 3
   },
   "file_extension": ".py",
   "mimetype": "text/x-python",
   "name": "python",
   "nbconvert_exporter": "python",
   "pygments_lexer": "ipython3",
   "version": "3.11.7"
  }
 },
 "nbformat": 4,
 "nbformat_minor": 5
}
