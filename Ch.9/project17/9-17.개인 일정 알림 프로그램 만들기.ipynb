{
 "cells": [
  {
   "cell_type": "markdown",
   "id": "91384b2f-7247-4a44-aeff-583abd34e070",
   "metadata": {},
   "source": [
    "1. ics 라이브러리 설치하기"
   ]
  },
  {
   "cell_type": "code",
   "execution_count": null,
   "id": "e1fd9c7c-ec45-4eba-8284-f2b7d34f66b4",
   "metadata": {},
   "outputs": [],
   "source": [
    "pip install ics"
   ]
  },
  {
   "cell_type": "markdown",
   "id": "6bde2827-4fd1-45dd-86e9-d1013537ac18",
   "metadata": {},
   "source": [
    "2. 일정 확인 및 알림 보내는 함수 만들기"
   ]
  },
  {
   "cell_type": "code",
   "execution_count": null,
   "id": "c2c71220-a562-4fed-aa82-1b75ff6e6243",
   "metadata": {},
   "outputs": [],
   "source": [
    "import time\n",
    "from datetime import datetime, timedelta, timezone\n",
    "from ics import Calendar\n",
    "import os\n",
    "\n",
    "# 1 일정을 확인하고 이벤트에 대해 알림을 보내는 check_alerts() 함수 정의\n",
    "def check_alerts(schedule_file, tz):\n",
    "    # 2 현재 시간을 지정된 시간대로 가져오기\n",
    "    now = datetime.now(tz)\n",
    "    \n",
    "    # 3 일정 파일을 열어 캘린더 객체 생성\n",
    "    with open(schedule_file, 'r', encoding='utf-8') as f:\n",
    "        c = Calendar(f.read())\n",
    "        \n",
    "    # 4 일정 파일의 이벤트에 대해 반복문 실행\n",
    "    for event in c.events:\n",
    "        # 5 이벤트의 시작 시간을 가져옴\n",
    "        event_time = event.begin.datetime\n",
    "        # 6 이벤트 시간에 시간대 정보가 없으면 지정된 시간대(tz)로 설정\n",
    "        if event_time.tzinfo is None:\n",
    "            event_time = event_time.replace(tzinfo=tz)\n",
    "            \n",
    "        # 7 현재 시간과 이벤트 시간을 비교하여 1분 이내의 이벤트만 알림으로 출력\n",
    "        if now <= event_time <= (now + timedelta(minutes=1)):\n",
    "            print(f\"현재 시간: {now}\")\n",
    "            print(f\"중요! 일정 알림: {event.name}\")\n",
    "            print(f\"내용: {event.description}\")\n",
    "            print(f\"시간: {event_time}\")"
   ]
  },
  {
   "cell_type": "code",
   "execution_count": null,
   "id": "60141e4f-2571-4476-823a-eaf558786eff",
   "metadata": {},
   "outputs": [],
   "source": [
    "# 1 일정 파일 경로 지정 및 한국 시간대 설정\n",
    "schedule_file = './project17/schedules.ics'\n",
    "KST = timezone(timedelta(hours=9))\n",
    "\n",
    "# 2 무한 루프에서 계속 실행되는 알림 기능\n",
    "while True:\n",
    "    check_alerts(schedule_file, KST)\n",
    "    time.sleep(60) # 3 1분마다 확인"
   ]
  }
 ],
 "metadata": {
  "kernelspec": {
   "display_name": "Python 3 (ipykernel)",
   "language": "python",
   "name": "python3"
  },
  "language_info": {
   "codemirror_mode": {
    "name": "ipython",
    "version": 3
   },
   "file_extension": ".py",
   "mimetype": "text/x-python",
   "name": "python",
   "nbconvert_exporter": "python",
   "pygments_lexer": "ipython3",
   "version": "3.11.7"
  }
 },
 "nbformat": 4,
 "nbformat_minor": 5
}
