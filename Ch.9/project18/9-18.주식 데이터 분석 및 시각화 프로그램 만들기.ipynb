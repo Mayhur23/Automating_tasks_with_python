{
 "cells": [
  {
   "cell_type": "markdown",
   "id": "5a99844f-3c64-4f68-a53c-df6710822975",
   "metadata": {},
   "source": [
    "1. yfinance, matplotlib, pandas, seaborn 라이브러리 설치하기"
   ]
  },
  {
   "cell_type": "code",
   "execution_count": null,
   "id": "e2351d43-7194-43b1-b0d4-3dbea879d0e6",
   "metadata": {},
   "outputs": [],
   "source": [
    "pip install yfinance matplotlib seaborn"
   ]
  },
  {
   "cell_type": "markdown",
   "id": "ecb7e599-0028-4711-bd7f-b7108bcea3c6",
   "metadata": {},
   "source": [
    "2. 주식 데이터 분석에 따른 다양한 시각화하기"
   ]
  },
  {
   "cell_type": "markdown",
   "id": "a3956a48-58ac-4ac8-97fc-2f9c30a58b14",
   "metadata": {},
   "source": [
    "<u>**주식 데이터 가져오기**</u>"
   ]
  },
  {
   "cell_type": "code",
   "execution_count": null,
   "id": "105eca97-976b-4bfc-b745-0b8926ae95a0",
   "metadata": {},
   "outputs": [],
   "source": [
    "import yfinance as yf\n",
    "import matplotlib.font_manager as fm\n",
    "import matplotlib.pyplot as plt\n",
    "import pandas as pd\n",
    "import seaborn as sns\n",
    "\n",
    "# 1 주식 데이터 가져오기\n",
    "ticker = \"AAPL\" # 애플 티커\n",
    "data = yf.download(ticker, period=\"5y\")\n",
    "data.columns = ['고가', '저가', '종가', '조정 종가', '거래량', '시가']\n",
    "\n",
    "# 2 한글 폰트 설정\n",
    "plt.rc('font', family='Gulim') # 'AppleGothic' (맥 사용 시)"
   ]
  },
  {
   "cell_type": "code",
   "execution_count": null,
   "id": "36d25a5a-9fcf-46f5-93c9-835740b62bc4",
   "metadata": {},
   "outputs": [],
   "source": [
    "data"
   ]
  },
  {
   "cell_type": "markdown",
   "id": "1b3a6e22-7c49-4e3b-abd5-02aba50aa354",
   "metadata": {},
   "source": [
    "<u>**주가 시계열 그래프 그리기**</u>"
   ]
  },
  {
   "cell_type": "code",
   "execution_count": null,
   "id": "2d4444fd-32b2-4813-a365-c90dfd3a819a",
   "metadata": {},
   "outputs": [],
   "source": [
    "# 주가 시계열 그래프\n",
    "plt.figure(figsize=(12, 6)) # 1 그래프 크기를 설정\n",
    "plt.plot(data.index, data['조정 종가'], label='조정 종가') # 2 선 그래프 그리기\n",
    "plt.title(f'{ticker} 주가 시계열 그래프') # 3 그래프 제목 설정\n",
    "plt.xlabel('날짜') # 4 x축 라벨 설정\n",
    "plt.ylabel('조정 종가') # 5 y축 라벨 설정\n",
    "plt.legend() # 6 범례 추가\n",
    "plt.show() # 7 그래프 표시"
   ]
  },
  {
   "cell_type": "markdown",
   "id": "a97b34c3-767c-4650-9660-5f1d88e6a96d",
   "metadata": {},
   "source": [
    "<u>**이동 평균선을 추가한 시계열 그래프 그리기**</u>"
   ]
  },
  {
   "cell_type": "code",
   "execution_count": null,
   "id": "41ce99cc-8c19-47d3-90d0-9b27ab23196a",
   "metadata": {},
   "outputs": [],
   "source": [
    "# 이동 평균선을 추가한 시계열 그래프\n",
    "# 1 이동 평균을 계산하여 새로운 열로 추가\n",
    "data['50일 이동 평균'] = data['조정 종가'].rolling(window=50).mean()\n",
    "data['200일 이동 평균'] = data['조정 종가'].rolling(window=200).mean()\n",
    "\n",
    "# 2 그래프 그리기\n",
    "plt.figure(figsize=(12, 6)) # 그래프 크기를 설정\n",
    "plt.plot(data.index, data['조정 종가'], label='조정 종가') # 종가 선 그래프 그리기\n",
    "plt.plot(data.index, data['50일 이동 평균'], label='50일 이동 평균') # 50일 이동 평균선 그래프 그리기\n",
    "plt.plot(data.index, data['200일 이동 평균'], label='200일 이동 평균') # 200일 이동 평균선 그래프 그리기\n",
    "plt.title(f'{ticker} 주가 및 이동 평균선') # 그래프 제목 설정\n",
    "plt.xlabel('날짜') # x축 라벨 설정\n",
    "plt.ylabel('가격') # y축 라벨 설정\n",
    "plt.legend() # 범례 추가\n",
    "plt.show() # 그래프 표시"
   ]
  },
  {
   "cell_type": "markdown",
   "id": "871ad3ff-bfe1-47e3-a6f6-52740c00647f",
   "metadata": {},
   "source": [
    "<u>**볼린저 밴드를 추가한 시계열 그래프 그리기**</u>"
   ]
  },
  {
   "cell_type": "code",
   "execution_count": null,
   "id": "67b91fc7-e34d-4be5-b9f9-1703893264b2",
   "metadata": {},
   "outputs": [],
   "source": [
    "# 볼린저 밴드를 추가한 시계열 그래프\n",
    "# 1 필요한 데이터 계산하기\n",
    "data['20일 이동 평균'] = data['조정 종가'].rolling(window=20).mean() # 20일 이동 평균\n",
    "data['20일 표준편차'] = data['조정 종가'].rolling(window=20).std() # 20일 표준편차\n",
    "data['상단 밴드'] = data['20일 이동 평균'] + (data['20일 표준편차'] * 2) # 상단 밴드\n",
    "data['하단 밴드'] = data['20일 이동 평균'] - (data['20일 표준편차'] * 2) # 하단 밴드\n",
    "\n",
    "# 2 그래프 그리기\n",
    "plt.figure(figsize=(12, 6)) # 그래프 크기를 설정\n",
    "plt.plot(data.index, data['조정 종가'], label='조정 종가') # 종가 선 그래프 그리기\n",
    "# 이동 평균 선 그래프 그리기\n",
    "plt.plot(data.index, data['20일 이동 평균'], label='20일 이동 평균')\n",
    "# 상단 밴드 선 그래프 그리기\n",
    "plt.plot(data.index, data['상단 밴드'], label='상단 밴드')\n",
    "# 하단 밴드 선 그래프 그리기\n",
    "plt.plot(data.index, data['하단 밴드'], label='하단 밴드')\n",
    "plt.fill_between(data.index, data['하단 밴드'], data['상단 밴드'], color='gray',\n",
    "alpha=0.3) # 상단 밴드와 하단 밴드 사이 영역을 회색으로 채우기\n",
    "plt.title(f'{ticker} 주가 및 볼린저 밴드') # 그래프 제목 설정\n",
    "plt.xlabel('날짜') # x축 라벨 설정\n",
    "plt.ylabel('가격') # y축 라벨 설정\n",
    "plt.legend() # 범례 추가\n",
    "plt.show() # 그래프 표시"
   ]
  },
  {
   "cell_type": "markdown",
   "id": "d559a46f-6725-4dc5-b888-1316de37a17e",
   "metadata": {},
   "source": [
    "<u>**일별 수익률 시계열 그래프 그리기**</u>"
   ]
  },
  {
   "cell_type": "code",
   "execution_count": null,
   "id": "c35840e5-93a7-4a03-94f6-773084607bbd",
   "metadata": {},
   "outputs": [],
   "source": [
    "# 일별 수익률 시계열 그래프\n",
    "# 1 일별 수익률 계산하기\n",
    "data['일별 수익률'] = data['조정 종가'].pct_change()\n",
    "\n",
    "# 2 그래프 그리기\n",
    "plt.figure(figsize=(12, 6)) # 그래프 크기를 설정\n",
    "plt.plot(data.index, data['일별 수익률'], label='일별 수익률') # 일별 수익률 선 그래프 그리기\n",
    "plt.title(f'{ticker} 일별 수익률 시계열 그래프') # 그래프 제목 설정\n",
    "plt.xlabel('날짜') # x축 라벨 설정\n",
    "plt.ylabel('일별 수익률') # y축 라벨 설정\n",
    "plt.legend() # 범례 추가\n",
    "plt.show() # 그래프 표시"
   ]
  },
  {
   "cell_type": "markdown",
   "id": "2c862ecf-4e74-4db1-a99a-ef992fd80eba",
   "metadata": {},
   "source": [
    "<u>**여러 주식의 상관관계 행렬 그래프 그리기**</u>"
   ]
  },
  {
   "cell_type": "code",
   "execution_count": null,
   "id": "32ad7071-9a85-42f9-bc9c-523927c91823",
   "metadata": {},
   "outputs": [],
   "source": [
    "# 여러 주식의 상관관계 행렬 그래프\n",
    "# 1 분석할 주식의 티커 목록 설정\n",
    "tickers = ['AAPL', 'MSFT', 'GOOGL', 'AMZN']\n",
    "# 2 각 주식의 5년간 조정 종가 데이터 다운로드\n",
    "data_multi = yf.download(tickers, period=\"5y\")['Adj Close']\n",
    "\n",
    "# 3 주식들의 일간 수익률을 계산하고, 결측치(NaN) 제거\n",
    "returns = data_multi.pct_change().dropna()\n",
    "# 4 일간 수익률 간의 상관관계 행렬 계산\n",
    "correlation_matrix = returns.corr()\n",
    "\n",
    "# 5 그래프 그리기\n",
    "plt.figure(figsize=(10, 8)) # 그래프 크기 설정\n",
    "# 6 상관관계 행렬을 히트맵으로 표시하고, 각 셀에 상관계수 표시\n",
    "sns.heatmap(correlation_matrix, annot=True, cmap='coolwarm', linewidths=0.5)\n",
    "plt.title('주식 가격 상관관계 행렬') # 그래프 제목 설정\n",
    "plt.show() # 그래프 표시"
   ]
  }
 ],
 "metadata": {
  "kernelspec": {
   "display_name": "Python 3 (ipykernel)",
   "language": "python",
   "name": "python3"
  },
  "language_info": {
   "codemirror_mode": {
    "name": "ipython",
    "version": 3
   },
   "file_extension": ".py",
   "mimetype": "text/x-python",
   "name": "python",
   "nbconvert_exporter": "python",
   "pygments_lexer": "ipython3",
   "version": "3.11.7"
  }
 },
 "nbformat": 4,
 "nbformat_minor": 5
}
