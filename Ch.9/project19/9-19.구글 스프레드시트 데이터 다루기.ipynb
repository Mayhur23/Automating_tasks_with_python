{
 "cells": [
  {
   "cell_type": "markdown",
   "id": "7ac593c3-a588-4b3b-b9e7-29b1dcf31175",
   "metadata": {},
   "source": [
    "1. gspread google-auth 라이브러리 설치하기"
   ]
  },
  {
   "cell_type": "code",
   "execution_count": null,
   "id": "e924f197-9a00-4200-a846-486394ca9633",
   "metadata": {},
   "outputs": [],
   "source": [
    "pip install gspread google-auth"
   ]
  },
  {
   "cell_type": "markdown",
   "id": "711487a2-a38c-449f-9b1c-3baca3e76f0c",
   "metadata": {},
   "source": [
    "2. 파이썬으로 구글 스프레드시트 데이터 다루기"
   ]
  },
  {
   "cell_type": "markdown",
   "id": "5aadde53-1af6-4bc9-a413-58f5594d7dec",
   "metadata": {},
   "source": [
    "<u>**구글 스프레드시트 API 인증 및 클라이언트 설정하기**</u>"
   ]
  },
  {
   "cell_type": "code",
   "execution_count": null,
   "id": "4aca3d95-c56d-4873-9413-b14d0c28c3cb",
   "metadata": {},
   "outputs": [],
   "source": [
    "import gspread\n",
    "from google.oauth2.service_account import Credentials\n",
    "         \n",
    "# 1 서비스 계정 JSON 파일 경로\n",
    "SERVICE_ACCOUNT_FILE = './project19/JSON 파일명.json'\n",
    "\n",
    "# 2 구글 스프레드 시트 API 범위 설정\n",
    "SCOPES = ['https://www.googleapis.com/auth/spreadsheets',\n",
    "          'https://www.googleapis.com/auth/drive']\n",
    "\n",
    "# 3 자격 증명 생성\n",
    "creds = Credentials.from_service_account_file(\n",
    "SERVICE_ACCOUNT_FILE, scopes=SCOPES)\n",
    "\n",
    "# 4 gspread 클라이언트 생성\n",
    "client = gspread.authorize(creds)"
   ]
  },
  {
   "cell_type": "markdown",
   "id": "82e96acd-419a-429d-bf1c-9b7ad1e47a47",
   "metadata": {},
   "source": [
    "<u>**스프레드 시트에 데이터 입력하기**</u>"
   ]
  },
  {
   "cell_type": "code",
   "execution_count": null,
   "id": "a68fc9bb-633b-4d48-bf5f-5a6ae3a830af",
   "metadata": {},
   "outputs": [],
   "source": [
    "# 1 스프레드시트('Python_sheets') 열기\n",
    "spreadsheet = client.open('Python_sheets')\n",
    "worksheet = spreadsheet.sheet1\n",
    "\n",
    "# 2 첫 번째 셀에 'Hello, World!' 쓰기\n",
    "worksheet.update_acell('A1', 'Hello, World!')\n",
    "\n",
    "# 3 행 데이터 추가\n",
    "worksheet.append_row(['Name', 'Age', 'City'])\n",
    "worksheet.append_row(['Alice', 30, 'New York'])\n",
    "worksheet.append_row(['Bob', 25, 'San Francisco'])"
   ]
  },
  {
   "cell_type": "markdown",
   "id": "ce16363a-07e3-44fc-85c7-48c55c273b1f",
   "metadata": {},
   "source": [
    "<u>**스프레드 시트의 데이터 읽기**</u>"
   ]
  },
  {
   "cell_type": "code",
   "execution_count": null,
   "id": "e8ebeb99-5ffd-4065-9c3f-ab445bcc49d9",
   "metadata": {},
   "outputs": [],
   "source": [
    "# 1 첫 번째 셀의 데이터 읽기\n",
    "cell_value = worksheet.acell('A1').value\n",
    "print(f'첫 번째 셀의 값: {cell_value}')\n",
    "\n",
    "# 2 'New York' 찾기\n",
    "cell = worksheet.find('New York')\n",
    "print(f'\"{cell.value}\"의 위치는 {cell.row}행, {cell.col}열입니다.')\n",
    "\n",
    "# 3 전체 데이터 읽기\n",
    "all_values = worksheet.get_all_values()\n",
    "print(all_values)"
   ]
  },
  {
   "cell_type": "markdown",
   "id": "a80237be-3af7-44f4-8814-659c94e09af4",
   "metadata": {},
   "source": [
    "<u>**새로운 워크시트 추가하기**</u>"
   ]
  },
  {
   "cell_type": "code",
   "execution_count": null,
   "id": "e052c681-a65e-4dd0-a387-c5e5595a3415",
   "metadata": {},
   "outputs": [],
   "source": [
    "# 1 새로운 워크시트('New시트') 추가하기\n",
    "worksheet2 = spreadsheet.add_worksheet(title='New시트', rows=100, cols=20)\n",
    "\n",
    "# 2 셀에 값 입력하기\n",
    "worksheet2.update([[1], [2], [3], [4], [5], [6], [7], [8], [9], [10]], 'A1')\n",
    "worksheet2.update_acell('B1', '=SUM(A1:A10)')\n",
    "\n",
    "# 3 특정 행과 열의 값 찾기\n",
    "col_values = worksheet2.col_values(1) # 첫 번째 열의 값\n",
    "row_values = worksheet2.row_values(1) # 첫 번째 행의 값\n",
    "print(f'New시트의 첫 번째 열의 값: {col_values}')\n",
    "print(f'New시트의 첫 번째 행의 값: {row_values}')"
   ]
  }
 ],
 "metadata": {
  "kernelspec": {
   "display_name": "Python 3 (ipykernel)",
   "language": "python",
   "name": "python3"
  },
  "language_info": {
   "codemirror_mode": {
    "name": "ipython",
    "version": 3
   },
   "file_extension": ".py",
   "mimetype": "text/x-python",
   "name": "python",
   "nbconvert_exporter": "python",
   "pygments_lexer": "ipython3",
   "version": "3.11.7"
  }
 },
 "nbformat": 4,
 "nbformat_minor": 5
}
