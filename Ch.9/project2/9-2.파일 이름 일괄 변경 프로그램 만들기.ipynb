{
 "cells": [
  {
   "cell_type": "markdown",
   "id": "b8f4e2c5-e672-42de-9408-e89a25610cf0",
   "metadata": {},
   "source": [
    "1. 폴더와 파일 확인하기"
   ]
  },
  {
   "cell_type": "code",
   "execution_count": null,
   "id": "f33e2e78-5a55-4431-9a2e-ef7b2355b101",
   "metadata": {},
   "outputs": [],
   "source": [
    "import os\n",
    "\n",
    "# folder_path 경로 내 파일과 폴더 목록 반환\n",
    "folder_path = './project2'\n",
    "lists = os.listdir(folder_path)\n",
    "print(lists)"
   ]
  },
  {
   "cell_type": "markdown",
   "id": "27a9a9f6-ea37-41da-9b75-1ca15c2bbfa7",
   "metadata": {},
   "source": [
    "2. 파일 이름 일괄 변경 함수 만들기"
   ]
  },
  {
   "cell_type": "code",
   "execution_count": null,
   "id": "5fd72ccd-8ce1-4e09-9d05-abf49d800baf",
   "metadata": {},
   "outputs": [],
   "source": [
    "import os\n",
    "from datetime import datetime\n",
    "# 1 특정 폴더 안의 파일 이름을 일괄 변경하는 rename_files( ) 함수 정의\n",
    "def rename_files(folder_path, prefix='', suffix='', add_date=False):\n",
    "    # 2 폴더가 존재하는지 확인\n",
    "    if not os.path.isdir(folder_path):\n",
    "        print(f\"해당 경로 {folder_path} 폴더가 존재하지 않음.\")\n",
    "        return\n",
    "    # 3 폴더 내의 모든 파일을 확인\n",
    "    for filename in os.listdir(folder_path):\n",
    "        file_path = os.path.join(folder_path, filename)\n",
    "        # 4 파일인지 확인(폴더는 제외)\n",
    "        if os.path.isfile(file_path):\n",
    "            # 5 파일 이름과 확장자를 분리\n",
    "            name, extension = os.path.splitext(filename)\n",
    "        # 6 파일 이름에 날짜 추가\n",
    "        if add_date:\n",
    "            date_str = datetime.now().strftime('%Y%m%d')\n",
    "            new_name = f\"{date_str}_{name}\"\n",
    "        else:\n",
    "            new_name = name\n",
    "        # 7 새로운 파일 이름 생성\n",
    "        new_filename = f\"{prefix}{new_name}{suffix}{extension}\"\n",
    "        new_file_path = os.path.join(folder_path, new_filename)\n",
    "        # 8 파일 이름 변경\n",
    "        os.rename(file_path, new_file_path)\n",
    "        print(f\"{filename}에서 {new_filename}으로 이름이 변경되었습니다.\")"
   ]
  },
  {
   "cell_type": "code",
   "execution_count": null,
   "id": "be0ebd5d-ee35-4f43-a5f1-969bfb24e7d2",
   "metadata": {},
   "outputs": [],
   "source": [
    "# 예제 폴더 project2의 파일 이름 일괄 변경하기\n",
    "folder_path = './project2'\n",
    "rename_files(folder_path, prefix='Animal_', add_date=True)"
   ]
  }
 ],
 "metadata": {
  "kernelspec": {
   "display_name": "Python 3 (ipykernel)",
   "language": "python",
   "name": "python3"
  },
  "language_info": {
   "codemirror_mode": {
    "name": "ipython",
    "version": 3
   },
   "file_extension": ".py",
   "mimetype": "text/x-python",
   "name": "python",
   "nbconvert_exporter": "python",
   "pygments_lexer": "ipython3",
   "version": "3.11.7"
  }
 },
 "nbformat": 4,
 "nbformat_minor": 5
}
