{
 "cells": [
  {
   "cell_type": "markdown",
   "id": "30d50e2c-c959-4c75-960c-90d009bde57a",
   "metadata": {},
   "source": [
    "1. streamlit 라이브러리 설치하기"
   ]
  },
  {
   "cell_type": "code",
   "execution_count": null,
   "id": "69a15b8e-e3dd-4b70-a14a-3b9138d10af5",
   "metadata": {},
   "outputs": [],
   "source": [
    "pip install streamlit"
   ]
  },
  {
   "cell_type": "markdown",
   "id": "cf7ed8d6-2b51-41dd-aa5d-ccb7db9d8663",
   "metadata": {},
   "source": [
    "2. 뉴스 기사 검색 웹 애플리케이션 만들기"
   ]
  },
  {
   "cell_type": "markdown",
   "id": "8ef20b55-62b3-439a-8297-009784717d98",
   "metadata": {},
   "source": [
    "<u>**파이썬 스크립트 파일(.py) 생성하기**</u>"
   ]
  },
  {
   "cell_type": "code",
   "execution_count": null,
   "id": "692e5179-17df-4d87-b13e-2ab747580a95",
   "metadata": {},
   "outputs": [],
   "source": [
    "# config.py 파일 생성\n",
    "code = \"print('Hello, World!')\"\n",
    "\n",
    "with open(\"./project20/my_app.py\", \"w\", encoding=\"utf-8\") as file:\n",
    "    file.write(code)"
   ]
  },
  {
   "cell_type": "code",
   "execution_count": null,
   "id": "cd181d10-e3da-483e-bb49-b30f66e76048",
   "metadata": {},
   "outputs": [],
   "source": [
    "%%writefile ./project20/hello.py\n",
    "\n",
    "print('Hello, World!')"
   ]
  },
  {
   "cell_type": "code",
   "execution_count": null,
   "id": "2785e5ad-aac6-482e-9ba7-ca593caf6800",
   "metadata": {},
   "outputs": [],
   "source": [
    "%%writefile ./project20/config.py\n",
    "\n",
    "NAVER_CLIENT_ID = '네이버 클라이언트 아이디'\n",
    "NAVER_CLIENT_SECRET = '네이버 클라이언트 시크릿'"
   ]
  },
  {
   "cell_type": "markdown",
   "id": "24f3cd2e-0d93-4da4-97a4-40aae55d2a9b",
   "metadata": {},
   "source": [
    "<u>**streamlit_app.py 파일로 뉴스 기사 웹 애플리케이션 만들기**</u>"
   ]
  },
  {
   "cell_type": "code",
   "execution_count": null,
   "id": "bb825007-d0b0-4eec-89e2-889c43b5badc",
   "metadata": {},
   "outputs": [],
   "source": [
    "%%writefile ./project20/streamlit_app.py # streamlit_app.py 파일 생성\n",
    "\n",
    "import streamlit as st\n",
    "import requests\n",
    "from config import NAVER_CLIENT_ID, NAVER_CLIENT_SECRET\n",
    "from bs4 import BeautifulSoup\n",
    "\n",
    "# 1 네이버 API를 호출하여 뉴스 검색 결과를 가져오는 get_news( ) 함수 정의\n",
    "def get_news(query, display=10):\n",
    "    # 2 네이버 API를 호출하여 url 생성\n",
    "    url = f\"https://openapi.naver.com/v1/search/news.json?query={query}&display={display}\"\n",
    "    headers = {\n",
    "        'X-Naver-Client-Id': NAVER_CLIENT_ID,\n",
    "        'X-Naver-Client-Secret': NAVER_CLIENT_SECRET\n",
    "    }\n",
    "    response = requests.get(url, headers=headers)\n",
    "    if response.status_code == 200:\n",
    "        return response.json()\n",
    "    else:\n",
    "        return None\n",
    "        \n",
    "# 3 문자열에서 HTML 태그를 제거하는 strip_html_tags( ) 함수 정의\n",
    "def strip_html_tags(text):\n",
    "    soup = BeautifulSoup(text, \"html.parser\")\n",
    "    return soup.get_text()\n",
    "    \n",
    "# 4 스트림릿 애플리케이션의 메인 실행 함수\n",
    "def main():\n",
    "    # 5 앱 제목 설정 및 검색어 입력 필드 생성\n",
    "    st.title(\"네이버 뉴스 검색\")\n",
    "    query = st.text_input(\"검색어를 입력하세요\")\n",
    "    \n",
    "    # 6 검색 버튼 생성 및 클릭 시 뉴스 데이터를 가져와 결과 출력\n",
    "    if st.button(\"검색\"):\n",
    "        news_data = get_news(query)\n",
    "        if news_data:\n",
    "            st.write(\"검색 결과:\")\n",
    "            # 7 뉴스 데이터 항목을 순회하여 제목과 설명을 HTML 태그 없이 출력\n",
    "            for item in news_data['items']:\n",
    "                title = strip_html_tags(item['title'])\n",
    "                description = strip_html_tags(item['description'])\n",
    "                st.write(f\"- [{title}]({item['link']})<br>{description}\", unsafe_allow_html=True)\n",
    "            \n",
    "if __name__ == \"__main__\":\n",
    "    main()"
   ]
  },
  {
   "cell_type": "code",
   "execution_count": null,
   "id": "8b872905-78f3-4867-aca9-5fc8d8f0365a",
   "metadata": {},
   "outputs": [],
   "source": [
    "# 스트림릿 앱 실행\n",
    "!streamlit run ./project20/streamlit_app.py"
   ]
  }
 ],
 "metadata": {
  "kernelspec": {
   "display_name": "Python 3 (ipykernel)",
   "language": "python",
   "name": "python3"
  },
  "language_info": {
   "codemirror_mode": {
    "name": "ipython",
    "version": 3
   },
   "file_extension": ".py",
   "mimetype": "text/x-python",
   "name": "python",
   "nbconvert_exporter": "python",
   "pygments_lexer": "ipython3",
   "version": "3.11.7"
  }
 },
 "nbformat": 4,
 "nbformat_minor": 5
}
