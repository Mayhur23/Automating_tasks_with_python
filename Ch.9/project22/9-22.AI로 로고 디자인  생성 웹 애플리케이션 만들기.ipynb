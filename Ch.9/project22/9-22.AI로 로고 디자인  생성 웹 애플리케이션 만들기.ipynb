{
 "cells": [
  {
   "cell_type": "code",
   "execution_count": null,
   "id": "452780a3-6f57-472d-9578-99e5fcb67baa",
   "metadata": {},
   "outputs": [],
   "source": [
    "# openai 라이브러리 확인\n",
    "!pip show openai\n",
    "# streamlit 라이브러리 확인\n",
    "!pip show streamlit\n",
    "# requests 라이브러리 확인\n",
    "!pip show requests"
   ]
  },
  {
   "cell_type": "markdown",
   "id": "72717f94-eee9-4f4c-95ad-32aee06e1995",
   "metadata": {},
   "source": [
    "2. 로고 디자인 생성 웹 애플리케이션 만들기"
   ]
  },
  {
   "cell_type": "code",
   "execution_count": null,
   "id": "c10a97f8-cab2-41f0-ab3d-45f53d753145",
   "metadata": {},
   "outputs": [],
   "source": [
    "%%writefile ./project22/streamlit_app.py\n",
    "\n",
    "import streamlit as st\n",
    "from openai import OpenAI\n",
    "import requests\n",
    "from PIL import Image\n",
    "from io import BytesIO\n",
    "\n",
    "# 1 로고 생성 generate_logo() 함수\n",
    "def generate_logo(client, description):\n",
    "    \"\"\"DALL-E API를 사용하여 로고 이미지 생성\"\"\"\n",
    "    prompt = f\"Company Logo design: {description}\"\n",
    "    \n",
    "    response = client.images.generate(\n",
    "        model=\"dall-e-3\",\n",
    "        prompt=prompt,\n",
    "        n=1,\n",
    "        size=\"1024x1024\"\n",
    "    )\n",
    "    return response.data[0].url, prompt\n",
    "    \n",
    "def main():\n",
    "    # 2 앱 제목 설정\n",
    "    st.title(\"🎨 AI 로고 생성기\")\n",
    "    \n",
    "    # 3 API 키 입력 섹션\n",
    "    api_key = st.text_input(\"OpenAI API 키를 입력하세요\", type=\"password\")\n",
    "    \n",
    "    # 4 사용자 입력 폼\n",
    "    org_description = st.text_area(\"로고 설명\",\n",
    "        placeholder=\"예: 녹색과 파란색을 사용한 환경 친화적인 로고. 나뭇잎과 물방울 모양 선호.\")\n",
    "    file_name = st.text_input(\"저장할 파일명\", placeholder=\"logo.png\")\n",
    "    \n",
    "    # 5 로고 생성 버튼 및 처리\n",
    "    if st.button(\"로고 생성하기\") and api_key and org_description:\n",
    "        with st.spinner(\"로고를 생성하는 중...\"):\n",
    "    \n",
    "            try:\n",
    "                # 6 OpenAI 클라이언트 초기화\n",
    "                client = OpenAI(api_key=api_key)\n",
    "                \n",
    "                # 7 로고 생성 generate_logo( ) 함수로 이미지 생성\n",
    "                image_url, prompt = generate_logo(client, org_description)\n",
    "                \n",
    "                # 8 사용된 프롬프트와 생성된 로고를 결과로 표시\n",
    "                st.write(\"### 사용된 프롬프트\")\n",
    "                st.info(prompt)\n",
    "                \n",
    "                st.write(\"### 생성된 로고\")\n",
    "                st.image(image_url)\n",
    "                \n",
    "                # 9 다운로드 기능 구현\n",
    "                response = requests.get(image_url)\n",
    "                img = Image.open(BytesIO(response.content))\n",
    "                img_byte_arr = BytesIO()\n",
    "                img.save(img_byte_arr, format='PNG')\n",
    "                img_byte_arr = img_byte_arr.getvalue()\n",
    "                \n",
    "                download_filename = file_name if file_name.endswith('.png') else f\"{file_name}.png\"\n",
    "                st.download_button(\n",
    "                    label=\"로고 다운로드\",\n",
    "                    data=img_byte_arr,\n",
    "                    file_name=download_filename,\n",
    "                    mime=\"image/png\"\n",
    "                )\n",
    "            except Exception as e:\n",
    "                st.error(f\"오류가 발생했습니다: {str(e)}\")\n",
    "                \n",
    "if __name__ == \"__main__\":\n",
    "    main()"
   ]
  },
  {
   "cell_type": "code",
   "execution_count": null,
   "id": "2b132fd7-36b4-46ad-aad0-3d6aafe0f40a",
   "metadata": {},
   "outputs": [],
   "source": [
    "# 스트림릿 앱 실행\n",
    "!streamlit run ./project22/streamlit_app.py"
   ]
  }
 ],
 "metadata": {
  "kernelspec": {
   "display_name": "Python 3 (ipykernel)",
   "language": "python",
   "name": "python3"
  },
  "language_info": {
   "codemirror_mode": {
    "name": "ipython",
    "version": 3
   },
   "file_extension": ".py",
   "mimetype": "text/x-python",
   "name": "python",
   "nbconvert_exporter": "python",
   "pygments_lexer": "ipython3",
   "version": "3.11.7"
  }
 },
 "nbformat": 4,
 "nbformat_minor": 5
}
