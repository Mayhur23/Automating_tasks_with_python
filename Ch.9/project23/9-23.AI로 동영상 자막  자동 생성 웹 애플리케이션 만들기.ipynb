{
 "cells": [
  {
   "cell_type": "markdown",
   "id": "108559c8-0d25-4fab-8fe3-d3e83816c285",
   "metadata": {},
   "source": [
    "1. openai, streamlit, pytubefix 라이브러리 확인하기"
   ]
  },
  {
   "cell_type": "code",
   "execution_count": null,
   "id": "e272265e-7112-4e42-81f6-70e12b593ecc",
   "metadata": {},
   "outputs": [],
   "source": [
    "# 각 라이브러리가 설치되어 있는지 확인\n",
    "!pip show openai streamlit pytubefix"
   ]
  },
  {
   "cell_type": "markdown",
   "id": "5642a1bd-1b84-4c5a-95ed-5a62e47e9c66",
   "metadata": {},
   "source": [
    "2. 동영상 자동 자막 생성 웹 애플리케이션 만들기"
   ]
  },
  {
   "cell_type": "code",
   "execution_count": null,
   "id": "5e6dc3c0-f49d-419b-87cc-069ffbd138eb",
   "metadata": {},
   "outputs": [],
   "source": [
    "%%writefile ./project23/streamlit_app.py\n",
    "\n",
    "import streamlit as st\n",
    "from pytubefix import YouTube\n",
    "import os\n",
    "from openai import OpenAI\n",
    "from pathlib import Path\n",
    "import tempfile\n",
    "\n",
    "# 1 메인 애플리케이션 main( ) 함수\n",
    "def main():\n",
    "    st.title(\"YouTube 영상 자막 생성기\")\n",
    "    st.write(\"YouTube 영상 주소를 입력하면 OpenAI Whisper API를 사용하여 SRT 자막을 생성합니다.\")\n",
    "\n",
    "    # 2 OpenAI API 초기화\n",
    "    api_key = st.text_input(\"OpenAI API 키를 입력하세요\", type=\"password\")\n",
    "    \n",
    "    if api_key:\n",
    "        client = OpenAI(api_key=api_key)\n",
    "        \n",
    "    youtube_url = st.text_input(\"YouTube 영상 URL을 입력하세요\")\n",
    "    \n",
    "    if st.button(\"자막 생성\") and youtube_url and api_key:\n",
    "        try:\n",
    "            # 3 YouTube 영상 다운로드 및 오디오 추출\n",
    "            with st.spinner(\"음성 파일 다운로드 중...\"):\n",
    "                yt = YouTube(youtube_url)\n",
    "                audio_stream = yt.streams.filter(only_audio=True).first()\n",
    "                \n",
    "                temp_dir = tempfile.mkdtemp()\n",
    "                temp_audio_path = os.path.join(temp_dir, \"audio.mp4\")\n",
    "                audio_stream.download(output_path=temp_dir, filename=\"audio.mp4\")\n",
    "                \n",
    "            # 4 Whisper API를 사용한 자막 생성\n",
    "            with st.spinner(\"자막 생성 중...\"):\n",
    "                with open(temp_audio_path, \"rb\") as audio_file:\n",
    "                    transcript = client.audio.transcriptions.create(            \n",
    "                        model=\"whisper-1\",\n",
    "                        file=audio_file,\n",
    "                        response_format=\"srt\"\n",
    "                    )\n",
    "                    \n",
    "                # 5 결과 출력 및 다운로드 기능\n",
    "                st.subheader(\"생성된 자막:\")\n",
    "                st.text_area(\"자막 미리보기\", transcript, height=300)\n",
    "                \n",
    "                st.download_button(\n",
    "                    label=\"자막 파일 다운로드\",\n",
    "                    data=transcript,\n",
    "                    file_name=\"subtitle.srt\",\n",
    "                    mime=\"text/plain\"\n",
    "                )\n",
    "                \n",
    "            # 임시 파일 정리\n",
    "            os.remove(temp_audio_path)\n",
    "            os.rmdir(temp_dir)\n",
    "            \n",
    "        except Exception as e:\n",
    "            st.error(f\"오류가 발생했습니다: {str(e)}\")\n",
    "    \n",
    "if __name__ == \"__main__\":\n",
    "    main()"
   ]
  },
  {
   "cell_type": "code",
   "execution_count": null,
   "id": "3a2cbf78-5931-4b88-b034-0b011805f5f1",
   "metadata": {},
   "outputs": [],
   "source": [
    "# 스트림릿 앱 실행\n",
    "!streamlit run ./project23/streamlit_app.py"
   ]
  }
 ],
 "metadata": {
  "kernelspec": {
   "display_name": "Python 3 (ipykernel)",
   "language": "python",
   "name": "python3"
  },
  "language_info": {
   "codemirror_mode": {
    "name": "ipython",
    "version": 3
   },
   "file_extension": ".py",
   "mimetype": "text/x-python",
   "name": "python",
   "nbconvert_exporter": "python",
   "pygments_lexer": "ipython3",
   "version": "3.11.7"
  }
 },
 "nbformat": 4,
 "nbformat_minor": 5
}
