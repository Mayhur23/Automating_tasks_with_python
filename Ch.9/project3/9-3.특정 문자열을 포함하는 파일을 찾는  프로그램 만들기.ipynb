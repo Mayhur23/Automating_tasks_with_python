{
 "cells": [
  {
   "cell_type": "markdown",
   "id": "9b1830ae-6c06-4541-ba3e-adabe84fab65",
   "metadata": {},
   "source": [
    "1. 파일에서 문자열 찾는 함수 만들기"
   ]
  },
  {
   "cell_type": "code",
   "execution_count": null,
   "id": "d49c7032-1103-44d8-b2b6-0bbed2b90326",
   "metadata": {},
   "outputs": [],
   "source": [
    "import os\n",
    "\n",
    "# 1 특정 문자열이 포함된 파일을 찾는 search_string( ) 함수 정의\n",
    "def search_string(folder_path, string):\n",
    "    # 2 검색 결과를 저장할 빈 리스트 생성\n",
    "    matched_files = []\n",
    "    \n",
    "    # 3 지정된 폴더 내의 모든 파일 검사\n",
    "    for root, _, files in os.walk(folder_path):\n",
    "        for file in files:\n",
    "            # 4 텍스트 파일만 검색 대상에 포함\n",
    "            if file.endswith('.txt'):\n",
    "                # 5 파일의 전체 경로 생성\n",
    "                file_path = os.path.join(root, file)\n",
    "                \n",
    "                # 6 각 파일을 읽어 내용에 string이 포함되어 있는지 확인\n",
    "                try:\n",
    "                    with open(file_path, 'r', encoding='utf-8') as f:\n",
    "                        content = f.read() # 파일 내용 읽기\n",
    "                        if string in content: # 지정된 문자열이 파일 내용에 포함되어 있는지 검사\n",
    "                            matched_files.append(file_path) # 조건을 만족하는 파일 경로를 리스트에 추가\n",
    "                # 7 파일 읽기 중 발생한 예외 처리 및 출력\n",
    "                except Exception as e:\n",
    "                    print(f\"파일 {file_path}를 읽는 중 오류 발생: {e}\")\n",
    "                    \n",
    "    return matched_files # 8 검색된 파일 경로 리스트 반환"
   ]
  },
  {
   "cell_type": "code",
   "execution_count": null,
   "id": "99c9091b-3757-4f3e-a534-5eac3e079d4e",
   "metadata": {},
   "outputs": [],
   "source": [
    "# 1 검색할 폴더와 문자열 지정\n",
    "folder_path = './project3'\n",
    "string = '제품 출시 일정'\n",
    "\n",
    "# 2 문자열이 포함된 파일 검색\n",
    "matched_files = search_string(folder_path, string)\n",
    "# 3 검색 결과 출력\n",
    "if matched_files:\n",
    "    print(\"문자열이 포함된 파일 목록:\")\n",
    "    for file in matched_files:\n",
    "        print(file)\n",
    "else:\n",
    "    print(\"문자열이 포함된 파일이 없습니다.\")"
   ]
  },
  {
   "cell_type": "code",
   "execution_count": null,
   "id": "e2eaa91a-55b4-4d06-9370-0a8a79c47ac2",
   "metadata": {},
   "outputs": [],
   "source": []
  }
 ],
 "metadata": {
  "kernelspec": {
   "display_name": "Python 3 (ipykernel)",
   "language": "python",
   "name": "python3"
  },
  "language_info": {
   "codemirror_mode": {
    "name": "ipython",
    "version": 3
   },
   "file_extension": ".py",
   "mimetype": "text/x-python",
   "name": "python",
   "nbconvert_exporter": "python",
   "pygments_lexer": "ipython3",
   "version": "3.11.7"
  }
 },
 "nbformat": 4,
 "nbformat_minor": 5
}
