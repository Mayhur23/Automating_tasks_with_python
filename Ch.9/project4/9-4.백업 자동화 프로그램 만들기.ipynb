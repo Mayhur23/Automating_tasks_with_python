{
 "cells": [
  {
   "cell_type": "markdown",
   "id": "28bcc89e-0bc4-4474-9f04-7252b7b1efd1",
   "metadata": {},
   "source": [
    "1. 백업 자동화 함수 만들기"
   ]
  },
  {
   "cell_type": "code",
   "execution_count": 3,
   "id": "a0d2a3c8-be7f-469c-a641-1859f6e9d3ef",
   "metadata": {},
   "outputs": [],
   "source": [
    "import os\n",
    "import shutil\n",
    "import datetime\n",
    "import time\n",
    "\n",
    "# 1 지정된 폴더 내의 모든 파일을 백업 폴더로 복사하는 backup_files( ) 함수 정의\n",
    "def backup_files(source_folder, backup_folder):\n",
    "    # 2 백업 폴더가 존재하지 않으면 생성\n",
    "    if not os.path.exists(backup_folder):\n",
    "        os.makedirs(backup_folder)\n",
    "\n",
    "    # 3 백업 폴더에 날짜와 시간을 추가한 하위 폴더 생성\n",
    "    current_time = datetime.datetime.now().strftime(\"%Y%m%d_%H%M%S\")\n",
    "    backup_subfolder = os.path.join(backup_folder, current_time)\n",
    "    os.makedirs(backup_subfolder)\n",
    "    \n",
    "    # 4 원본 폴더 내의 모든 파일을 순회하며 백업\n",
    "    for root, _, files in os.walk(source_folder):\n",
    "        for file in files:\n",
    "            # 5 현재 순회 중인 파일의 경로를 생성\n",
    "            source_file_path = os.path.join(root, file)\n",
    "            # 6 원본 파일의 상대 경로를 계산\n",
    "            relative_path = os.path.relpath(source_file_path, source_folder)\n",
    "            # 7 백업 폴더 내의 파일 경로 계산\n",
    "            backup_file_path = os.path.join(backup_subfolder, relative_path)\n",
    "            \n",
    "            # 8 백업 파일 경로 생성\n",
    "            backup_file_dir = os.path.dirname(backup_file_path)\n",
    "            if not os.path.exists(backup_file_dir):\n",
    "                os.makedirs(backup_file_dir)\n",
    "            \n",
    "            # 9 파일 복사 및 메타데이터 유지\n",
    "            shutil.copy2(source_file_path, backup_file_path)\n",
    "            print(f\"백업 완료: {source_file_path} -> {backup_file_path}\")"
   ]
  },
  {
   "cell_type": "code",
   "execution_count": null,
   "id": "da124924-bbf5-4b71-b74b-b7877b97497c",
   "metadata": {},
   "outputs": [
    {
     "name": "stdout",
     "output_type": "stream",
     "text": [
      "백업 완료: ./project4\\견적서01.xlsx -> ./project4_backup\\20241208_134957\\견적서01.xlsx\n",
      "백업 완료: ./project4\\견적서02.xlsx -> ./project4_backup\\20241208_134957\\견적서02.xlsx\n",
      "모든 파일이 ./project4_backup에 백업되었습니다.\n",
      "60초 후에 다음 백업을 수행합니다.\n"
     ]
    }
   ],
   "source": [
    "# 1 'project4' 폴더에 대한 백업 실행\n",
    "source_folder = './project4'\n",
    "backup_folder = './project4_backup'\n",
    "backup_interval = 60 # 백업 간격 설정 (초 단위)\n",
    "\n",
    "# 2 파일 백업 수행\n",
    "while True:\n",
    "    backup_files(source_folder, backup_folder)\n",
    "    print(f\"모든 파일이 {backup_folder}에 백업되었습니다.\")\n",
    "    print(f\"{backup_interval}초 후에 다음 백업을 수행합니다.\")\n",
    "    time.sleep(backup_interval)"
   ]
  }
 ],
 "metadata": {
  "kernelspec": {
   "display_name": "Python 3 (ipykernel)",
   "language": "python",
   "name": "python3"
  },
  "language_info": {
   "codemirror_mode": {
    "name": "ipython",
    "version": 3
   },
   "file_extension": ".py",
   "mimetype": "text/x-python",
   "name": "python",
   "nbconvert_exporter": "python",
   "pygments_lexer": "ipython3",
   "version": "3.11.7"
  }
 },
 "nbformat": 4,
 "nbformat_minor": 5
}
