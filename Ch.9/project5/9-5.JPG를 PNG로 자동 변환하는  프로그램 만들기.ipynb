{
 "cells": [
  {
   "cell_type": "markdown",
   "id": "5541e311-a4f2-45bd-909e-0c6963af3a84",
   "metadata": {},
   "source": [
    "1. Pillow 라이브러리 설치하기"
   ]
  },
  {
   "cell_type": "code",
   "execution_count": null,
   "id": "39140fa6-15cb-49e0-b514-2eccdd9834d9",
   "metadata": {},
   "outputs": [],
   "source": [
    "pip install pillow"
   ]
  },
  {
   "cell_type": "markdown",
   "id": "182afa07-b28b-4da3-ad8a-ad720d0fedce",
   "metadata": {},
   "source": [
    "2. JPG 파일을 PNG 파일로 변환하는 함수 만들기"
   ]
  },
  {
   "cell_type": "code",
   "execution_count": null,
   "id": "126d80b0-30f1-49d8-af78-fa2a76f19660",
   "metadata": {},
   "outputs": [],
   "source": [
    "import os\n",
    "from PIL import Image\n",
    "\n",
    "# 1 특정 폴더 안의 JPG 파일을 PNG 형식으로 변환하는 convert_to_png( ) 함수 정의\n",
    "def convert_to_png(input_folder, output_folder, new_name_pattern):\n",
    "    # 2 하위 폴더가 존재하지 않으면 생성\n",
    "    if not os.path.exists(output_folder):\n",
    "        os.makedirs(output_folder)\n",
    "    \n",
    "    # 3 특정 폴더에서 JPG 확장자를 가진 모든 파일 목록을 생성\n",
    "    files = [file for file in os.listdir(input_folder) if file.lower().endswith(\".jpg\")]\n",
    "    \n",
    "    # 4 각 파일을 순회하며 PNG 형식으로 변환 및 저장\n",
    "    for index, file_name in enumerate(files):\n",
    "        # 5 원본 이미지 파일 경로\n",
    "        img_path = os.path.join(input_folder, file_name)\n",
    "        # 6 새로운 파일 이름 생성\n",
    "        new_file_name = f\"{new_name_pattern}_{index+1}.png\"\n",
    "        # 7 저장될 파일의 전체 경로\n",
    "        output_path = os.path.join(output_folder, new_file_name)\n",
    "        \n",
    "        # 8 이미지 파일 열기 및 PNG 형식으로 저장\n",
    "        with Image.open(img_path) as img:\n",
    "            img.save(output_path, 'PNG')\n",
    "            \n",
    "        print(f\"변환 성공: {output_path}\")"
   ]
  },
  {
   "cell_type": "code",
   "execution_count": null,
   "id": "882312f1-dfc1-40bc-86ed-46feb224fdc1",
   "metadata": {},
   "outputs": [],
   "source": [
    "input_folder = './project5' # 변환할 JPG 이미지 폴더 경로\n",
    "output_folder = './project5/png' # 변환된 PNG 이미지를 저장할 폴더 경로\n",
    "new_name_pattern = 'Animal' # 새 파일 이름 패턴\n",
    "\n",
    "# 함수 실행\n",
    "convert_to_png(input_folder, output_folder, new_name_pattern)"
   ]
  }
 ],
 "metadata": {
  "kernelspec": {
   "display_name": "Python 3 (ipykernel)",
   "language": "python",
   "name": "python3"
  },
  "language_info": {
   "codemirror_mode": {
    "name": "ipython",
    "version": 3
   },
   "file_extension": ".py",
   "mimetype": "text/x-python",
   "name": "python",
   "nbconvert_exporter": "python",
   "pygments_lexer": "ipython3",
   "version": "3.11.7"
  }
 },
 "nbformat": 4,
 "nbformat_minor": 5
}
