{
 "cells": [
  {
   "cell_type": "markdown",
   "id": "ccb7ac3a-2151-4e7b-b0d2-4b75b659fbeb",
   "metadata": {},
   "source": [
    "1. 이미지 파일 크기 일괄 조정하는 함수 만들기"
   ]
  },
  {
   "cell_type": "code",
   "execution_count": null,
   "id": "60e8de5c-462c-4715-8d6d-7b4224c885c7",
   "metadata": {},
   "outputs": [],
   "source": [
    "import os\n",
    "from PIL import Image\n",
    "\n",
    "# 1 이미지 파일의 크기를 주어진 비율로 조정하는 resize_image( ) 함수 정의\n",
    "def resize_image(image_path, output_path, scale):\n",
    "    # 2 이미지 파일 열기\n",
    "    with Image.open(image_path) as img:\n",
    "        # 3 원본 이미지 크기\n",
    "        original_size = img.size\n",
    "        # 4 조정할 크기 계산\n",
    "        new_size = (int(original_size[0] * scale), int(original_size[1] * scale))\n",
    "        # 5 이미지 크기 조정\n",
    "        resized_img = img.resize(new_size, Image.LANCZOS)\n",
    "        # 6 조정된 이미지 저장\n",
    "        resized_img.save(output_path)\n",
    "        print(f\"{image_path}의 크기를 조정하여 {output_path}로 저장하였습니다.\")"
   ]
  },
  {
   "cell_type": "code",
   "execution_count": null,
   "id": "6e405c3a-642e-4cf6-a7b9-ed81ecda45d5",
   "metadata": {},
   "outputs": [],
   "source": [
    "# 1 폴더 내 모든 이미지 파일의 크기를 일괄 조정하는 process_images( ) 정의\n",
    "def process_images(folder_path, scale=0.5, output_folder=None):\n",
    "    # 2 지정된 폴더가 존재하지 않을 경우 함수를 종료\n",
    "    if not os.path.isdir(folder_path):\n",
    "        print(f\"해당 폴더 경로 {folder_path} 가 존재하지 않습니다.\")\n",
    "        return\n",
    "        \n",
    "    # 3 최종 파일을 저장할 폴더가 별도로 지정된 경우, 해당 폴더를 생성\n",
    "    if output_folder and not os.path.exists(output_folder):\n",
    "        os.makedirs(output_folder)\n",
    "    # 4 폴더 내의 모든 파일을 확인\n",
    "    for dirpath, dirnames, filenames in os.walk(folder_path):\n",
    "        for filename in filenames:\n",
    "            # 5 확장자를 통해 이미지 파일인지 확인\n",
    "            if filename.lower().endswith(('.jpg', '.jpeg', '.png', '.gif', '.bmp')):\n",
    "                file_path = os.path.join(dirpath, filename)\n",
    "                # 6 출력 경로 설정\n",
    "                if output_folder:\n",
    "                    output_path = os.path.join(output_folder, filename)\n",
    "                else:\n",
    "                    output_path = file_path\n",
    "                # 7 이미지 크기 조정\n",
    "                resize_image(file_path, output_path, scale)"
   ]
  },
  {
   "cell_type": "code",
   "execution_count": null,
   "id": "9fa3b639-56ba-4e77-acf2-6271306811fa",
   "metadata": {},
   "outputs": [],
   "source": [
    "# project6 폴더에 저장된 모든 이미지 파일 크기 조정\n",
    "folder_path = './project6'\n",
    "output_folder = './project6_Resized'\n",
    "process_images(folder_path, scale=0.5, output_folder=output_folder)"
   ]
  }
 ],
 "metadata": {
  "kernelspec": {
   "display_name": "Python 3 (ipykernel)",
   "language": "python",
   "name": "python3"
  },
  "language_info": {
   "codemirror_mode": {
    "name": "ipython",
    "version": 3
   },
   "file_extension": ".py",
   "mimetype": "text/x-python",
   "name": "python",
   "nbconvert_exporter": "python",
   "pygments_lexer": "ipython3",
   "version": "3.11.7"
  }
 },
 "nbformat": 4,
 "nbformat_minor": 5
}
