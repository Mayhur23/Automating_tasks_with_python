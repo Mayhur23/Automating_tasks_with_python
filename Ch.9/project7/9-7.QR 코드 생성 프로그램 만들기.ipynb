{
 "cells": [
  {
   "cell_type": "markdown",
   "id": "565bda19-2100-4ff1-af0b-1296d76f5a42",
   "metadata": {},
   "source": [
    "1. qrcode 라이브러리 설치하기"
   ]
  },
  {
   "cell_type": "code",
   "execution_count": null,
   "id": "1735d69d-8b05-4ac1-8e34-625f99007165",
   "metadata": {},
   "outputs": [],
   "source": [
    "pip install qrcode"
   ]
  },
  {
   "cell_type": "markdown",
   "id": "56dde27f-12a6-47c8-9019-acf5cec854b5",
   "metadata": {},
   "source": [
    "2. QR 코드 생성하는 함수 만들기"
   ]
  },
  {
   "cell_type": "code",
   "execution_count": null,
   "id": "2df2807f-e8f5-40c0-a815-9d0218754e54",
   "metadata": {},
   "outputs": [],
   "source": [
    "import qrcode\n",
    "import pandas as pd\n",
    "\n",
    "# 1 주어진 데이터를 QR 코드로 생성하고 이미지를 파일로 저장하는 create_qrcode( ) 함수 정의\n",
    "def create_qrcode(data, file_path):\n",
    "    # 2 QR 코드 생성기 설정\n",
    "    qr = qrcode.QRCode(\n",
    "    version=1, # QR 코드 버전 (1~40)\n",
    "    error_correction=qrcode.constants.ERROR_CORRECT_L, # 오류 수정 수준\n",
    "    box_size=10, # QR 코드 박스 크기\n",
    "    border=4, # 테두리 크기\n",
    "    )\n",
    "    # 3 데이터 추가\n",
    "    qr.add_data(data)\n",
    "    qr.make(fit=True)\n",
    "    # 4 이미지 생성\n",
    "    img = qr.make_image(fill='black', back_color='white')\n",
    "    # 5 이미지 파일로 저장\n",
    "    img.save(file_path)\n",
    "    print(f\"QR 코드가 {file_path}에 저장되었습니다.\")"
   ]
  },
  {
   "cell_type": "code",
   "execution_count": null,
   "id": "34da4cd7-165e-43ce-9465-c8921479623b",
   "metadata": {},
   "outputs": [],
   "source": [
    "# 1 엑셀 파일에서 데이터를 읽어 QR 코드를 생성하는 generate_qrcodes_from_excel( ) 함수 정의\n",
    "def generate_qrcodes_from_excel(excel_file):\n",
    "    # 2 엑셀 파일 읽기\n",
    "    df = pd.read_excel(excel_file)\n",
    "    # 3 엑셀 파일의 각 행을 순회하며 QR 코드 생성\n",
    "    for index, row in df.iterrows():\n",
    "        data = row['Data'] # 4 엑셀 파일의 'Data' 열에서 데이터 읽기\n",
    "        # 5 각 QR 코드를 'project7' 폴더에 인덱스 번호를 포함한 파일 이름으로 저장\n",
    "        file_path = f'./project7/qrcode_{index}.png'\n",
    "        create_qrcode(data, file_path) # 6 QR 코드를 생성"
   ]
  },
  {
   "cell_type": "code",
   "execution_count": null,
   "id": "e25fc7fe-aade-420b-beab-88b0f045c607",
   "metadata": {},
   "outputs": [],
   "source": [
    "excel_file = './project7/example_data.xlsx'\n",
    "generate_qrcodes_from_excel(excel_file)"
   ]
  }
 ],
 "metadata": {
  "kernelspec": {
   "display_name": "Python 3 (ipykernel)",
   "language": "python",
   "name": "python3"
  },
  "language_info": {
   "codemirror_mode": {
    "name": "ipython",
    "version": 3
   },
   "file_extension": ".py",
   "mimetype": "text/x-python",
   "name": "python",
   "nbconvert_exporter": "python",
   "pygments_lexer": "ipython3",
   "version": "3.11.7"
  }
 },
 "nbformat": 4,
 "nbformat_minor": 5
}
