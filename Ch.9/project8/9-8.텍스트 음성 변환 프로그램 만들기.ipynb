{
 "cells": [
  {
   "cell_type": "markdown",
   "id": "bcfa97d7-7514-4077-886d-9a43b37859b4",
   "metadata": {},
   "source": [
    "1. gTTS 라이브러리 설치하기"
   ]
  },
  {
   "cell_type": "code",
   "execution_count": null,
   "id": "4cfdbfbe-5561-434c-8e7b-94051948755d",
   "metadata": {},
   "outputs": [],
   "source": [
    "pip install gtts"
   ]
  },
  {
   "cell_type": "markdown",
   "id": "77fd34ea-44c2-430a-b3aa-a112e2a775a4",
   "metadata": {},
   "source": [
    "2. 텍스트 파일을 음성 파일로 변환하는 함수 만들기"
   ]
  },
  {
   "cell_type": "code",
   "execution_count": null,
   "id": "1a92b16a-9b3b-44e6-bb55-3010a7ed52fa",
   "metadata": {},
   "outputs": [],
   "source": [
    "from gtts import gTTS\n",
    "import os\n",
    "\n",
    "# 1 주어진 텍스트 파일을 음성으로 변환하고 저장하는 text_to_speech( ) 함수 정의\n",
    "def text_to_speech(text, lang='ko', file_path='output.mp3'):\n",
    "    # 2 주어진 텍스트 파일의 내용을 읽기\n",
    "    try:\n",
    "        with open(text, 'r', encoding='utf-8') as file:\n",
    "            text = file.read()\n",
    "    except FileNotFoundError:\n",
    "        print(\"파일을 찾을 수 없습니다. 프로그램을 종료합니다.\")\n",
    "        return # 파일이 없을 경우 함수 종료\n",
    "\n",
    "    # 3 텍스트를 음성으로 변환\n",
    "    tts = gTTS(text=text, lang=lang)\n",
    "    # 4 음성 파일 저장\n",
    "    tts.save(output_file_path)\n",
    "    print(f\"음성 파일이 {output_file_path}에 저장되었습니다.\")"
   ]
  },
  {
   "cell_type": "code",
   "execution_count": null,
   "id": "552203b8-1511-4838-84af-05dc9ca7dd43",
   "metadata": {},
   "outputs": [],
   "source": [
    "# 'project8' 폴더의 'tts_example_text.txt' 파일을 음성으로 변환하기\n",
    "text = './project8/tts_example_text.txt' # 텍스트 파일 경로\n",
    "lang = 'ko' # 변환할 언어 코드\n",
    "output_file_path = './project8/output.mp3' # 음성 파일을 저장할 경로\n",
    "text_to_speech(text, lang, output_file_path) # 변환 실행"
   ]
  }
 ],
 "metadata": {
  "kernelspec": {
   "display_name": "Python 3 (ipykernel)",
   "language": "python",
   "name": "python3"
  },
  "language_info": {
   "codemirror_mode": {
    "name": "ipython",
    "version": 3
   },
   "file_extension": ".py",
   "mimetype": "text/x-python",
   "name": "python",
   "nbconvert_exporter": "python",
   "pygments_lexer": "ipython3",
   "version": "3.11.7"
  }
 },
 "nbformat": 4,
 "nbformat_minor": 5
}
