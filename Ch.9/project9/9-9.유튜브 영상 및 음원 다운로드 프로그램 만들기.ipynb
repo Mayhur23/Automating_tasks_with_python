{
 "cells": [
  {
   "cell_type": "markdown",
   "id": "0d9ff78a-43a7-462c-8ac8-73c5295ba399",
   "metadata": {},
   "source": [
    "1. pytubefix 라이브러리 설치하기"
   ]
  },
  {
   "cell_type": "code",
   "execution_count": null,
   "id": "cc02a0c8-f2e1-499c-818d-b6911541e2e5",
   "metadata": {},
   "outputs": [],
   "source": [
    "pip install pytubefix"
   ]
  },
  {
   "cell_type": "markdown",
   "id": "0340b6d7-17ae-4a43-8794-99ac19e58a50",
   "metadata": {},
   "source": [
    "2. 영상 및 음원 다운로드 함수 만들기"
   ]
  },
  {
   "cell_type": "code",
   "execution_count": null,
   "id": "93c07975-77d4-40c7-a045-2b7486e2b4ac",
   "metadata": {},
   "outputs": [],
   "source": [
    "from pytubefix import YouTube\n",
    "import os\n",
    "\n",
    "# 1 유튜브 동영상의 오디오와 비디오를 다운로드하는 get_video_and_audio( ) 함수 정의\n",
    "def get_video_and_audio(url):\n",
    "    # 2 YouTube 객체 생성\n",
    "    yt = YouTube(url)\n",
    "    \n",
    "    # 3 오디오 스트림만 필터링하여 첫 번째 스트림(보통 가장 적합한 형식)을 선택\n",
    "    audio = yt.streams.filter(only_audio=True).first()\n",
    "    # 4 선택한 오디오 스트림을 다운로드\n",
    "    audio_file = audio.download(output_path='project9')\n",
    "    \n",
    "    # 5 다운로드된 오디오 파일의 확장자를 .mp3로 변경하기 위해 파일 경로를 분리\n",
    "    base, ext = os.path.splitext(audio_file)\n",
    "    new_audio_file = base + '.mp3'\n",
    "    # 6 파일 이름 변경(예: .webm -> .mp3)\n",
    "    os.rename(audio_file, new_audio_file)\n",
    "    print(f'오디오 파일이 성공적으로 다운로드 되었습니다: {new_audio_file}')\n",
    "    \n",
    "    # 7 mp4 형식의 비디오 스트림 중에서 가장 높은 해상도를 선택\n",
    "    video = yt.streams.filter(file_extension='mp4').get_highest_resolution()\n",
    "    video_file = video.download(output_path='project9')\n",
    "    print(f'비디오 파일이 성공적으로 다운로드 되었습니다: {video_file}')\n",
    "    \n",
    "    # 8 오디오 파일 경로와 비디오 파일 경로를 반환\n",
    "    return new_audio_file, video_file"
   ]
  },
  {
   "cell_type": "code",
   "execution_count": null,
   "id": "2bf4f5e8-2af1-4968-90af-a92212b752ed",
   "metadata": {},
   "outputs": [],
   "source": [
    "# Youtube 동영상 '성시경 - 거리에서 [가사/Lyrics]'의 오디오와 비디오 다운로드\n",
    "url ='https://www.youtube.com/watch?v=8WYz-UEcLks&ab_channel=%EC%9B%85%ED%82%A4'\n",
    "audio_file, video_file = get_video_and_audio(url)"
   ]
  }
 ],
 "metadata": {
  "kernelspec": {
   "display_name": "Python 3 (ipykernel)",
   "language": "python",
   "name": "python3"
  },
  "language_info": {
   "codemirror_mode": {
    "name": "ipython",
    "version": 3
   },
   "file_extension": ".py",
   "mimetype": "text/x-python",
   "name": "python",
   "nbconvert_exporter": "python",
   "pygments_lexer": "ipython3",
   "version": "3.11.7"
  }
 },
 "nbformat": 4,
 "nbformat_minor": 5
}
